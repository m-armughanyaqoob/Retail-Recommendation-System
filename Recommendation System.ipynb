{
 "cells": [
  {
   "cell_type": "code",
   "execution_count": 103,
   "id": "effea70f",
   "metadata": {},
   "outputs": [
    {
     "name": "stdout",
     "output_type": "stream",
     "text": [
      "CPU: Intel64 Family 6 Model 78 Stepping 3, GenuineIntel\n"
     ]
    }
   ],
   "source": [
    "import platform\n",
    "\n",
    "# Get the processor information\n",
    "processor = platform.processor()\n",
    "\n",
    "# Print the processor information\n",
    "print(\"CPU:\", processor)"
   ]
  },
  {
   "cell_type": "code",
   "execution_count": 30,
   "id": "4063ec61",
   "metadata": {},
   "outputs": [
    {
     "data": {
      "text/plain": [
       "Index(['article_id', 'product_code', 'prod_name', 'product_type_no',\n",
       "       'product_type_name', 'product_group_name', 'graphical_appearance_no',\n",
       "       'graphical_appearance_name', 'colour_group_code', 'colour_group_name',\n",
       "       'perceived_colour_value_id', 'perceived_colour_value_name',\n",
       "       'perceived_colour_master_id', 'perceived_colour_master_name',\n",
       "       'department_no', 'department_name', 'index_code', 'index_name',\n",
       "       'index_group_no', 'index_group_name', 'section_no', 'section_name',\n",
       "       'garment_group_no', 'garment_group_name', 'detail_desc'],\n",
       "      dtype='object')"
      ]
     },
     "execution_count": 30,
     "metadata": {},
     "output_type": "execute_result"
    }
   ],
   "source": [
    "# DATA LOADING, ANALYSIS AND VISUALIZATION\n",
    "articles = pd.read_csv(\"D:/New folder/FYP/articles.csv\")\n",
    "\n",
    "\n",
    "articles.columns"
   ]
  },
  {
   "cell_type": "code",
   "execution_count": 31,
   "id": "2764269f",
   "metadata": {},
   "outputs": [
    {
     "data": {
      "text/html": [
       "<div>\n",
       "<style scoped>\n",
       "    .dataframe tbody tr th:only-of-type {\n",
       "        vertical-align: middle;\n",
       "    }\n",
       "\n",
       "    .dataframe tbody tr th {\n",
       "        vertical-align: top;\n",
       "    }\n",
       "\n",
       "    .dataframe thead th {\n",
       "        text-align: right;\n",
       "    }\n",
       "</style>\n",
       "<table border=\"1\" class=\"dataframe\">\n",
       "  <thead>\n",
       "    <tr style=\"text-align: right;\">\n",
       "      <th></th>\n",
       "      <th>article_id</th>\n",
       "      <th>product_code</th>\n",
       "      <th>prod_name</th>\n",
       "      <th>product_type_no</th>\n",
       "      <th>product_type_name</th>\n",
       "      <th>product_group_name</th>\n",
       "      <th>graphical_appearance_no</th>\n",
       "      <th>graphical_appearance_name</th>\n",
       "      <th>colour_group_code</th>\n",
       "      <th>colour_group_name</th>\n",
       "      <th>...</th>\n",
       "      <th>department_name</th>\n",
       "      <th>index_code</th>\n",
       "      <th>index_name</th>\n",
       "      <th>index_group_no</th>\n",
       "      <th>index_group_name</th>\n",
       "      <th>section_no</th>\n",
       "      <th>section_name</th>\n",
       "      <th>garment_group_no</th>\n",
       "      <th>garment_group_name</th>\n",
       "      <th>detail_desc</th>\n",
       "    </tr>\n",
       "  </thead>\n",
       "  <tbody>\n",
       "    <tr>\n",
       "      <th>0</th>\n",
       "      <td>108775015</td>\n",
       "      <td>108775</td>\n",
       "      <td>Strap top</td>\n",
       "      <td>253</td>\n",
       "      <td>Vest top</td>\n",
       "      <td>Garment Upper body</td>\n",
       "      <td>1010016</td>\n",
       "      <td>Solid</td>\n",
       "      <td>9</td>\n",
       "      <td>Black</td>\n",
       "      <td>...</td>\n",
       "      <td>Jersey Basic</td>\n",
       "      <td>A</td>\n",
       "      <td>Ladieswear</td>\n",
       "      <td>1</td>\n",
       "      <td>Ladieswear</td>\n",
       "      <td>16</td>\n",
       "      <td>Womens Everyday Basics</td>\n",
       "      <td>1002</td>\n",
       "      <td>Jersey Basic</td>\n",
       "      <td>Jersey top with narrow shoulder straps.</td>\n",
       "    </tr>\n",
       "    <tr>\n",
       "      <th>1</th>\n",
       "      <td>108775044</td>\n",
       "      <td>108775</td>\n",
       "      <td>Strap top</td>\n",
       "      <td>253</td>\n",
       "      <td>Vest top</td>\n",
       "      <td>Garment Upper body</td>\n",
       "      <td>1010016</td>\n",
       "      <td>Solid</td>\n",
       "      <td>10</td>\n",
       "      <td>White</td>\n",
       "      <td>...</td>\n",
       "      <td>Jersey Basic</td>\n",
       "      <td>A</td>\n",
       "      <td>Ladieswear</td>\n",
       "      <td>1</td>\n",
       "      <td>Ladieswear</td>\n",
       "      <td>16</td>\n",
       "      <td>Womens Everyday Basics</td>\n",
       "      <td>1002</td>\n",
       "      <td>Jersey Basic</td>\n",
       "      <td>Jersey top with narrow shoulder straps.</td>\n",
       "    </tr>\n",
       "    <tr>\n",
       "      <th>2</th>\n",
       "      <td>108775051</td>\n",
       "      <td>108775</td>\n",
       "      <td>Strap top (1)</td>\n",
       "      <td>253</td>\n",
       "      <td>Vest top</td>\n",
       "      <td>Garment Upper body</td>\n",
       "      <td>1010017</td>\n",
       "      <td>Stripe</td>\n",
       "      <td>11</td>\n",
       "      <td>Off White</td>\n",
       "      <td>...</td>\n",
       "      <td>Jersey Basic</td>\n",
       "      <td>A</td>\n",
       "      <td>Ladieswear</td>\n",
       "      <td>1</td>\n",
       "      <td>Ladieswear</td>\n",
       "      <td>16</td>\n",
       "      <td>Womens Everyday Basics</td>\n",
       "      <td>1002</td>\n",
       "      <td>Jersey Basic</td>\n",
       "      <td>Jersey top with narrow shoulder straps.</td>\n",
       "    </tr>\n",
       "  </tbody>\n",
       "</table>\n",
       "<p>3 rows × 25 columns</p>\n",
       "</div>"
      ],
      "text/plain": [
       "   article_id  product_code      prod_name  product_type_no product_type_name  \\\n",
       "0   108775015        108775      Strap top              253          Vest top   \n",
       "1   108775044        108775      Strap top              253          Vest top   \n",
       "2   108775051        108775  Strap top (1)              253          Vest top   \n",
       "\n",
       "   product_group_name  graphical_appearance_no graphical_appearance_name  \\\n",
       "0  Garment Upper body                  1010016                     Solid   \n",
       "1  Garment Upper body                  1010016                     Solid   \n",
       "2  Garment Upper body                  1010017                    Stripe   \n",
       "\n",
       "   colour_group_code colour_group_name  ...  department_name index_code  \\\n",
       "0                  9             Black  ...     Jersey Basic          A   \n",
       "1                 10             White  ...     Jersey Basic          A   \n",
       "2                 11         Off White  ...     Jersey Basic          A   \n",
       "\n",
       "   index_name index_group_no  index_group_name section_no  \\\n",
       "0  Ladieswear              1        Ladieswear         16   \n",
       "1  Ladieswear              1        Ladieswear         16   \n",
       "2  Ladieswear              1        Ladieswear         16   \n",
       "\n",
       "             section_name garment_group_no  garment_group_name  \\\n",
       "0  Womens Everyday Basics             1002        Jersey Basic   \n",
       "1  Womens Everyday Basics             1002        Jersey Basic   \n",
       "2  Womens Everyday Basics             1002        Jersey Basic   \n",
       "\n",
       "                               detail_desc  \n",
       "0  Jersey top with narrow shoulder straps.  \n",
       "1  Jersey top with narrow shoulder straps.  \n",
       "2  Jersey top with narrow shoulder straps.  \n",
       "\n",
       "[3 rows x 25 columns]"
      ]
     },
     "execution_count": 31,
     "metadata": {},
     "output_type": "execute_result"
    }
   ],
   "source": [
    "articles.head(3)"
   ]
  },
  {
   "cell_type": "code",
   "execution_count": 32,
   "id": "ee6cfaaf",
   "metadata": {},
   "outputs": [
    {
     "data": {
      "image/png": "[encoded data removed]",
      "text/plain": [
       "<Figure size 1500x700 with 1 Axes>"
      ]
     },
     "metadata": {},
     "output_type": "display_data"
    }
   ],
   "source": [
    "f, ax = plt.subplots(figsize=(15, 7))\n",
    "ax = sns.histplot(data=articles, y='index_name', color='orange')\n",
    "ax.set_xlabel('count by index name')\n",
    "ax.set_ylabel('index name')\n",
    "plt.show()"
   ]
  },
  {
   "cell_type": "code",
   "execution_count": 33,
   "id": "937e73b0",
   "metadata": {},
   "outputs": [
    {
     "data": {
      "application/vnd.plotly.v1+json": {
       "config": {
        "plotlyServerURL": "https://plot.ly"
       },
       "data": [
        {
         "branchvalues": "total",
         "domain": {
          "x": [
           0,
           1
          ],
          "y": [
           0,
           1
          ]
         },
         "hovertemplate": "labels=%{label}<br>count=%{value}<br>parent=%{parent}<br>id=%{id}<extra></extra>",
         "ids": [
          "Baby/Children/Baby Sizes 50-98",
          "Baby/Children/Children Accessories, Swimwear",
          "Baby/Children/Children Sizes 134-170",
          "Baby/Children/Children Sizes 92-140",
          "Divided/Divided",
          "Ladieswear/Ladies Accessories",
          "Ladieswear/Ladieswear",
          "Ladieswear/Lingeries/Tights",
          "Menswear/Menswear",
          "Sport/Sport",
          "Baby/Children",
          "Divided",
          "Ladieswear",
          "Menswear",
          "Sport"
         ],
         "labels": [
          "Baby Sizes 50-98",
          "Children Accessories, Swimwear",
          "Children Sizes 134-170",
          "Children Sizes 92-140",
          "Divided",
          "Ladies Accessories",
          "Ladieswear",
          "Lingeries/Tights",
          "Menswear",
          "Sport",
          "Baby/Children",
          "Divided",
          "Ladieswear",
          "Menswear",
          "Sport"
         ],
         "name": "",
         "parents": [
          "Baby/Children",
          "Baby/Children",
          "Baby/Children",
          "Baby/Children",
          "Divided",
          "Ladieswear",
          "Ladieswear",
          "Ladieswear",
          "Menswear",
          "Sport",
          "",
          "",
          "",
          "",
          ""
         ],
         "type": "sunburst",
         "values": [
          8875,
          4615,
          9214,
          12007,
          15149,
          6961,
          26001,
          6775,
          12553,
          3392,
          34711,
          15149,
          39737,
          12553,
          3392
         ]
        }
       ],
       "layout": {
        "height": 800,
        "legend": {
         "tracegroupgap": 0
        },
        "margin": {
         "t": 60
        },
        "sunburstcolorway": [
         "#313131",
         "#3d019d",
         "#3810dc",
         "#2d47f9",
         "#2593ff",
         "#2adef6",
         "#60fdfa",
         "#aefdff",
         "#f3f3f1",
         "#fffda9",
         "#fafd5b",
         "#f7da29",
         "#ff8e25",
         "#f8432d",
         "#d90d39",
         "#97023d",
         "#313131"
        ],
        "template": {
         "data": {
          "bar": [
           {
            "error_x": {
             "color": "#2a3f5f"
            },
            "error_y": {
             "color": "#2a3f5f"
            },
            "marker": {
             "line": {
              "color": "#E5ECF6",
              "width": 0.5
             },
             "pattern": {
              "fillmode": "overlay",
              "size": 10,
              "solidity": 0.2
             }
            },
            "type": "bar"
           }
          ],
          "barpolar": [
           {
            "marker": {
             "line": {
              "color": "#E5ECF6",
              "width": 0.5
             },
             "pattern": {
              "fillmode": "overlay",
              "size": 10,
              "solidity": 0.2
             }
            },
            "type": "barpolar"
           }
          ],
          "carpet": [
           {
            "aaxis": {
             "endlinecolor": "#2a3f5f",
             "gridcolor": "white",
             "linecolor": "white",
             "minorgridcolor": "white",
             "startlinecolor": "#2a3f5f"
            },
            "baxis": {
             "endlinecolor": "#2a3f5f",
             "gridcolor": "white",
             "linecolor": "white",
             "minorgridcolor": "white",
             "startlinecolor": "#2a3f5f"
            },
            "type": "carpet"
           }
          ],
          "choropleth": [
           {
            "colorbar": {
             "outlinewidth": 0,
             "ticks": ""
            },
            "type": "choropleth"
           }
          ],
          "contour": [
           {
            "colorbar": {
             "outlinewidth": 0,
             "ticks": ""
            },
            "colorscale": [
             [
              0,
              "#0d0887"
             ],
             [
              0.1111111111111111,
              "#46039f"
             ],
             [
              0.2222222222222222,
              "#7201a8"
             ],
             [
              0.3333333333333333,
              "#9c179e"
             ],
             [
              0.4444444444444444,
              "#bd3786"
             ],
             [
              0.5555555555555556,
              "#d8576b"
             ],
             [
              0.6666666666666666,
              "#ed7953"
             ],
             [
              0.7777777777777778,
              "#fb9f3a"
             ],
             [
              0.8888888888888888,
              "#fdca26"
             ],
             [
              1,
              "#f0f921"
             ]
            ],
            "type": "contour"
           }
          ],
          "contourcarpet": [
           {
            "colorbar": {
             "outlinewidth": 0,
             "ticks": ""
            },
            "type": "contourcarpet"
           }
          ],
          "heatmap": [
           {
            "colorbar": {
             "outlinewidth": 0,
             "ticks": ""
            },
            "colorscale": [
             [
              0,
              "#0d0887"
             ],
             [
              0.1111111111111111,
              "#46039f"
             ],
             [
              0.2222222222222222,
              "#7201a8"
             ],
             [
              0.3333333333333333,
              "#9c179e"
             ],
             [
              0.4444444444444444,
              "#bd3786"
             ],
             [
              0.5555555555555556,
              "#d8576b"
             ],
             [
              0.6666666666666666,
              "#ed7953"
             ],
             [
              0.7777777777777778,
              "#fb9f3a"
             ],
             [
              0.8888888888888888,
              "#fdca26"
             ],
             [
              1,
              "#f0f921"
             ]
            ],
            "type": "heatmap"
           }
          ],
          "heatmapgl": [
           {
            "colorbar": {
             "outlinewidth": 0,
             "ticks": ""
            },
            "colorscale": [
             [
              0,
              "#0d0887"
             ],
             [
              0.1111111111111111,
              "#46039f"
             ],
             [
              0.2222222222222222,
              "#7201a8"
             ],
             [
              0.3333333333333333,
              "#9c179e"
             ],
             [
              0.4444444444444444,
              "#bd3786"
             ],
             [
              0.5555555555555556,
              "#d8576b"
             ],
             [
              0.6666666666666666,
              "#ed7953"
             ],
             [
              0.7777777777777778,
              "#fb9f3a"
             ],
             [
              0.8888888888888888,
              "#fdca26"
             ],
             [
              1,
              "#f0f921"
             ]
            ],
            "type": "heatmapgl"
           }
          ],
          "histogram": [
           {
            "marker": {
             "pattern": {
              "fillmode": "overlay",
              "size": 10,
              "solidity": 0.2
             }
            },
            "type": "histogram"
           }
          ],
          "histogram2d": [
           {
            "colorbar": {
             "outlinewidth": 0,
             "ticks": ""
            },
            "colorscale": [
             [
              0,
              "#0d0887"
             ],
             [
              0.1111111111111111,
              "#46039f"
             ],
             [
              0.2222222222222222,
              "#7201a8"
             ],
             [
              0.3333333333333333,
              "#9c179e"
             ],
             [
              0.4444444444444444,
              "#bd3786"
             ],
             [
              0.5555555555555556,
              "#d8576b"
             ],
             [
              0.6666666666666666,
              "#ed7953"
             ],
             [
              0.7777777777777778,
              "#fb9f3a"
             ],
             [
              0.8888888888888888,
              "#fdca26"
             ],
             [
              1,
              "#f0f921"
             ]
            ],
            "type": "histogram2d"
           }
          ],
          "histogram2dcontour": [
           {
            "colorbar": {
             "outlinewidth": 0,
             "ticks": ""
            },
            "colorscale": [
             [
              0,
              "#0d0887"
             ],
             [
              0.1111111111111111,
              "#46039f"
             ],
             [
              0.2222222222222222,
              "#7201a8"
             ],
             [
              0.3333333333333333,
              "#9c179e"
             ],
             [
              0.4444444444444444,
              "#bd3786"
             ],
             [
              0.5555555555555556,
              "#d8576b"
             ],
             [
              0.6666666666666666,
              "#ed7953"
             ],
             [
              0.7777777777777778,
              "#fb9f3a"
             ],
             [
              0.8888888888888888,
              "#fdca26"
             ],
             [
              1,
              "#f0f921"
             ]
            ],
            "type": "histogram2dcontour"
           }
          ],
          "mesh3d": [
           {
            "colorbar": {
             "outlinewidth": 0,
             "ticks": ""
            },
            "type": "mesh3d"
           }
          ],
          "parcoords": [
           {
            "line": {
             "colorbar": {
              "outlinewidth": 0,
              "ticks": ""
             }
            },
            "type": "parcoords"
           }
          ],
          "pie": [
           {
            "automargin": true,
            "type": "pie"
           }
          ],
          "scatter": [
           {
            "fillpattern": {
             "fillmode": "overlay",
             "size": 10,
             "solidity": 0.2
            },
            "type": "scatter"
           }
          ],
          "scatter3d": [
           {
            "line": {
             "colorbar": {
              "outlinewidth": 0,
              "ticks": ""
             }
            },
            "marker": {
             "colorbar": {
              "outlinewidth": 0,
              "ticks": ""
             }
            },
            "type": "scatter3d"
           }
          ],
          "scattercarpet": [
           {
            "marker": {
             "colorbar": {
              "outlinewidth": 0,
              "ticks": ""
             }
            },
            "type": "scattercarpet"
           }
          ],
          "scattergeo": [
           {
            "marker": {
             "colorbar": {
              "outlinewidth": 0,
              "ticks": ""
             }
            },
            "type": "scattergeo"
           }
          ],
          "scattergl": [
           {
            "marker": {
             "colorbar": {
              "outlinewidth": 0,
              "ticks": ""
             }
            },
            "type": "scattergl"
           }
          ],
          "scattermapbox": [
           {
            "marker": {
             "colorbar": {
              "outlinewidth": 0,
              "ticks": ""
             }
            },
            "type": "scattermapbox"
           }
          ],
          "scatterpolar": [
           {
            "marker": {
             "colorbar": {
              "outlinewidth": 0,
              "ticks": ""
             }
            },
            "type": "scatterpolar"
           }
          ],
          "scatterpolargl": [
           {
            "marker": {
             "colorbar": {
              "outlinewidth": 0,
              "ticks": ""
             }
            },
            "type": "scatterpolargl"
           }
          ],
          "scatterternary": [
           {
            "marker": {
             "colorbar": {
              "outlinewidth": 0,
              "ticks": ""
             }
            },
            "type": "scatterternary"
           }
          ],
          "surface": [
           {
            "colorbar": {
             "outlinewidth": 0,
             "ticks": ""
            },
            "colorscale": [
             [
              0,
              "#0d0887"
             ],
             [
              0.1111111111111111,
              "#46039f"
             ],
             [
              0.2222222222222222,
              "#7201a8"
             ],
             [
              0.3333333333333333,
              "#9c179e"
             ],
             [
              0.4444444444444444,
              "#bd3786"
             ],
             [
              0.5555555555555556,
              "#d8576b"
             ],
             [
              0.6666666666666666,
              "#ed7953"
             ],
             [
              0.7777777777777778,
              "#fb9f3a"
             ],
             [
              0.8888888888888888,
              "#fdca26"
             ],
             [
              1,
              "#f0f921"
             ]
            ],
            "type": "surface"
           }
          ],
          "table": [
           {
            "cells": {
             "fill": {
              "color": "#EBF0F8"
             },
             "line": {
              "color": "white"
             }
            },
            "header": {
             "fill": {
              "color": "#C8D4E3"
             },
             "line": {
              "color": "white"
             }
            },
            "type": "table"
           }
          ]
         },
         "layout": {
          "annotationdefaults": {
           "arrowcolor": "#2a3f5f",
           "arrowhead": 0,
           "arrowwidth": 1
          },
          "autotypenumbers": "strict",
          "coloraxis": {
           "colorbar": {
            "outlinewidth": 0,
            "ticks": ""
           }
          },
          "colorscale": {
           "diverging": [
            [
             0,
             "#8e0152"
            ],
            [
             0.1,
             "#c51b7d"
            ],
            [
             0.2,
             "#de77ae"
            ],
            [
             0.3,
             "#f1b6da"
            ],
            [
             0.4,
             "#fde0ef"
            ],
            [
             0.5,
             "#f7f7f7"
            ],
            [
             0.6,
             "#e6f5d0"
            ],
            [
             0.7,
             "#b8e186"
            ],
            [
             0.8,
             "#7fbc41"
            ],
            [
             0.9,
             "#4d9221"
            ],
            [
             1,
             "#276419"
            ]
           ],
           "sequential": [
            [
             0,
             "#0d0887"
            ],
            [
             0.1111111111111111,
             "#46039f"
            ],
            [
             0.2222222222222222,
             "#7201a8"
            ],
            [
             0.3333333333333333,
             "#9c179e"
            ],
            [
             0.4444444444444444,
             "#bd3786"
            ],
            [
             0.5555555555555556,
             "#d8576b"
            ],
            [
             0.6666666666666666,
             "#ed7953"
            ],
            [
             0.7777777777777778,
             "#fb9f3a"
            ],
            [
             0.8888888888888888,
             "#fdca26"
            ],
            [
             1,
             "#f0f921"
            ]
           ],
           "sequentialminus": [
            [
             0,
             "#0d0887"
            ],
            [
             0.1111111111111111,
             "#46039f"
            ],
            [
             0.2222222222222222,
             "#7201a8"
            ],
            [
             0.3333333333333333,
             "#9c179e"
            ],
            [
             0.4444444444444444,
             "#bd3786"
            ],
            [
             0.5555555555555556,
             "#d8576b"
            ],
            [
             0.6666666666666666,
             "#ed7953"
            ],
            [
             0.7777777777777778,
             "#fb9f3a"
            ],
            [
             0.8888888888888888,
             "#fdca26"
            ],
            [
             1,
             "#f0f921"
            ]
           ]
          },
          "colorway": [
           "#636efa",
           "#EF553B",
           "#00cc96",
           "#ab63fa",
           "#FFA15A",
           "#19d3f3",
           "#FF6692",
           "#B6E880",
           "#FF97FF",
           "#FECB52"
          ],
          "font": {
           "color": "#2a3f5f"
          },
          "geo": {
           "bgcolor": "white",
           "lakecolor": "white",
           "landcolor": "#E5ECF6",
           "showlakes": true,
           "showland": true,
           "subunitcolor": "white"
          },
          "hoverlabel": {
           "align": "left"
          },
          "hovermode": "closest",
          "mapbox": {
           "style": "light"
          },
          "paper_bgcolor": "white",
          "plot_bgcolor": "#E5ECF6",
          "polar": {
           "angularaxis": {
            "gridcolor": "white",
            "linecolor": "white",
            "ticks": ""
           },
           "bgcolor": "#E5ECF6",
           "radialaxis": {
            "gridcolor": "white",
            "linecolor": "white",
            "ticks": ""
           }
          },
          "scene": {
           "xaxis": {
            "backgroundcolor": "#E5ECF6",
            "gridcolor": "white",
            "gridwidth": 2,
            "linecolor": "white",
            "showbackground": true,
            "ticks": "",
            "zerolinecolor": "white"
           },
           "yaxis": {
            "backgroundcolor": "#E5ECF6",
            "gridcolor": "white",
            "gridwidth": 2,
            "linecolor": "white",
            "showbackground": true,
            "ticks": "",
            "zerolinecolor": "white"
           },
           "zaxis": {
            "backgroundcolor": "#E5ECF6",
            "gridcolor": "white",
            "gridwidth": 2,
            "linecolor": "white",
            "showbackground": true,
            "ticks": "",
            "zerolinecolor": "white"
           }
          },
          "shapedefaults": {
           "line": {
            "color": "#2a3f5f"
           }
          },
          "ternary": {
           "aaxis": {
            "gridcolor": "white",
            "linecolor": "white",
            "ticks": ""
           },
           "baxis": {
            "gridcolor": "white",
            "linecolor": "white",
            "ticks": ""
           },
           "bgcolor": "#E5ECF6",
           "caxis": {
            "gridcolor": "white",
            "linecolor": "white",
            "ticks": ""
           }
          },
          "title": {
           "x": 0.05
          },
          "xaxis": {
           "automargin": true,
           "gridcolor": "white",
           "linecolor": "white",
           "ticks": "",
           "title": {
            "standoff": 15
           },
           "zerolinecolor": "white",
           "zerolinewidth": 2
          },
          "yaxis": {
           "automargin": true,
           "gridcolor": "white",
           "linecolor": "white",
           "ticks": "",
           "title": {
            "standoff": 15
           },
           "zerolinecolor": "white",
           "zerolinewidth": 2
          }
         }
        },
        "width": 800
       }
      },
      "text/html": [
       "<div>                            <div id=\"a10a5062-a198-482d-bbf6-c56f174ff292\" class=\"plotly-graph-div\" style=\"height:800px; width:800px;\"></div>            <script type=\"text/javascript\">                require([\"plotly\"], function(Plotly) {                    window.PLOTLYENV=window.PLOTLYENV || {};                                    if (document.getElementById(\"a10a5062-a198-482d-bbf6-c56f174ff292\")) {                    Plotly.newPlot(                        \"a10a5062-a198-482d-bbf6-c56f174ff292\",                        [{\"branchvalues\":\"total\",\"domain\":{\"x\":[0.0,1.0],\"y\":[0.0,1.0]},\"hovertemplate\":\"labels=%{label}<br>count=%{value}<br>parent=%{parent}<br>id=%{id}<extra></extra>\",\"ids\":[\"Baby/Children/Baby Sizes 50-98\",\"Baby/Children/Children Accessories, Swimwear\",\"Baby/Children/Children Sizes 134-170\",\"Baby/Children/Children Sizes 92-140\",\"Divided/Divided\",\"Ladieswear/Ladies Accessories\",\"Ladieswear/Ladieswear\",\"Ladieswear/Lingeries/Tights\",\"Menswear/Menswear\",\"Sport/Sport\",\"Baby/Children\",\"Divided\",\"Ladieswear\",\"Menswear\",\"Sport\"],\"labels\":[\"Baby Sizes 50-98\",\"Children Accessories, Swimwear\",\"Children Sizes 134-170\",\"Children Sizes 92-140\",\"Divided\",\"Ladies Accessories\",\"Ladieswear\",\"Lingeries/Tights\",\"Menswear\",\"Sport\",\"Baby/Children\",\"Divided\",\"Ladieswear\",\"Menswear\",\"Sport\"],\"name\":\"\",\"parents\":[\"Baby/Children\",\"Baby/Children\",\"Baby/Children\",\"Baby/Children\",\"Divided\",\"Ladieswear\",\"Ladieswear\",\"Ladieswear\",\"Menswear\",\"Sport\",\"\",\"\",\"\",\"\",\"\"],\"values\":[8875,4615,9214,12007,15149,6961,26001,6775,12553,3392,34711,15149,39737,12553,3392],\"type\":\"sunburst\"}],                        {\"template\":{\"data\":{\"histogram2dcontour\":[{\"type\":\"histogram2dcontour\",\"colorbar\":{\"outlinewidth\":0,\"ticks\":\"\"},\"colorscale\":[[0.0,\"#0d0887\"],[0.1111111111111111,\"#46039f\"],[0.2222222222222222,\"#7201a8\"],[0.3333333333333333,\"#9c179e\"],[0.4444444444444444,\"#bd3786\"],[0.5555555555555556,\"#d8576b\"],[0.6666666666666666,\"#ed7953\"],[0.7777777777777778,\"#fb9f3a\"],[0.8888888888888888,\"#fdca26\"],[1.0,\"#f0f921\"]]}],\"choropleth\":[{\"type\":\"choropleth\",\"colorbar\":{\"outlinewidth\":0,\"ticks\":\"\"}}],\"histogram2d\":[{\"type\":\"histogram2d\",\"colorbar\":{\"outlinewidth\":0,\"ticks\":\"\"},\"colorscale\":[[0.0,\"#0d0887\"],[0.1111111111111111,\"#46039f\"],[0.2222222222222222,\"#7201a8\"],[0.3333333333333333,\"#9c179e\"],[0.4444444444444444,\"#bd3786\"],[0.5555555555555556,\"#d8576b\"],[0.6666666666666666,\"#ed7953\"],[0.7777777777777778,\"#fb9f3a\"],[0.8888888888888888,\"#fdca26\"],[1.0,\"#f0f921\"]]}],\"heatmap\":[{\"type\":\"heatmap\",\"colorbar\":{\"outlinewidth\":0,\"ticks\":\"\"},\"colorscale\":[[0.0,\"#0d0887\"],[0.1111111111111111,\"#46039f\"],[0.2222222222222222,\"#7201a8\"],[0.3333333333333333,\"#9c179e\"],[0.4444444444444444,\"#bd3786\"],[0.5555555555555556,\"#d8576b\"],[0.6666666666666666,\"#ed7953\"],[0.7777777777777778,\"#fb9f3a\"],[0.8888888888888888,\"#fdca26\"],[1.0,\"#f0f921\"]]}],\"heatmapgl\":[{\"type\":\"heatmapgl\",\"colorbar\":{\"outlinewidth\":0,\"ticks\":\"\"},\"colorscale\":[[0.0,\"#0d0887\"],[0.1111111111111111,\"#46039f\"],[0.2222222222222222,\"#7201a8\"],[0.3333333333333333,\"#9c179e\"],[0.4444444444444444,\"#bd3786\"],[0.5555555555555556,\"#d8576b\"],[0.6666666666666666,\"#ed7953\"],[0.7777777777777778,\"#fb9f3a\"],[0.8888888888888888,\"#fdca26\"],[1.0,\"#f0f921\"]]}],\"contourcarpet\":[{\"type\":\"contourcarpet\",\"colorbar\":{\"outlinewidth\":0,\"ticks\":\"\"}}],\"contour\":[{\"type\":\"contour\",\"colorbar\":{\"outlinewidth\":0,\"ticks\":\"\"},\"colorscale\":[[0.0,\"#0d0887\"],[0.1111111111111111,\"#46039f\"],[0.2222222222222222,\"#7201a8\"],[0.3333333333333333,\"#9c179e\"],[0.4444444444444444,\"#bd3786\"],[0.5555555555555556,\"#d8576b\"],[0.6666666666666666,\"#ed7953\"],[0.7777777777777778,\"#fb9f3a\"],[0.8888888888888888,\"#fdca26\"],[1.0,\"#f0f921\"]]}],\"surface\":[{\"type\":\"surface\",\"colorbar\":{\"outlinewidth\":0,\"ticks\":\"\"},\"colorscale\":[[0.0,\"#0d0887\"],[0.1111111111111111,\"#46039f\"],[0.2222222222222222,\"#7201a8\"],[0.3333333333333333,\"#9c179e\"],[0.4444444444444444,\"#bd3786\"],[0.5555555555555556,\"#d8576b\"],[0.6666666666666666,\"#ed7953\"],[0.7777777777777778,\"#fb9f3a\"],[0.8888888888888888,\"#fdca26\"],[1.0,\"#f0f921\"]]}],\"mesh3d\":[{\"type\":\"mesh3d\",\"colorbar\":{\"outlinewidth\":0,\"ticks\":\"\"}}],\"scatter\":[{\"fillpattern\":{\"fillmode\":\"overlay\",\"size\":10,\"solidity\":0.2},\"type\":\"scatter\"}],\"parcoords\":[{\"type\":\"parcoords\",\"line\":{\"colorbar\":{\"outlinewidth\":0,\"ticks\":\"\"}}}],\"scatterpolargl\":[{\"type\":\"scatterpolargl\",\"marker\":{\"colorbar\":{\"outlinewidth\":0,\"ticks\":\"\"}}}],\"bar\":[{\"error_x\":{\"color\":\"#2a3f5f\"},\"error_y\":{\"color\":\"#2a3f5f\"},\"marker\":{\"line\":{\"color\":\"#E5ECF6\",\"width\":0.5},\"pattern\":{\"fillmode\":\"overlay\",\"size\":10,\"solidity\":0.2}},\"type\":\"bar\"}],\"scattergeo\":[{\"type\":\"scattergeo\",\"marker\":{\"colorbar\":{\"outlinewidth\":0,\"ticks\":\"\"}}}],\"scatterpolar\":[{\"type\":\"scatterpolar\",\"marker\":{\"colorbar\":{\"outlinewidth\":0,\"ticks\":\"\"}}}],\"histogram\":[{\"marker\":{\"pattern\":{\"fillmode\":\"overlay\",\"size\":10,\"solidity\":0.2}},\"type\":\"histogram\"}],\"scattergl\":[{\"type\":\"scattergl\",\"marker\":{\"colorbar\":{\"outlinewidth\":0,\"ticks\":\"\"}}}],\"scatter3d\":[{\"type\":\"scatter3d\",\"line\":{\"colorbar\":{\"outlinewidth\":0,\"ticks\":\"\"}},\"marker\":{\"colorbar\":{\"outlinewidth\":0,\"ticks\":\"\"}}}],\"scattermapbox\":[{\"type\":\"scattermapbox\",\"marker\":{\"colorbar\":{\"outlinewidth\":0,\"ticks\":\"\"}}}],\"scatterternary\":[{\"type\":\"scatterternary\",\"marker\":{\"colorbar\":{\"outlinewidth\":0,\"ticks\":\"\"}}}],\"scattercarpet\":[{\"type\":\"scattercarpet\",\"marker\":{\"colorbar\":{\"outlinewidth\":0,\"ticks\":\"\"}}}],\"carpet\":[{\"aaxis\":{\"endlinecolor\":\"#2a3f5f\",\"gridcolor\":\"white\",\"linecolor\":\"white\",\"minorgridcolor\":\"white\",\"startlinecolor\":\"#2a3f5f\"},\"baxis\":{\"endlinecolor\":\"#2a3f5f\",\"gridcolor\":\"white\",\"linecolor\":\"white\",\"minorgridcolor\":\"white\",\"startlinecolor\":\"#2a3f5f\"},\"type\":\"carpet\"}],\"table\":[{\"cells\":{\"fill\":{\"color\":\"#EBF0F8\"},\"line\":{\"color\":\"white\"}},\"header\":{\"fill\":{\"color\":\"#C8D4E3\"},\"line\":{\"color\":\"white\"}},\"type\":\"table\"}],\"barpolar\":[{\"marker\":{\"line\":{\"color\":\"#E5ECF6\",\"width\":0.5},\"pattern\":{\"fillmode\":\"overlay\",\"size\":10,\"solidity\":0.2}},\"type\":\"barpolar\"}],\"pie\":[{\"automargin\":true,\"type\":\"pie\"}]},\"layout\":{\"autotypenumbers\":\"strict\",\"colorway\":[\"#636efa\",\"#EF553B\",\"#00cc96\",\"#ab63fa\",\"#FFA15A\",\"#19d3f3\",\"#FF6692\",\"#B6E880\",\"#FF97FF\",\"#FECB52\"],\"font\":{\"color\":\"#2a3f5f\"},\"hovermode\":\"closest\",\"hoverlabel\":{\"align\":\"left\"},\"paper_bgcolor\":\"white\",\"plot_bgcolor\":\"#E5ECF6\",\"polar\":{\"bgcolor\":\"#E5ECF6\",\"angularaxis\":{\"gridcolor\":\"white\",\"linecolor\":\"white\",\"ticks\":\"\"},\"radialaxis\":{\"gridcolor\":\"white\",\"linecolor\":\"white\",\"ticks\":\"\"}},\"ternary\":{\"bgcolor\":\"#E5ECF6\",\"aaxis\":{\"gridcolor\":\"white\",\"linecolor\":\"white\",\"ticks\":\"\"},\"baxis\":{\"gridcolor\":\"white\",\"linecolor\":\"white\",\"ticks\":\"\"},\"caxis\":{\"gridcolor\":\"white\",\"linecolor\":\"white\",\"ticks\":\"\"}},\"coloraxis\":{\"colorbar\":{\"outlinewidth\":0,\"ticks\":\"\"}},\"colorscale\":{\"sequential\":[[0.0,\"#0d0887\"],[0.1111111111111111,\"#46039f\"],[0.2222222222222222,\"#7201a8\"],[0.3333333333333333,\"#9c179e\"],[0.4444444444444444,\"#bd3786\"],[0.5555555555555556,\"#d8576b\"],[0.6666666666666666,\"#ed7953\"],[0.7777777777777778,\"#fb9f3a\"],[0.8888888888888888,\"#fdca26\"],[1.0,\"#f0f921\"]],\"sequentialminus\":[[0.0,\"#0d0887\"],[0.1111111111111111,\"#46039f\"],[0.2222222222222222,\"#7201a8\"],[0.3333333333333333,\"#9c179e\"],[0.4444444444444444,\"#bd3786\"],[0.5555555555555556,\"#d8576b\"],[0.6666666666666666,\"#ed7953\"],[0.7777777777777778,\"#fb9f3a\"],[0.8888888888888888,\"#fdca26\"],[1.0,\"#f0f921\"]],\"diverging\":[[0,\"#8e0152\"],[0.1,\"#c51b7d\"],[0.2,\"#de77ae\"],[0.3,\"#f1b6da\"],[0.4,\"#fde0ef\"],[0.5,\"#f7f7f7\"],[0.6,\"#e6f5d0\"],[0.7,\"#b8e186\"],[0.8,\"#7fbc41\"],[0.9,\"#4d9221\"],[1,\"#276419\"]]},\"xaxis\":{\"gridcolor\":\"white\",\"linecolor\":\"white\",\"ticks\":\"\",\"title\":{\"standoff\":15},\"zerolinecolor\":\"white\",\"automargin\":true,\"zerolinewidth\":2},\"yaxis\":{\"gridcolor\":\"white\",\"linecolor\":\"white\",\"ticks\":\"\",\"title\":{\"standoff\":15},\"zerolinecolor\":\"white\",\"automargin\":true,\"zerolinewidth\":2},\"scene\":{\"xaxis\":{\"backgroundcolor\":\"#E5ECF6\",\"gridcolor\":\"white\",\"linecolor\":\"white\",\"showbackground\":true,\"ticks\":\"\",\"zerolinecolor\":\"white\",\"gridwidth\":2},\"yaxis\":{\"backgroundcolor\":\"#E5ECF6\",\"gridcolor\":\"white\",\"linecolor\":\"white\",\"showbackground\":true,\"ticks\":\"\",\"zerolinecolor\":\"white\",\"gridwidth\":2},\"zaxis\":{\"backgroundcolor\":\"#E5ECF6\",\"gridcolor\":\"white\",\"linecolor\":\"white\",\"showbackground\":true,\"ticks\":\"\",\"zerolinecolor\":\"white\",\"gridwidth\":2}},\"shapedefaults\":{\"line\":{\"color\":\"#2a3f5f\"}},\"annotationdefaults\":{\"arrowcolor\":\"#2a3f5f\",\"arrowhead\":0,\"arrowwidth\":1},\"geo\":{\"bgcolor\":\"white\",\"landcolor\":\"#E5ECF6\",\"subunitcolor\":\"white\",\"showland\":true,\"showlakes\":true,\"lakecolor\":\"white\"},\"title\":{\"x\":0.05},\"mapbox\":{\"style\":\"light\"}}},\"legend\":{\"tracegroupgap\":0},\"margin\":{\"t\":60},\"sunburstcolorway\":[\"#313131\",\"#3d019d\",\"#3810dc\",\"#2d47f9\",\"#2593ff\",\"#2adef6\",\"#60fdfa\",\"#aefdff\",\"#f3f3f1\",\"#fffda9\",\"#fafd5b\",\"#f7da29\",\"#ff8e25\",\"#f8432d\",\"#d90d39\",\"#97023d\",\"#313131\"],\"height\":800,\"width\":800},                        {\"responsive\": true}                    ).then(function(){\n",
       "                            \n",
       "var gd = document.getElementById('a10a5062-a198-482d-bbf6-c56f174ff292');\n",
       "var x = new MutationObserver(function (mutations, observer) {{\n",
       "        var display = window.getComputedStyle(gd).display;\n",
       "        if (!display || display === 'none') {{\n",
       "            console.log([gd, 'removed!']);\n",
       "            Plotly.purge(gd);\n",
       "            observer.disconnect();\n",
       "        }}\n",
       "}});\n",
       "\n",
       "// Listen for the removal of the full notebook cells\n",
       "var notebookContainer = gd.closest('#notebook-container');\n",
       "if (notebookContainer) {{\n",
       "    x.observe(notebookContainer, {childList: true});\n",
       "}}\n",
       "\n",
       "// Listen for the clearing of the current output cell\n",
       "var outputEl = gd.closest('.output');\n",
       "if (outputEl) {{\n",
       "    x.observe(outputEl, {childList: true});\n",
       "}}\n",
       "\n",
       "                        })                };                });            </script>        </div>"
      ]
     },
     "metadata": {},
     "output_type": "display_data"
    }
   ],
   "source": [
    "fig = px.sunburst(articles, path=['index_group_name', 'index_name'],width=800,\n",
    "    height=800,color_discrete_sequence=px.colors.cyclical.Edge)\n",
    "fig.show()"
   ]
  },
  {
   "cell_type": "code",
   "execution_count": 34,
   "id": "01add8f1",
   "metadata": {},
   "outputs": [
    {
     "data": {
      "application/vnd.plotly.v1+json": {
       "config": {
        "plotlyServerURL": "https://plot.ly"
       },
       "data": [
        {
         "branchvalues": "total",
         "domain": {
          "x": [
           0,
           1
          ],
          "y": [
           0,
           1
          ]
         },
         "hovertemplate": "labels=%{label}<br>count=%{value}<br>parent=%{parent}<br>id=%{id}<extra></extra>",
         "ids": [
          "Accessories/Accessories set",
          "Accessories/Alice band",
          "Accessories/Baby Bib",
          "Bags/Backpack",
          "Accessories/Bag",
          "Shoes/Ballerinas",
          "Accessories/Beanie",
          "Accessories/Belt",
          "Swimwear/Bikini top",
          "Interior textile/Blanket",
          "Garment Upper body/Blazer",
          "Garment Upper body/Blouse",
          "Garment Upper body/Bodysuit",
          "Shoes/Bootie",
          "Shoes/Boots",
          "Underwear/Bra",
          "Underwear/Bra extender",
          "Accessories/Bracelet",
          "Accessories/Braces",
          "Accessories/Bucket hat",
          "Bags/Bumbag",
          "Accessories/Cap",
          "Accessories/Cap/peaked",
          "Garment Upper body/Cardigan",
          "Cosmetic/Chem. cosmetics",
          "Garment and Shoe care/Clothing mist",
          "Garment Upper body/Coat",
          "Garment Full body/Costumes",
          "Bags/Cross-body bag",
          "Interior textile/Cushion",
          "Accessories/Dog Wear",
          "Items/Dog wear",
          "Garment Full body/Dress",
          "Garment Full body/Dungarees",
          "Accessories/Earring",
          "Accessories/Earrings",
          "Accessories/Eyeglasses",
          "Accessories/Felt hat",
          "Cosmetic/Fine cosmetics",
          "Shoes/Flat shoe",
          "Shoes/Flat shoes",
          "Shoes/Flip flop",
          "Garment Full body/Garment Set",
          "Accessories/Giftbox",
          "Accessories/Gloves",
          "Accessories/Hair clip",
          "Accessories/Hair string",
          "Accessories/Hair ties",
          "Accessories/Hair/alice band",
          "Accessories/Hairband",
          "Accessories/Hat/beanie",
          "Accessories/Hat/brim",
          "Accessories/Headband",
          "Shoes/Heeled sandals",
          "Shoes/Heels",
          "Garment Upper body/Hoodie",
          "Garment Upper body/Jacket",
          "Garment Full body/Jumpsuit/Playsuit",
          "Items/Keychain",
          "Underwear/Kids Underwear top",
          "Socks & Tights/Leg warmers",
          "Garment Lower body/Leggings/Tights",
          "Underwear/Long John",
          "Stationery/Marker pen",
          "Items/Mobile case",
          "Shoes/Moccasins",
          "Accessories/Necklace",
          "Nightwear/Night gown",
          "Underwear/Nipple covers",
          "Accessories/Other accessories",
          "Shoes/Other shoe",
          "Garment Upper body/Outdoor Waistcoat",
          "Garment Full body/Outdoor overall",
          "Garment Lower body/Outdoor trousers",
          "Garment Upper body/Polo shirt",
          "Shoes/Pre-walkers",
          "Shoes/Pumps",
          "Nightwear/Pyjama bottom",
          "Nightwear/Pyjama jumpsuit/playsuit",
          "Nightwear/Pyjama set",
          "Accessories/Ring",
          "Underwear/Robe",
          "Shoes/Sandals",
          "Swimwear/Sarong",
          "Accessories/Scarf",
          "Garment and Shoe care/Sewing kit",
          "Garment Upper body/Shirt",
          "Garment Lower body/Shorts",
          "Bags/Shoulder bag",
          "Furniture/Side table",
          "Garment Lower body/Skirt",
          "Underwear/nightwear/Sleep Bag",
          "Underwear/nightwear/Sleeping sack",
          "Shoes/Slippers",
          "Shoes/Sneakers",
          "Socks & Tights/Socks",
          "Accessories/Soft Toys",
          "Garment and Shoe care/Stain remover spray",
          "Accessories/Straw hat",
          "Accessories/Sunglasses",
          "Garment Upper body/Sweater",
          "Swimwear/Swimsuit",
          "Swimwear/Swimwear bottom",
          "Swimwear/Swimwear set",
          "Swimwear/Swimwear top",
          "Garment Upper body/T-shirt",
          "Garment Upper body/Tailored Waistcoat",
          "Accessories/Tie",
          "Garment Upper body/Top",
          "Bags/Tote bag",
          "Interior textile/Towel",
          "Fun/Toy",
          "Garment Lower body/Trousers",
          "Accessories/Umbrella",
          "Items/Umbrella",
          "Underwear/Underdress",
          "Socks & Tights/Underwear Tights",
          "Underwear/Underwear body",
          "Underwear/Underwear bottom",
          "Underwear/Underwear corset",
          "Underwear/Underwear set",
          "Unknown/Unknown",
          "Garment Upper body/Vest top",
          "Accessories/Wallet",
          "Garment and Shoe care/Washing bag",
          "Accessories/Watch",
          "Accessories/Waterbottle",
          "Shoes/Wedge",
          "Bags/Weekend/Gym bag",
          "Items/Wireless earphone case",
          "Garment and Shoe care/Wood balls",
          "Garment and Shoe care/Zipper head",
          "Accessories",
          "Bags",
          "Cosmetic",
          "Fun",
          "Furniture",
          "Garment Full body",
          "Garment Lower body",
          "Garment Upper body",
          "Garment and Shoe care",
          "Interior textile",
          "Items",
          "Nightwear",
          "Shoes",
          "Socks & Tights",
          "Stationery",
          "Swimwear",
          "Underwear",
          "Underwear/nightwear",
          "Unknown"
         ],
         "labels": [
          "Accessories set",
          "Alice band",
          "Baby Bib",
          "Backpack",
          "Bag",
          "Ballerinas",
          "Beanie",
          "Belt",
          "Bikini top",
          "Blanket",
          "Blazer",
          "Blouse",
          "Bodysuit",
          "Bootie",
          "Boots",
          "Bra",
          "Bra extender",
          "Bracelet",
          "Braces",
          "Bucket hat",
          "Bumbag",
          "Cap",
          "Cap/peaked",
          "Cardigan",
          "Chem. cosmetics",
          "Clothing mist",
          "Coat",
          "Costumes",
          "Cross-body bag",
          "Cushion",
          "Dog Wear",
          "Dog wear",
          "Dress",
          "Dungarees",
          "Earring",
          "Earrings",
          "Eyeglasses",
          "Felt hat",
          "Fine cosmetics",
          "Flat shoe",
          "Flat shoes",
          "Flip flop",
          "Garment Set",
          "Giftbox",
          "Gloves",
          "Hair clip",
          "Hair string",
          "Hair ties",
          "Hair/alice band",
          "Hairband",
          "Hat/beanie",
          "Hat/brim",
          "Headband",
          "Heeled sandals",
          "Heels",
          "Hoodie",
          "Jacket",
          "Jumpsuit/Playsuit",
          "Keychain",
          "Kids Underwear top",
          "Leg warmers",
          "Leggings/Tights",
          "Long John",
          "Marker pen",
          "Mobile case",
          "Moccasins",
          "Necklace",
          "Night gown",
          "Nipple covers",
          "Other accessories",
          "Other shoe",
          "Outdoor Waistcoat",
          "Outdoor overall",
          "Outdoor trousers",
          "Polo shirt",
          "Pre-walkers",
          "Pumps",
          "Pyjama bottom",
          "Pyjama jumpsuit/playsuit",
          "Pyjama set",
          "Ring",
          "Robe",
          "Sandals",
          "Sarong",
          "Scarf",
          "Sewing kit",
          "Shirt",
          "Shorts",
          "Shoulder bag",
          "Side table",
          "Skirt",
          "Sleep Bag",
          "Sleeping sack",
          "Slippers",
          "Sneakers",
          "Socks",
          "Soft Toys",
          "Stain remover spray",
          "Straw hat",
          "Sunglasses",
          "Sweater",
          "Swimsuit",
          "Swimwear bottom",
          "Swimwear set",
          "Swimwear top",
          "T-shirt",
          "Tailored Waistcoat",
          "Tie",
          "Top",
          "Tote bag",
          "Towel",
          "Toy",
          "Trousers",
          "Umbrella",
          "Umbrella",
          "Underdress",
          "Underwear Tights",
          "Underwear body",
          "Underwear bottom",
          "Underwear corset",
          "Underwear set",
          "Unknown",
          "Vest top",
          "Wallet",
          "Washing bag",
          "Watch",
          "Waterbottle",
          "Wedge",
          "Weekend/Gym bag",
          "Wireless earphone case",
          "Wood balls",
          "Zipper head",
          "Accessories",
          "Bags",
          "Cosmetic",
          "Fun",
          "Furniture",
          "Garment Full body",
          "Garment Lower body",
          "Garment Upper body",
          "Garment and Shoe care",
          "Interior textile",
          "Items",
          "Nightwear",
          "Shoes",
          "Socks & Tights",
          "Stationery",
          "Swimwear",
          "Underwear",
          "Underwear/nightwear",
          "Unknown"
         ],
         "name": "",
         "parents": [
          "Accessories",
          "Accessories",
          "Accessories",
          "Bags",
          "Accessories",
          "Shoes",
          "Accessories",
          "Accessories",
          "Swimwear",
          "Interior textile",
          "Garment Upper body",
          "Garment Upper body",
          "Garment Upper body",
          "Shoes",
          "Shoes",
          "Underwear",
          "Underwear",
          "Accessories",
          "Accessories",
          "Accessories",
          "Bags",
          "Accessories",
          "Accessories",
          "Garment Upper body",
          "Cosmetic",
          "Garment and Shoe care",
          "Garment Upper body",
          "Garment Full body",
          "Bags",
          "Interior textile",
          "Accessories",
          "Items",
          "Garment Full body",
          "Garment Full body",
          "Accessories",
          "Accessories",
          "Accessories",
          "Accessories",
          "Cosmetic",
          "Shoes",
          "Shoes",
          "Shoes",
          "Garment Full body",
          "Accessories",
          "Accessories",
          "Accessories",
          "Accessories",
          "Accessories",
          "Accessories",
          "Accessories",
          "Accessories",
          "Accessories",
          "Accessories",
          "Shoes",
          "Shoes",
          "Garment Upper body",
          "Garment Upper body",
          "Garment Full body",
          "Items",
          "Underwear",
          "Socks & Tights",
          "Garment Lower body",
          "Underwear",
          "Stationery",
          "Items",
          "Shoes",
          "Accessories",
          "Nightwear",
          "Underwear",
          "Accessories",
          "Shoes",
          "Garment Upper body",
          "Garment Full body",
          "Garment Lower body",
          "Garment Upper body",
          "Shoes",
          "Shoes",
          "Nightwear",
          "Nightwear",
          "Nightwear",
          "Accessories",
          "Underwear",
          "Shoes",
          "Swimwear",
          "Accessories",
          "Garment and Shoe care",
          "Garment Upper body",
          "Garment Lower body",
          "Bags",
          "Furniture",
          "Garment Lower body",
          "Underwear/nightwear",
          "Underwear/nightwear",
          "Shoes",
          "Shoes",
          "Socks & Tights",
          "Accessories",
          "Garment and Shoe care",
          "Accessories",
          "Accessories",
          "Garment Upper body",
          "Swimwear",
          "Swimwear",
          "Swimwear",
          "Swimwear",
          "Garment Upper body",
          "Garment Upper body",
          "Accessories",
          "Garment Upper body",
          "Bags",
          "Interior textile",
          "Fun",
          "Garment Lower body",
          "Accessories",
          "Items",
          "Underwear",
          "Socks & Tights",
          "Underwear",
          "Underwear",
          "Underwear",
          "Underwear",
          "Unknown",
          "Garment Upper body",
          "Accessories",
          "Garment and Shoe care",
          "Accessories",
          "Accessories",
          "Shoes",
          "Bags",
          "Items",
          "Garment and Shoe care",
          "Garment and Shoe care",
          "",
          "",
          "",
          "",
          "",
          "",
          "",
          "",
          "",
          "",
          "",
          "",
          "",
          "",
          "",
          "",
          "",
          "",
          ""
         ],
         "type": "sunburst",
         "values": [
          7,
          6,
          3,
          6,
          1280,
          372,
          56,
          458,
          850,
          1,
          1110,
          3979,
          913,
          31,
          1028,
          2212,
          1,
          180,
          3,
          7,
          1,
          13,
          573,
          1550,
          3,
          1,
          460,
          90,
          5,
          1,
          20,
          7,
          10362,
          309,
          1159,
          11,
          2,
          10,
          46,
          165,
          10,
          125,
          1320,
          15,
          367,
          244,
          238,
          24,
          854,
          2,
          1349,
          396,
          1,
          202,
          22,
          2356,
          3940,
          1147,
          1,
          96,
          7,
          1878,
          30,
          5,
          4,
          4,
          581,
          171,
          19,
          1034,
          395,
          154,
          64,
          130,
          449,
          1,
          188,
          220,
          388,
          1120,
          240,
          136,
          757,
          66,
          1013,
          1,
          3405,
          3939,
          2,
          13,
          2696,
          6,
          48,
          249,
          1621,
          1889,
          46,
          2,
          6,
          621,
          9302,
          662,
          1307,
          192,
          50,
          7904,
          73,
          141,
          4155,
          2,
          1,
          2,
          11169,
          26,
          3,
          20,
          546,
          174,
          2748,
          7,
          47,
          121,
          2991,
          77,
          1,
          73,
          22,
          113,
          9,
          2,
          1,
          3,
          11158,
          25,
          49,
          2,
          13,
          13292,
          19812,
          42741,
          9,
          3,
          17,
          1899,
          5283,
          2442,
          5,
          3127,
          5490,
          54,
          121
         ]
        }
       ],
       "layout": {
        "height": 800,
        "legend": {
         "tracegroupgap": 0
        },
        "margin": {
         "t": 60
        },
        "sunburstcolorway": [
         "#313131",
         "#3d019d",
         "#3810dc",
         "#2d47f9",
         "#2593ff",
         "#2adef6",
         "#60fdfa",
         "#aefdff",
         "#f3f3f1",
         "#fffda9",
         "#fafd5b",
         "#f7da29",
         "#ff8e25",
         "#f8432d",
         "#d90d39",
         "#97023d",
         "#313131"
        ],
        "template": {
         "data": {
          "bar": [
           {
            "error_x": {
             "color": "#2a3f5f"
            },
            "error_y": {
             "color": "#2a3f5f"
            },
            "marker": {
             "line": {
              "color": "#E5ECF6",
              "width": 0.5
             },
             "pattern": {
              "fillmode": "overlay",
              "size": 10,
              "solidity": 0.2
             }
            },
            "type": "bar"
           }
          ],
          "barpolar": [
           {
            "marker": {
             "line": {
              "color": "#E5ECF6",
              "width": 0.5
             },
             "pattern": {
              "fillmode": "overlay",
              "size": 10,
              "solidity": 0.2
             }
            },
            "type": "barpolar"
           }
          ],
          "carpet": [
           {
            "aaxis": {
             "endlinecolor": "#2a3f5f",
             "gridcolor": "white",
             "linecolor": "white",
             "minorgridcolor": "white",
             "startlinecolor": "#2a3f5f"
            },
            "baxis": {
             "endlinecolor": "#2a3f5f",
             "gridcolor": "white",
             "linecolor": "white",
             "minorgridcolor": "white",
             "startlinecolor": "#2a3f5f"
            },
            "type": "carpet"
           }
          ],
          "choropleth": [
           {
            "colorbar": {
             "outlinewidth": 0,
             "ticks": ""
            },
            "type": "choropleth"
           }
          ],
          "contour": [
           {
            "colorbar": {
             "outlinewidth": 0,
             "ticks": ""
            },
            "colorscale": [
             [
              0,
              "#0d0887"
             ],
             [
              0.1111111111111111,
              "#46039f"
             ],
             [
              0.2222222222222222,
              "#7201a8"
             ],
             [
              0.3333333333333333,
              "#9c179e"
             ],
             [
              0.4444444444444444,
              "#bd3786"
             ],
             [
              0.5555555555555556,
              "#d8576b"
             ],
             [
              0.6666666666666666,
              "#ed7953"
             ],
             [
              0.7777777777777778,
              "#fb9f3a"
             ],
             [
              0.8888888888888888,
              "#fdca26"
             ],
             [
              1,
              "#f0f921"
             ]
            ],
            "type": "contour"
           }
          ],
          "contourcarpet": [
           {
            "colorbar": {
             "outlinewidth": 0,
             "ticks": ""
            },
            "type": "contourcarpet"
           }
          ],
          "heatmap": [
           {
            "colorbar": {
             "outlinewidth": 0,
             "ticks": ""
            },
            "colorscale": [
             [
              0,
              "#0d0887"
             ],
             [
              0.1111111111111111,
              "#46039f"
             ],
             [
              0.2222222222222222,
              "#7201a8"
             ],
             [
              0.3333333333333333,
              "#9c179e"
             ],
             [
              0.4444444444444444,
              "#bd3786"
             ],
             [
              0.5555555555555556,
              "#d8576b"
             ],
             [
              0.6666666666666666,
              "#ed7953"
             ],
             [
              0.7777777777777778,
              "#fb9f3a"
             ],
             [
              0.8888888888888888,
              "#fdca26"
             ],
             [
              1,
              "#f0f921"
             ]
            ],
            "type": "heatmap"
           }
          ],
          "heatmapgl": [
           {
            "colorbar": {
             "outlinewidth": 0,
             "ticks": ""
            },
            "colorscale": [
             [
              0,
              "#0d0887"
             ],
             [
              0.1111111111111111,
              "#46039f"
             ],
             [
              0.2222222222222222,
              "#7201a8"
             ],
             [
              0.3333333333333333,
              "#9c179e"
             ],
             [
              0.4444444444444444,
              "#bd3786"
             ],
             [
              0.5555555555555556,
              "#d8576b"
             ],
             [
              0.6666666666666666,
              "#ed7953"
             ],
             [
              0.7777777777777778,
              "#fb9f3a"
             ],
             [
              0.8888888888888888,
              "#fdca26"
             ],
             [
              1,
              "#f0f921"
             ]
            ],
            "type": "heatmapgl"
           }
          ],
          "histogram": [
           {
            "marker": {
             "pattern": {
              "fillmode": "overlay",
              "size": 10,
              "solidity": 0.2
             }
            },
            "type": "histogram"
           }
          ],
          "histogram2d": [
           {
            "colorbar": {
             "outlinewidth": 0,
             "ticks": ""
            },
            "colorscale": [
             [
              0,
              "#0d0887"
             ],
             [
              0.1111111111111111,
              "#46039f"
             ],
             [
              0.2222222222222222,
              "#7201a8"
             ],
             [
              0.3333333333333333,
              "#9c179e"
             ],
             [
              0.4444444444444444,
              "#bd3786"
             ],
             [
              0.5555555555555556,
              "#d8576b"
             ],
             [
              0.6666666666666666,
              "#ed7953"
             ],
             [
              0.7777777777777778,
              "#fb9f3a"
             ],
             [
              0.8888888888888888,
              "#fdca26"
             ],
             [
              1,
              "#f0f921"
             ]
            ],
            "type": "histogram2d"
           }
          ],
          "histogram2dcontour": [
           {
            "colorbar": {
             "outlinewidth": 0,
             "ticks": ""
            },
            "colorscale": [
             [
              0,
              "#0d0887"
             ],
             [
              0.1111111111111111,
              "#46039f"
             ],
             [
              0.2222222222222222,
              "#7201a8"
             ],
             [
              0.3333333333333333,
              "#9c179e"
             ],
             [
              0.4444444444444444,
              "#bd3786"
             ],
             [
              0.5555555555555556,
              "#d8576b"
             ],
             [
              0.6666666666666666,
              "#ed7953"
             ],
             [
              0.7777777777777778,
              "#fb9f3a"
             ],
             [
              0.8888888888888888,
              "#fdca26"
             ],
             [
              1,
              "#f0f921"
             ]
            ],
            "type": "histogram2dcontour"
           }
          ],
          "mesh3d": [
           {
            "colorbar": {
             "outlinewidth": 0,
             "ticks": ""
            },
            "type": "mesh3d"
           }
          ],
          "parcoords": [
           {
            "line": {
             "colorbar": {
              "outlinewidth": 0,
              "ticks": ""
             }
            },
            "type": "parcoords"
           }
          ],
          "pie": [
           {
            "automargin": true,
            "type": "pie"
           }
          ],
          "scatter": [
           {
            "fillpattern": {
             "fillmode": "overlay",
             "size": 10,
             "solidity": 0.2
            },
            "type": "scatter"
           }
          ],
          "scatter3d": [
           {
            "line": {
             "colorbar": {
              "outlinewidth": 0,
              "ticks": ""
             }
            },
            "marker": {
             "colorbar": {
              "outlinewidth": 0,
              "ticks": ""
             }
            },
            "type": "scatter3d"
           }
          ],
          "scattercarpet": [
           {
            "marker": {
             "colorbar": {
              "outlinewidth": 0,
              "ticks": ""
             }
            },
            "type": "scattercarpet"
           }
          ],
          "scattergeo": [
           {
            "marker": {
             "colorbar": {
              "outlinewidth": 0,
              "ticks": ""
             }
            },
            "type": "scattergeo"
           }
          ],
          "scattergl": [
           {
            "marker": {
             "colorbar": {
              "outlinewidth": 0,
              "ticks": ""
             }
            },
            "type": "scattergl"
           }
          ],
          "scattermapbox": [
           {
            "marker": {
             "colorbar": {
              "outlinewidth": 0,
              "ticks": ""
             }
            },
            "type": "scattermapbox"
           }
          ],
          "scatterpolar": [
           {
            "marker": {
             "colorbar": {
              "outlinewidth": 0,
              "ticks": ""
             }
            },
            "type": "scatterpolar"
           }
          ],
          "scatterpolargl": [
           {
            "marker": {
             "colorbar": {
              "outlinewidth": 0,
              "ticks": ""
             }
            },
            "type": "scatterpolargl"
           }
          ],
          "scatterternary": [
           {
            "marker": {
             "colorbar": {
              "outlinewidth": 0,
              "ticks": ""
             }
            },
            "type": "scatterternary"
           }
          ],
          "surface": [
           {
            "colorbar": {
             "outlinewidth": 0,
             "ticks": ""
            },
            "colorscale": [
             [
              0,
              "#0d0887"
             ],
             [
              0.1111111111111111,
              "#46039f"
             ],
             [
              0.2222222222222222,
              "#7201a8"
             ],
             [
              0.3333333333333333,
              "#9c179e"
             ],
             [
              0.4444444444444444,
              "#bd3786"
             ],
             [
              0.5555555555555556,
              "#d8576b"
             ],
             [
              0.6666666666666666,
              "#ed7953"
             ],
             [
              0.7777777777777778,
              "#fb9f3a"
             ],
             [
              0.8888888888888888,
              "#fdca26"
             ],
             [
              1,
              "#f0f921"
             ]
            ],
            "type": "surface"
           }
          ],
          "table": [
           {
            "cells": {
             "fill": {
              "color": "#EBF0F8"
             },
             "line": {
              "color": "white"
             }
            },
            "header": {
             "fill": {
              "color": "#C8D4E3"
             },
             "line": {
              "color": "white"
             }
            },
            "type": "table"
           }
          ]
         },
         "layout": {
          "annotationdefaults": {
           "arrowcolor": "#2a3f5f",
           "arrowhead": 0,
           "arrowwidth": 1
          },
          "autotypenumbers": "strict",
          "coloraxis": {
           "colorbar": {
            "outlinewidth": 0,
            "ticks": ""
           }
          },
          "colorscale": {
           "diverging": [
            [
             0,
             "#8e0152"
            ],
            [
             0.1,
             "#c51b7d"
            ],
            [
             0.2,
             "#de77ae"
            ],
            [
             0.3,
             "#f1b6da"
            ],
            [
             0.4,
             "#fde0ef"
            ],
            [
             0.5,
             "#f7f7f7"
            ],
            [
             0.6,
             "#e6f5d0"
            ],
            [
             0.7,
             "#b8e186"
            ],
            [
             0.8,
             "#7fbc41"
            ],
            [
             0.9,
             "#4d9221"
            ],
            [
             1,
             "#276419"
            ]
           ],
           "sequential": [
            [
             0,
             "#0d0887"
            ],
            [
             0.1111111111111111,
             "#46039f"
            ],
            [
             0.2222222222222222,
             "#7201a8"
            ],
            [
             0.3333333333333333,
             "#9c179e"
            ],
            [
             0.4444444444444444,
             "#bd3786"
            ],
            [
             0.5555555555555556,
             "#d8576b"
            ],
            [
             0.6666666666666666,
             "#ed7953"
            ],
            [
             0.7777777777777778,
             "#fb9f3a"
            ],
            [
             0.8888888888888888,
             "#fdca26"
            ],
            [
             1,
             "#f0f921"
            ]
           ],
           "sequentialminus": [
            [
             0,
             "#0d0887"
            ],
            [
             0.1111111111111111,
             "#46039f"
            ],
            [
             0.2222222222222222,
             "#7201a8"
            ],
            [
             0.3333333333333333,
             "#9c179e"
            ],
            [
             0.4444444444444444,
             "#bd3786"
            ],
            [
             0.5555555555555556,
             "#d8576b"
            ],
            [
             0.6666666666666666,
             "#ed7953"
            ],
            [
             0.7777777777777778,
             "#fb9f3a"
            ],
            [
             0.8888888888888888,
             "#fdca26"
            ],
            [
             1,
             "#f0f921"
            ]
           ]
          },
          "colorway": [
           "#636efa",
           "#EF553B",
           "#00cc96",
           "#ab63fa",
           "#FFA15A",
           "#19d3f3",
           "#FF6692",
           "#B6E880",
           "#FF97FF",
           "#FECB52"
          ],
          "font": {
           "color": "#2a3f5f"
          },
          "geo": {
           "bgcolor": "white",
           "lakecolor": "white",
           "landcolor": "#E5ECF6",
           "showlakes": true,
           "showland": true,
           "subunitcolor": "white"
          },
          "hoverlabel": {
           "align": "left"
          },
          "hovermode": "closest",
          "mapbox": {
           "style": "light"
          },
          "paper_bgcolor": "white",
          "plot_bgcolor": "#E5ECF6",
          "polar": {
           "angularaxis": {
            "gridcolor": "white",
            "linecolor": "white",
            "ticks": ""
           },
           "bgcolor": "#E5ECF6",
           "radialaxis": {
            "gridcolor": "white",
            "linecolor": "white",
            "ticks": ""
           }
          },
          "scene": {
           "xaxis": {
            "backgroundcolor": "#E5ECF6",
            "gridcolor": "white",
            "gridwidth": 2,
            "linecolor": "white",
            "showbackground": true,
            "ticks": "",
            "zerolinecolor": "white"
           },
           "yaxis": {
            "backgroundcolor": "#E5ECF6",
            "gridcolor": "white",
            "gridwidth": 2,
            "linecolor": "white",
            "showbackground": true,
            "ticks": "",
            "zerolinecolor": "white"
           },
           "zaxis": {
            "backgroundcolor": "#E5ECF6",
            "gridcolor": "white",
            "gridwidth": 2,
            "linecolor": "white",
            "showbackground": true,
            "ticks": "",
            "zerolinecolor": "white"
           }
          },
          "shapedefaults": {
           "line": {
            "color": "#2a3f5f"
           }
          },
          "ternary": {
           "aaxis": {
            "gridcolor": "white",
            "linecolor": "white",
            "ticks": ""
           },
           "baxis": {
            "gridcolor": "white",
            "linecolor": "white",
            "ticks": ""
           },
           "bgcolor": "#E5ECF6",
           "caxis": {
            "gridcolor": "white",
            "linecolor": "white",
            "ticks": ""
           }
          },
          "title": {
           "x": 0.05
          },
          "xaxis": {
           "automargin": true,
           "gridcolor": "white",
           "linecolor": "white",
           "ticks": "",
           "title": {
            "standoff": 15
           },
           "zerolinecolor": "white",
           "zerolinewidth": 2
          },
          "yaxis": {
           "automargin": true,
           "gridcolor": "white",
           "linecolor": "white",
           "ticks": "",
           "title": {
            "standoff": 15
           },
           "zerolinecolor": "white",
           "zerolinewidth": 2
          }
         }
        },
        "width": 800
       }
      },
      "text/html": [
       "<div>                            <div id=\"5226ac30-3c97-4bb7-bf90-341b55561d9b\" class=\"plotly-graph-div\" style=\"height:800px; width:800px;\"></div>            <script type=\"text/javascript\">                require([\"plotly\"], function(Plotly) {                    window.PLOTLYENV=window.PLOTLYENV || {};                                    if (document.getElementById(\"5226ac30-3c97-4bb7-bf90-341b55561d9b\")) {                    Plotly.newPlot(                        \"5226ac30-3c97-4bb7-bf90-341b55561d9b\",                        [{\"branchvalues\":\"total\",\"domain\":{\"x\":[0.0,1.0],\"y\":[0.0,1.0]},\"hovertemplate\":\"labels=%{label}<br>count=%{value}<br>parent=%{parent}<br>id=%{id}<extra></extra>\",\"ids\":[\"Accessories/Accessories set\",\"Accessories/Alice band\",\"Accessories/Baby Bib\",\"Bags/Backpack\",\"Accessories/Bag\",\"Shoes/Ballerinas\",\"Accessories/Beanie\",\"Accessories/Belt\",\"Swimwear/Bikini top\",\"Interior textile/Blanket\",\"Garment Upper body/Blazer\",\"Garment Upper body/Blouse\",\"Garment Upper body/Bodysuit\",\"Shoes/Bootie\",\"Shoes/Boots\",\"Underwear/Bra\",\"Underwear/Bra extender\",\"Accessories/Bracelet\",\"Accessories/Braces\",\"Accessories/Bucket hat\",\"Bags/Bumbag\",\"Accessories/Cap\",\"Accessories/Cap/peaked\",\"Garment Upper body/Cardigan\",\"Cosmetic/Chem. cosmetics\",\"Garment and Shoe care/Clothing mist\",\"Garment Upper body/Coat\",\"Garment Full body/Costumes\",\"Bags/Cross-body bag\",\"Interior textile/Cushion\",\"Accessories/Dog Wear\",\"Items/Dog wear\",\"Garment Full body/Dress\",\"Garment Full body/Dungarees\",\"Accessories/Earring\",\"Accessories/Earrings\",\"Accessories/Eyeglasses\",\"Accessories/Felt hat\",\"Cosmetic/Fine cosmetics\",\"Shoes/Flat shoe\",\"Shoes/Flat shoes\",\"Shoes/Flip flop\",\"Garment Full body/Garment Set\",\"Accessories/Giftbox\",\"Accessories/Gloves\",\"Accessories/Hair clip\",\"Accessories/Hair string\",\"Accessories/Hair ties\",\"Accessories/Hair/alice band\",\"Accessories/Hairband\",\"Accessories/Hat/beanie\",\"Accessories/Hat/brim\",\"Accessories/Headband\",\"Shoes/Heeled sandals\",\"Shoes/Heels\",\"Garment Upper body/Hoodie\",\"Garment Upper body/Jacket\",\"Garment Full body/Jumpsuit/Playsuit\",\"Items/Keychain\",\"Underwear/Kids Underwear top\",\"Socks & Tights/Leg warmers\",\"Garment Lower body/Leggings/Tights\",\"Underwear/Long John\",\"Stationery/Marker pen\",\"Items/Mobile case\",\"Shoes/Moccasins\",\"Accessories/Necklace\",\"Nightwear/Night gown\",\"Underwear/Nipple covers\",\"Accessories/Other accessories\",\"Shoes/Other shoe\",\"Garment Upper body/Outdoor Waistcoat\",\"Garment Full body/Outdoor overall\",\"Garment Lower body/Outdoor trousers\",\"Garment Upper body/Polo shirt\",\"Shoes/Pre-walkers\",\"Shoes/Pumps\",\"Nightwear/Pyjama bottom\",\"Nightwear/Pyjama jumpsuit/playsuit\",\"Nightwear/Pyjama set\",\"Accessories/Ring\",\"Underwear/Robe\",\"Shoes/Sandals\",\"Swimwear/Sarong\",\"Accessories/Scarf\",\"Garment and Shoe care/Sewing kit\",\"Garment Upper body/Shirt\",\"Garment Lower body/Shorts\",\"Bags/Shoulder bag\",\"Furniture/Side table\",\"Garment Lower body/Skirt\",\"Underwear/nightwear/Sleep Bag\",\"Underwear/nightwear/Sleeping sack\",\"Shoes/Slippers\",\"Shoes/Sneakers\",\"Socks & Tights/Socks\",\"Accessories/Soft Toys\",\"Garment and Shoe care/Stain remover spray\",\"Accessories/Straw hat\",\"Accessories/Sunglasses\",\"Garment Upper body/Sweater\",\"Swimwear/Swimsuit\",\"Swimwear/Swimwear bottom\",\"Swimwear/Swimwear set\",\"Swimwear/Swimwear top\",\"Garment Upper body/T-shirt\",\"Garment Upper body/Tailored Waistcoat\",\"Accessories/Tie\",\"Garment Upper body/Top\",\"Bags/Tote bag\",\"Interior textile/Towel\",\"Fun/Toy\",\"Garment Lower body/Trousers\",\"Accessories/Umbrella\",\"Items/Umbrella\",\"Underwear/Underdress\",\"Socks & Tights/Underwear Tights\",\"Underwear/Underwear body\",\"Underwear/Underwear bottom\",\"Underwear/Underwear corset\",\"Underwear/Underwear set\",\"Unknown/Unknown\",\"Garment Upper body/Vest top\",\"Accessories/Wallet\",\"Garment and Shoe care/Washing bag\",\"Accessories/Watch\",\"Accessories/Waterbottle\",\"Shoes/Wedge\",\"Bags/Weekend/Gym bag\",\"Items/Wireless earphone case\",\"Garment and Shoe care/Wood balls\",\"Garment and Shoe care/Zipper head\",\"Accessories\",\"Bags\",\"Cosmetic\",\"Fun\",\"Furniture\",\"Garment Full body\",\"Garment Lower body\",\"Garment Upper body\",\"Garment and Shoe care\",\"Interior textile\",\"Items\",\"Nightwear\",\"Shoes\",\"Socks & Tights\",\"Stationery\",\"Swimwear\",\"Underwear\",\"Underwear/nightwear\",\"Unknown\"],\"labels\":[\"Accessories set\",\"Alice band\",\"Baby Bib\",\"Backpack\",\"Bag\",\"Ballerinas\",\"Beanie\",\"Belt\",\"Bikini top\",\"Blanket\",\"Blazer\",\"Blouse\",\"Bodysuit\",\"Bootie\",\"Boots\",\"Bra\",\"Bra extender\",\"Bracelet\",\"Braces\",\"Bucket hat\",\"Bumbag\",\"Cap\",\"Cap/peaked\",\"Cardigan\",\"Chem. cosmetics\",\"Clothing mist\",\"Coat\",\"Costumes\",\"Cross-body bag\",\"Cushion\",\"Dog Wear\",\"Dog wear\",\"Dress\",\"Dungarees\",\"Earring\",\"Earrings\",\"Eyeglasses\",\"Felt hat\",\"Fine cosmetics\",\"Flat shoe\",\"Flat shoes\",\"Flip flop\",\"Garment Set\",\"Giftbox\",\"Gloves\",\"Hair clip\",\"Hair string\",\"Hair ties\",\"Hair/alice band\",\"Hairband\",\"Hat/beanie\",\"Hat/brim\",\"Headband\",\"Heeled sandals\",\"Heels\",\"Hoodie\",\"Jacket\",\"Jumpsuit/Playsuit\",\"Keychain\",\"Kids Underwear top\",\"Leg warmers\",\"Leggings/Tights\",\"Long John\",\"Marker pen\",\"Mobile case\",\"Moccasins\",\"Necklace\",\"Night gown\",\"Nipple covers\",\"Other accessories\",\"Other shoe\",\"Outdoor Waistcoat\",\"Outdoor overall\",\"Outdoor trousers\",\"Polo shirt\",\"Pre-walkers\",\"Pumps\",\"Pyjama bottom\",\"Pyjama jumpsuit/playsuit\",\"Pyjama set\",\"Ring\",\"Robe\",\"Sandals\",\"Sarong\",\"Scarf\",\"Sewing kit\",\"Shirt\",\"Shorts\",\"Shoulder bag\",\"Side table\",\"Skirt\",\"Sleep Bag\",\"Sleeping sack\",\"Slippers\",\"Sneakers\",\"Socks\",\"Soft Toys\",\"Stain remover spray\",\"Straw hat\",\"Sunglasses\",\"Sweater\",\"Swimsuit\",\"Swimwear bottom\",\"Swimwear set\",\"Swimwear top\",\"T-shirt\",\"Tailored Waistcoat\",\"Tie\",\"Top\",\"Tote bag\",\"Towel\",\"Toy\",\"Trousers\",\"Umbrella\",\"Umbrella\",\"Underdress\",\"Underwear Tights\",\"Underwear body\",\"Underwear bottom\",\"Underwear corset\",\"Underwear set\",\"Unknown\",\"Vest top\",\"Wallet\",\"Washing bag\",\"Watch\",\"Waterbottle\",\"Wedge\",\"Weekend/Gym bag\",\"Wireless earphone case\",\"Wood balls\",\"Zipper head\",\"Accessories\",\"Bags\",\"Cosmetic\",\"Fun\",\"Furniture\",\"Garment Full body\",\"Garment Lower body\",\"Garment Upper body\",\"Garment and Shoe care\",\"Interior textile\",\"Items\",\"Nightwear\",\"Shoes\",\"Socks & Tights\",\"Stationery\",\"Swimwear\",\"Underwear\",\"Underwear/nightwear\",\"Unknown\"],\"name\":\"\",\"parents\":[\"Accessories\",\"Accessories\",\"Accessories\",\"Bags\",\"Accessories\",\"Shoes\",\"Accessories\",\"Accessories\",\"Swimwear\",\"Interior textile\",\"Garment Upper body\",\"Garment Upper body\",\"Garment Upper body\",\"Shoes\",\"Shoes\",\"Underwear\",\"Underwear\",\"Accessories\",\"Accessories\",\"Accessories\",\"Bags\",\"Accessories\",\"Accessories\",\"Garment Upper body\",\"Cosmetic\",\"Garment and Shoe care\",\"Garment Upper body\",\"Garment Full body\",\"Bags\",\"Interior textile\",\"Accessories\",\"Items\",\"Garment Full body\",\"Garment Full body\",\"Accessories\",\"Accessories\",\"Accessories\",\"Accessories\",\"Cosmetic\",\"Shoes\",\"Shoes\",\"Shoes\",\"Garment Full body\",\"Accessories\",\"Accessories\",\"Accessories\",\"Accessories\",\"Accessories\",\"Accessories\",\"Accessories\",\"Accessories\",\"Accessories\",\"Accessories\",\"Shoes\",\"Shoes\",\"Garment Upper body\",\"Garment Upper body\",\"Garment Full body\",\"Items\",\"Underwear\",\"Socks & Tights\",\"Garment Lower body\",\"Underwear\",\"Stationery\",\"Items\",\"Shoes\",\"Accessories\",\"Nightwear\",\"Underwear\",\"Accessories\",\"Shoes\",\"Garment Upper body\",\"Garment Full body\",\"Garment Lower body\",\"Garment Upper body\",\"Shoes\",\"Shoes\",\"Nightwear\",\"Nightwear\",\"Nightwear\",\"Accessories\",\"Underwear\",\"Shoes\",\"Swimwear\",\"Accessories\",\"Garment and Shoe care\",\"Garment Upper body\",\"Garment Lower body\",\"Bags\",\"Furniture\",\"Garment Lower body\",\"Underwear/nightwear\",\"Underwear/nightwear\",\"Shoes\",\"Shoes\",\"Socks & Tights\",\"Accessories\",\"Garment and Shoe care\",\"Accessories\",\"Accessories\",\"Garment Upper body\",\"Swimwear\",\"Swimwear\",\"Swimwear\",\"Swimwear\",\"Garment Upper body\",\"Garment Upper body\",\"Accessories\",\"Garment Upper body\",\"Bags\",\"Interior textile\",\"Fun\",\"Garment Lower body\",\"Accessories\",\"Items\",\"Underwear\",\"Socks & Tights\",\"Underwear\",\"Underwear\",\"Underwear\",\"Underwear\",\"Unknown\",\"Garment Upper body\",\"Accessories\",\"Garment and Shoe care\",\"Accessories\",\"Accessories\",\"Shoes\",\"Bags\",\"Items\",\"Garment and Shoe care\",\"Garment and Shoe care\",\"\",\"\",\"\",\"\",\"\",\"\",\"\",\"\",\"\",\"\",\"\",\"\",\"\",\"\",\"\",\"\",\"\",\"\",\"\"],\"values\":[7,6,3,6,1280,372,56,458,850,1,1110,3979,913,31,1028,2212,1,180,3,7,1,13,573,1550,3,1,460,90,5,1,20,7,10362,309,1159,11,2,10,46,165,10,125,1320,15,367,244,238,24,854,2,1349,396,1,202,22,2356,3940,1147,1,96,7,1878,30,5,4,4,581,171,19,1034,395,154,64,130,449,1,188,220,388,1120,240,136,757,66,1013,1,3405,3939,2,13,2696,6,48,249,1621,1889,46,2,6,621,9302,662,1307,192,50,7904,73,141,4155,2,1,2,11169,26,3,20,546,174,2748,7,47,121,2991,77,1,73,22,113,9,2,1,3,11158,25,49,2,13,13292,19812,42741,9,3,17,1899,5283,2442,5,3127,5490,54,121],\"type\":\"sunburst\"}],                        {\"template\":{\"data\":{\"histogram2dcontour\":[{\"type\":\"histogram2dcontour\",\"colorbar\":{\"outlinewidth\":0,\"ticks\":\"\"},\"colorscale\":[[0.0,\"#0d0887\"],[0.1111111111111111,\"#46039f\"],[0.2222222222222222,\"#7201a8\"],[0.3333333333333333,\"#9c179e\"],[0.4444444444444444,\"#bd3786\"],[0.5555555555555556,\"#d8576b\"],[0.6666666666666666,\"#ed7953\"],[0.7777777777777778,\"#fb9f3a\"],[0.8888888888888888,\"#fdca26\"],[1.0,\"#f0f921\"]]}],\"choropleth\":[{\"type\":\"choropleth\",\"colorbar\":{\"outlinewidth\":0,\"ticks\":\"\"}}],\"histogram2d\":[{\"type\":\"histogram2d\",\"colorbar\":{\"outlinewidth\":0,\"ticks\":\"\"},\"colorscale\":[[0.0,\"#0d0887\"],[0.1111111111111111,\"#46039f\"],[0.2222222222222222,\"#7201a8\"],[0.3333333333333333,\"#9c179e\"],[0.4444444444444444,\"#bd3786\"],[0.5555555555555556,\"#d8576b\"],[0.6666666666666666,\"#ed7953\"],[0.7777777777777778,\"#fb9f3a\"],[0.8888888888888888,\"#fdca26\"],[1.0,\"#f0f921\"]]}],\"heatmap\":[{\"type\":\"heatmap\",\"colorbar\":{\"outlinewidth\":0,\"ticks\":\"\"},\"colorscale\":[[0.0,\"#0d0887\"],[0.1111111111111111,\"#46039f\"],[0.2222222222222222,\"#7201a8\"],[0.3333333333333333,\"#9c179e\"],[0.4444444444444444,\"#bd3786\"],[0.5555555555555556,\"#d8576b\"],[0.6666666666666666,\"#ed7953\"],[0.7777777777777778,\"#fb9f3a\"],[0.8888888888888888,\"#fdca26\"],[1.0,\"#f0f921\"]]}],\"heatmapgl\":[{\"type\":\"heatmapgl\",\"colorbar\":{\"outlinewidth\":0,\"ticks\":\"\"},\"colorscale\":[[0.0,\"#0d0887\"],[0.1111111111111111,\"#46039f\"],[0.2222222222222222,\"#7201a8\"],[0.3333333333333333,\"#9c179e\"],[0.4444444444444444,\"#bd3786\"],[0.5555555555555556,\"#d8576b\"],[0.6666666666666666,\"#ed7953\"],[0.7777777777777778,\"#fb9f3a\"],[0.8888888888888888,\"#fdca26\"],[1.0,\"#f0f921\"]]}],\"contourcarpet\":[{\"type\":\"contourcarpet\",\"colorbar\":{\"outlinewidth\":0,\"ticks\":\"\"}}],\"contour\":[{\"type\":\"contour\",\"colorbar\":{\"outlinewidth\":0,\"ticks\":\"\"},\"colorscale\":[[0.0,\"#0d0887\"],[0.1111111111111111,\"#46039f\"],[0.2222222222222222,\"#7201a8\"],[0.3333333333333333,\"#9c179e\"],[0.4444444444444444,\"#bd3786\"],[0.5555555555555556,\"#d8576b\"],[0.6666666666666666,\"#ed7953\"],[0.7777777777777778,\"#fb9f3a\"],[0.8888888888888888,\"#fdca26\"],[1.0,\"#f0f921\"]]}],\"surface\":[{\"type\":\"surface\",\"colorbar\":{\"outlinewidth\":0,\"ticks\":\"\"},\"colorscale\":[[0.0,\"#0d0887\"],[0.1111111111111111,\"#46039f\"],[0.2222222222222222,\"#7201a8\"],[0.3333333333333333,\"#9c179e\"],[0.4444444444444444,\"#bd3786\"],[0.5555555555555556,\"#d8576b\"],[0.6666666666666666,\"#ed7953\"],[0.7777777777777778,\"#fb9f3a\"],[0.8888888888888888,\"#fdca26\"],[1.0,\"#f0f921\"]]}],\"mesh3d\":[{\"type\":\"mesh3d\",\"colorbar\":{\"outlinewidth\":0,\"ticks\":\"\"}}],\"scatter\":[{\"fillpattern\":{\"fillmode\":\"overlay\",\"size\":10,\"solidity\":0.2},\"type\":\"scatter\"}],\"parcoords\":[{\"type\":\"parcoords\",\"line\":{\"colorbar\":{\"outlinewidth\":0,\"ticks\":\"\"}}}],\"scatterpolargl\":[{\"type\":\"scatterpolargl\",\"marker\":{\"colorbar\":{\"outlinewidth\":0,\"ticks\":\"\"}}}],\"bar\":[{\"error_x\":{\"color\":\"#2a3f5f\"},\"error_y\":{\"color\":\"#2a3f5f\"},\"marker\":{\"line\":{\"color\":\"#E5ECF6\",\"width\":0.5},\"pattern\":{\"fillmode\":\"overlay\",\"size\":10,\"solidity\":0.2}},\"type\":\"bar\"}],\"scattergeo\":[{\"type\":\"scattergeo\",\"marker\":{\"colorbar\":{\"outlinewidth\":0,\"ticks\":\"\"}}}],\"scatterpolar\":[{\"type\":\"scatterpolar\",\"marker\":{\"colorbar\":{\"outlinewidth\":0,\"ticks\":\"\"}}}],\"histogram\":[{\"marker\":{\"pattern\":{\"fillmode\":\"overlay\",\"size\":10,\"solidity\":0.2}},\"type\":\"histogram\"}],\"scattergl\":[{\"type\":\"scattergl\",\"marker\":{\"colorbar\":{\"outlinewidth\":0,\"ticks\":\"\"}}}],\"scatter3d\":[{\"type\":\"scatter3d\",\"line\":{\"colorbar\":{\"outlinewidth\":0,\"ticks\":\"\"}},\"marker\":{\"colorbar\":{\"outlinewidth\":0,\"ticks\":\"\"}}}],\"scattermapbox\":[{\"type\":\"scattermapbox\",\"marker\":{\"colorbar\":{\"outlinewidth\":0,\"ticks\":\"\"}}}],\"scatterternary\":[{\"type\":\"scatterternary\",\"marker\":{\"colorbar\":{\"outlinewidth\":0,\"ticks\":\"\"}}}],\"scattercarpet\":[{\"type\":\"scattercarpet\",\"marker\":{\"colorbar\":{\"outlinewidth\":0,\"ticks\":\"\"}}}],\"carpet\":[{\"aaxis\":{\"endlinecolor\":\"#2a3f5f\",\"gridcolor\":\"white\",\"linecolor\":\"white\",\"minorgridcolor\":\"white\",\"startlinecolor\":\"#2a3f5f\"},\"baxis\":{\"endlinecolor\":\"#2a3f5f\",\"gridcolor\":\"white\",\"linecolor\":\"white\",\"minorgridcolor\":\"white\",\"startlinecolor\":\"#2a3f5f\"},\"type\":\"carpet\"}],\"table\":[{\"cells\":{\"fill\":{\"color\":\"#EBF0F8\"},\"line\":{\"color\":\"white\"}},\"header\":{\"fill\":{\"color\":\"#C8D4E3\"},\"line\":{\"color\":\"white\"}},\"type\":\"table\"}],\"barpolar\":[{\"marker\":{\"line\":{\"color\":\"#E5ECF6\",\"width\":0.5},\"pattern\":{\"fillmode\":\"overlay\",\"size\":10,\"solidity\":0.2}},\"type\":\"barpolar\"}],\"pie\":[{\"automargin\":true,\"type\":\"pie\"}]},\"layout\":{\"autotypenumbers\":\"strict\",\"colorway\":[\"#636efa\",\"#EF553B\",\"#00cc96\",\"#ab63fa\",\"#FFA15A\",\"#19d3f3\",\"#FF6692\",\"#B6E880\",\"#FF97FF\",\"#FECB52\"],\"font\":{\"color\":\"#2a3f5f\"},\"hovermode\":\"closest\",\"hoverlabel\":{\"align\":\"left\"},\"paper_bgcolor\":\"white\",\"plot_bgcolor\":\"#E5ECF6\",\"polar\":{\"bgcolor\":\"#E5ECF6\",\"angularaxis\":{\"gridcolor\":\"white\",\"linecolor\":\"white\",\"ticks\":\"\"},\"radialaxis\":{\"gridcolor\":\"white\",\"linecolor\":\"white\",\"ticks\":\"\"}},\"ternary\":{\"bgcolor\":\"#E5ECF6\",\"aaxis\":{\"gridcolor\":\"white\",\"linecolor\":\"white\",\"ticks\":\"\"},\"baxis\":{\"gridcolor\":\"white\",\"linecolor\":\"white\",\"ticks\":\"\"},\"caxis\":{\"gridcolor\":\"white\",\"linecolor\":\"white\",\"ticks\":\"\"}},\"coloraxis\":{\"colorbar\":{\"outlinewidth\":0,\"ticks\":\"\"}},\"colorscale\":{\"sequential\":[[0.0,\"#0d0887\"],[0.1111111111111111,\"#46039f\"],[0.2222222222222222,\"#7201a8\"],[0.3333333333333333,\"#9c179e\"],[0.4444444444444444,\"#bd3786\"],[0.5555555555555556,\"#d8576b\"],[0.6666666666666666,\"#ed7953\"],[0.7777777777777778,\"#fb9f3a\"],[0.8888888888888888,\"#fdca26\"],[1.0,\"#f0f921\"]],\"sequentialminus\":[[0.0,\"#0d0887\"],[0.1111111111111111,\"#46039f\"],[0.2222222222222222,\"#7201a8\"],[0.3333333333333333,\"#9c179e\"],[0.4444444444444444,\"#bd3786\"],[0.5555555555555556,\"#d8576b\"],[0.6666666666666666,\"#ed7953\"],[0.7777777777777778,\"#fb9f3a\"],[0.8888888888888888,\"#fdca26\"],[1.0,\"#f0f921\"]],\"diverging\":[[0,\"#8e0152\"],[0.1,\"#c51b7d\"],[0.2,\"#de77ae\"],[0.3,\"#f1b6da\"],[0.4,\"#fde0ef\"],[0.5,\"#f7f7f7\"],[0.6,\"#e6f5d0\"],[0.7,\"#b8e186\"],[0.8,\"#7fbc41\"],[0.9,\"#4d9221\"],[1,\"#276419\"]]},\"xaxis\":{\"gridcolor\":\"white\",\"linecolor\":\"white\",\"ticks\":\"\",\"title\":{\"standoff\":15},\"zerolinecolor\":\"white\",\"automargin\":true,\"zerolinewidth\":2},\"yaxis\":{\"gridcolor\":\"white\",\"linecolor\":\"white\",\"ticks\":\"\",\"title\":{\"standoff\":15},\"zerolinecolor\":\"white\",\"automargin\":true,\"zerolinewidth\":2},\"scene\":{\"xaxis\":{\"backgroundcolor\":\"#E5ECF6\",\"gridcolor\":\"white\",\"linecolor\":\"white\",\"showbackground\":true,\"ticks\":\"\",\"zerolinecolor\":\"white\",\"gridwidth\":2},\"yaxis\":{\"backgroundcolor\":\"#E5ECF6\",\"gridcolor\":\"white\",\"linecolor\":\"white\",\"showbackground\":true,\"ticks\":\"\",\"zerolinecolor\":\"white\",\"gridwidth\":2},\"zaxis\":{\"backgroundcolor\":\"#E5ECF6\",\"gridcolor\":\"white\",\"linecolor\":\"white\",\"showbackground\":true,\"ticks\":\"\",\"zerolinecolor\":\"white\",\"gridwidth\":2}},\"shapedefaults\":{\"line\":{\"color\":\"#2a3f5f\"}},\"annotationdefaults\":{\"arrowcolor\":\"#2a3f5f\",\"arrowhead\":0,\"arrowwidth\":1},\"geo\":{\"bgcolor\":\"white\",\"landcolor\":\"#E5ECF6\",\"subunitcolor\":\"white\",\"showland\":true,\"showlakes\":true,\"lakecolor\":\"white\"},\"title\":{\"x\":0.05},\"mapbox\":{\"style\":\"light\"}}},\"legend\":{\"tracegroupgap\":0},\"margin\":{\"t\":60},\"sunburstcolorway\":[\"#313131\",\"#3d019d\",\"#3810dc\",\"#2d47f9\",\"#2593ff\",\"#2adef6\",\"#60fdfa\",\"#aefdff\",\"#f3f3f1\",\"#fffda9\",\"#fafd5b\",\"#f7da29\",\"#ff8e25\",\"#f8432d\",\"#d90d39\",\"#97023d\",\"#313131\"],\"height\":800,\"width\":800},                        {\"responsive\": true}                    ).then(function(){\n",
       "                            \n",
       "var gd = document.getElementById('5226ac30-3c97-4bb7-bf90-341b55561d9b');\n",
       "var x = new MutationObserver(function (mutations, observer) {{\n",
       "        var display = window.getComputedStyle(gd).display;\n",
       "        if (!display || display === 'none') {{\n",
       "            console.log([gd, 'removed!']);\n",
       "            Plotly.purge(gd);\n",
       "            observer.disconnect();\n",
       "        }}\n",
       "}});\n",
       "\n",
       "// Listen for the removal of the full notebook cells\n",
       "var notebookContainer = gd.closest('#notebook-container');\n",
       "if (notebookContainer) {{\n",
       "    x.observe(notebookContainer, {childList: true});\n",
       "}}\n",
       "\n",
       "// Listen for the clearing of the current output cell\n",
       "var outputEl = gd.closest('.output');\n",
       "if (outputEl) {{\n",
       "    x.observe(outputEl, {childList: true});\n",
       "}}\n",
       "\n",
       "                        })                };                });            </script>        </div>"
      ]
     },
     "metadata": {},
     "output_type": "display_data"
    }
   ],
   "source": [
    "fig = px.sunburst(articles, path=['product_group_name', 'product_type_name'],width=800,\n",
    "    height=800,color_discrete_sequence=px.colors.cyclical.Edge)\n",
    "fig.show()"
   ]
  },
  {
   "cell_type": "code",
   "execution_count": 35,
   "id": "5ee2b154",
   "metadata": {},
   "outputs": [
    {
     "data": {
      "image/png": "[encoded data removed]",
      "text/plain": [
       "<Figure size 1500x700 with 1 Axes>"
      ]
     },
     "metadata": {},
     "output_type": "display_data"
    }
   ],
   "source": [
    "f, ax = plt.subplots(figsize=(15, 7))\n",
    "ax = sns.histplot(data=articles, y='garment_group_name', color='orange', hue='index_group_name', multiple=\"stack\")\n",
    "ax.set_xlabel('count by garment group')\n",
    "ax.set_ylabel('garment group')\n",
    "plt.show()"
   ]
  },
  {
   "cell_type": "code",
   "execution_count": 36,
   "id": "0654bc31",
   "metadata": {},
   "outputs": [
    {
     "data": {
      "text/html": [
       "<div>\n",
       "<style scoped>\n",
       "    .dataframe tbody tr th:only-of-type {\n",
       "        vertical-align: middle;\n",
       "    }\n",
       "\n",
       "    .dataframe tbody tr th {\n",
       "        vertical-align: top;\n",
       "    }\n",
       "\n",
       "    .dataframe thead th {\n",
       "        text-align: right;\n",
       "    }\n",
       "</style>\n",
       "<table border=\"1\" class=\"dataframe\">\n",
       "  <thead>\n",
       "    <tr style=\"text-align: right;\">\n",
       "      <th></th>\n",
       "      <th>customer_id</th>\n",
       "      <th>FN</th>\n",
       "      <th>Active</th>\n",
       "      <th>club_member_status</th>\n",
       "      <th>fashion_news_frequency</th>\n",
       "      <th>age</th>\n",
       "      <th>postal_code</th>\n",
       "    </tr>\n",
       "  </thead>\n",
       "  <tbody>\n",
       "    <tr>\n",
       "      <th>0</th>\n",
       "      <td>00000dbacae5abe5e23885899a1fa44253a17956c6d1c3...</td>\n",
       "      <td>NaN</td>\n",
       "      <td>NaN</td>\n",
       "      <td>ACTIVE</td>\n",
       "      <td>NONE</td>\n",
       "      <td>49.0</td>\n",
       "      <td>52043ee2162cf5aa7ee79974281641c6f11a68d276429a...</td>\n",
       "    </tr>\n",
       "    <tr>\n",
       "      <th>1</th>\n",
       "      <td>0000423b00ade91418cceaf3b26c6af3dd342b51fd051e...</td>\n",
       "      <td>NaN</td>\n",
       "      <td>NaN</td>\n",
       "      <td>ACTIVE</td>\n",
       "      <td>NONE</td>\n",
       "      <td>25.0</td>\n",
       "      <td>2973abc54daa8a5f8ccfe9362140c63247c5eee03f1d93...</td>\n",
       "    </tr>\n",
       "    <tr>\n",
       "      <th>2</th>\n",
       "      <td>000058a12d5b43e67d225668fa1f8d618c13dc232df0ca...</td>\n",
       "      <td>NaN</td>\n",
       "      <td>NaN</td>\n",
       "      <td>ACTIVE</td>\n",
       "      <td>NONE</td>\n",
       "      <td>24.0</td>\n",
       "      <td>64f17e6a330a85798e4998f62d0930d14db8db1c054af6...</td>\n",
       "    </tr>\n",
       "  </tbody>\n",
       "</table>\n",
       "</div>"
      ],
      "text/plain": [
       "                                         customer_id  FN  Active  \\\n",
       "0  00000dbacae5abe5e23885899a1fa44253a17956c6d1c3... NaN     NaN   \n",
       "1  0000423b00ade91418cceaf3b26c6af3dd342b51fd051e... NaN     NaN   \n",
       "2  000058a12d5b43e67d225668fa1f8d618c13dc232df0ca... NaN     NaN   \n",
       "\n",
       "  club_member_status fashion_news_frequency   age  \\\n",
       "0             ACTIVE                   NONE  49.0   \n",
       "1             ACTIVE                   NONE  25.0   \n",
       "2             ACTIVE                   NONE  24.0   \n",
       "\n",
       "                                         postal_code  \n",
       "0  52043ee2162cf5aa7ee79974281641c6f11a68d276429a...  \n",
       "1  2973abc54daa8a5f8ccfe9362140c63247c5eee03f1d93...  \n",
       "2  64f17e6a330a85798e4998f62d0930d14db8db1c054af6...  "
      ]
     },
     "execution_count": 36,
     "metadata": {},
     "output_type": "execute_result"
    }
   ],
   "source": [
    "customers = pd.read_csv(\"D:/New folder/FYP/customers.csv\")\n",
    "customers.head(3)"
   ]
  },
  {
   "cell_type": "code",
   "execution_count": 37,
   "id": "03cd8d28",
   "metadata": {},
   "outputs": [],
   "source": [
    "customers = customers.replace(\"NONE\", \"None\")"
   ]
  },
  {
   "cell_type": "code",
   "execution_count": 38,
   "id": "f6e737b7",
   "metadata": {},
   "outputs": [
    {
     "data": {
      "image/png": "[encoded data removed]",
      "text/plain": [
       "<Figure size 1500x700 with 1 Axes>"
      ]
     },
     "metadata": {},
     "output_type": "display_data"
    }
   ],
   "source": [
    "f, ax = plt.subplots(figsize=(15, 7))\n",
    "plt.title('Distribution of members and non-members') \n",
    "ax = sns.histplot(data=customers, y='club_member_status', color='green')\n",
    "ax.set_xlabel('count by member status')\n",
    "ax.set_ylabel('membership status')\n",
    "plt.show()"
   ]
  },
  {
   "cell_type": "code",
   "execution_count": 39,
   "id": "e699a3aa",
   "metadata": {},
   "outputs": [
    {
     "data": {
      "image/png": "[encoded data removed]",
      "text/plain": [
       "<Figure size 1000x500 with 1 Axes>"
      ]
     },
     "metadata": {},
     "output_type": "display_data"
    }
   ],
   "source": [
    "plt.figure(figsize=(10,5))\n",
    "plt.title('Age distribution of customers') \n",
    "plt.xlim(0,100)\n",
    "plt.xlabel('Number of customers')\n",
    "plt.ylabel('Age')\n",
    "sns.distplot(customers['age'],bins=10,kde=False)\n",
    "plt.show()"
   ]
  },
  {
   "cell_type": "code",
   "execution_count": 40,
   "id": "0e438d8b",
   "metadata": {},
   "outputs": [
    {
     "data": {
      "image/png": "[encoded data removed]",
      "text/plain": [
       "<Figure size 1500x700 with 1 Axes>"
      ]
     },
     "metadata": {},
     "output_type": "display_data"
    }
   ],
   "source": [
    "f, ax = plt.subplots(figsize=(15, 7))\n",
    "plt.title('Fashion news frequency') \n",
    "ax = sns.histplot(data=customers, y='fashion_news_frequency', color='green')\n",
    "ax.set_xlabel('number of customers')\n",
    "plt.show()"
   ]
  },
  {
   "cell_type": "code",
   "execution_count": 41,
   "id": "7171e59e",
   "metadata": {},
   "outputs": [],
   "source": [
    "from skimage import io"
   ]
  },
  {
   "cell_type": "code",
   "execution_count": 42,
   "id": "0699e041",
   "metadata": {},
   "outputs": [],
   "source": [
    "ic = io.ImageCollection(\"D:/New folder/FYP/images_128_128/*/*.jpg\")\n"
   ]
  },
  {
   "cell_type": "code",
   "execution_count": 43,
   "id": "9c65f5d6",
   "metadata": {},
   "outputs": [],
   "source": [
    "ic = np.array(ic)\n",
    "ic_flat = ic.reshape((len(ic), -1))"
   ]
  },
  {
   "cell_type": "code",
   "execution_count": 44,
   "id": "95566754",
   "metadata": {},
   "outputs": [
    {
     "data": {
      "text/plain": [
       "(105100, 128, 128, 3)"
      ]
     },
     "execution_count": 44,
     "metadata": {},
     "output_type": "execute_result"
    }
   ],
   "source": [
    "ic.shape "
   ]
  },
  {
   "cell_type": "code",
   "execution_count": 45,
   "id": "bb928dc1",
   "metadata": {},
   "outputs": [],
   "source": [
    "number, m, n, weird = ic.shape  "
   ]
  },
  {
   "cell_type": "code",
   "execution_count": 46,
   "id": "7032f26d",
   "metadata": {},
   "outputs": [
    {
     "data": {
      "application/vnd.jupyter.widget-view+json": {
       "model_id": "0cef5e98c4f94ec1bb46f1249b36b1e2",
       "version_major": 2,
       "version_minor": 0
      },
      "text/plain": [
       "interactive(children=(IntSlider(value=0, description='n', max=105099), Output()), _dom_classes=('widget-intera…"
      ]
     },
     "metadata": {},
     "output_type": "display_data"
    }
   ],
   "source": [
    "# VISUALIZING THE PRODUCTS\n",
    "import ipywidgets as widgets\n",
    "from ipywidgets import interact\n",
    "\n",
    "def view_image(n=0):\n",
    "    plt.imshow(ic[n], cmap='gray', interpolation='nearest')\n",
    "    plt.show()\n",
    "\n",
    "w = interact(view_image, n=(0, len(ic)-1))"
   ]
  },
  {
   "cell_type": "code",
   "execution_count": 47,
   "id": "3f8d5716",
   "metadata": {},
   "outputs": [],
   "source": [
    "articles[\"image_exists\"] = 0"
   ]
  },
  {
   "cell_type": "code",
   "execution_count": 48,
   "id": "a6e10c4b",
   "metadata": {},
   "outputs": [
    {
     "data": {
      "text/html": [
       "<div>\n",
       "<style scoped>\n",
       "    .dataframe tbody tr th:only-of-type {\n",
       "        vertical-align: middle;\n",
       "    }\n",
       "\n",
       "    .dataframe tbody tr th {\n",
       "        vertical-align: top;\n",
       "    }\n",
       "\n",
       "    .dataframe thead th {\n",
       "        text-align: right;\n",
       "    }\n",
       "</style>\n",
       "<table border=\"1\" class=\"dataframe\">\n",
       "  <thead>\n",
       "    <tr style=\"text-align: right;\">\n",
       "      <th></th>\n",
       "      <th>article_id</th>\n",
       "      <th>product_code</th>\n",
       "      <th>prod_name</th>\n",
       "      <th>product_type_no</th>\n",
       "      <th>product_type_name</th>\n",
       "      <th>product_group_name</th>\n",
       "      <th>graphical_appearance_no</th>\n",
       "      <th>graphical_appearance_name</th>\n",
       "      <th>colour_group_code</th>\n",
       "      <th>colour_group_name</th>\n",
       "      <th>...</th>\n",
       "      <th>index_code</th>\n",
       "      <th>index_name</th>\n",
       "      <th>index_group_no</th>\n",
       "      <th>index_group_name</th>\n",
       "      <th>section_no</th>\n",
       "      <th>section_name</th>\n",
       "      <th>garment_group_no</th>\n",
       "      <th>garment_group_name</th>\n",
       "      <th>detail_desc</th>\n",
       "      <th>image_exists</th>\n",
       "    </tr>\n",
       "  </thead>\n",
       "  <tbody>\n",
       "    <tr>\n",
       "      <th>0</th>\n",
       "      <td>108775015</td>\n",
       "      <td>108775</td>\n",
       "      <td>Strap top</td>\n",
       "      <td>253</td>\n",
       "      <td>Vest top</td>\n",
       "      <td>Garment Upper body</td>\n",
       "      <td>1010016</td>\n",
       "      <td>Solid</td>\n",
       "      <td>9</td>\n",
       "      <td>Black</td>\n",
       "      <td>...</td>\n",
       "      <td>A</td>\n",
       "      <td>Ladieswear</td>\n",
       "      <td>1</td>\n",
       "      <td>Ladieswear</td>\n",
       "      <td>16</td>\n",
       "      <td>Womens Everyday Basics</td>\n",
       "      <td>1002</td>\n",
       "      <td>Jersey Basic</td>\n",
       "      <td>Jersey top with narrow shoulder straps.</td>\n",
       "      <td>1</td>\n",
       "    </tr>\n",
       "    <tr>\n",
       "      <th>1</th>\n",
       "      <td>108775044</td>\n",
       "      <td>108775</td>\n",
       "      <td>Strap top</td>\n",
       "      <td>253</td>\n",
       "      <td>Vest top</td>\n",
       "      <td>Garment Upper body</td>\n",
       "      <td>1010016</td>\n",
       "      <td>Solid</td>\n",
       "      <td>10</td>\n",
       "      <td>White</td>\n",
       "      <td>...</td>\n",
       "      <td>A</td>\n",
       "      <td>Ladieswear</td>\n",
       "      <td>1</td>\n",
       "      <td>Ladieswear</td>\n",
       "      <td>16</td>\n",
       "      <td>Womens Everyday Basics</td>\n",
       "      <td>1002</td>\n",
       "      <td>Jersey Basic</td>\n",
       "      <td>Jersey top with narrow shoulder straps.</td>\n",
       "      <td>1</td>\n",
       "    </tr>\n",
       "    <tr>\n",
       "      <th>2</th>\n",
       "      <td>108775051</td>\n",
       "      <td>108775</td>\n",
       "      <td>Strap top (1)</td>\n",
       "      <td>253</td>\n",
       "      <td>Vest top</td>\n",
       "      <td>Garment Upper body</td>\n",
       "      <td>1010017</td>\n",
       "      <td>Stripe</td>\n",
       "      <td>11</td>\n",
       "      <td>Off White</td>\n",
       "      <td>...</td>\n",
       "      <td>A</td>\n",
       "      <td>Ladieswear</td>\n",
       "      <td>1</td>\n",
       "      <td>Ladieswear</td>\n",
       "      <td>16</td>\n",
       "      <td>Womens Everyday Basics</td>\n",
       "      <td>1002</td>\n",
       "      <td>Jersey Basic</td>\n",
       "      <td>Jersey top with narrow shoulder straps.</td>\n",
       "      <td>1</td>\n",
       "    </tr>\n",
       "    <tr>\n",
       "      <th>3</th>\n",
       "      <td>110065001</td>\n",
       "      <td>110065</td>\n",
       "      <td>OP T-shirt (Idro)</td>\n",
       "      <td>306</td>\n",
       "      <td>Bra</td>\n",
       "      <td>Underwear</td>\n",
       "      <td>1010016</td>\n",
       "      <td>Solid</td>\n",
       "      <td>9</td>\n",
       "      <td>Black</td>\n",
       "      <td>...</td>\n",
       "      <td>B</td>\n",
       "      <td>Lingeries/Tights</td>\n",
       "      <td>1</td>\n",
       "      <td>Ladieswear</td>\n",
       "      <td>61</td>\n",
       "      <td>Womens Lingerie</td>\n",
       "      <td>1017</td>\n",
       "      <td>Under-, Nightwear</td>\n",
       "      <td>Microfibre T-shirt bra with underwired, moulde...</td>\n",
       "      <td>1</td>\n",
       "    </tr>\n",
       "    <tr>\n",
       "      <th>4</th>\n",
       "      <td>110065002</td>\n",
       "      <td>110065</td>\n",
       "      <td>OP T-shirt (Idro)</td>\n",
       "      <td>306</td>\n",
       "      <td>Bra</td>\n",
       "      <td>Underwear</td>\n",
       "      <td>1010016</td>\n",
       "      <td>Solid</td>\n",
       "      <td>10</td>\n",
       "      <td>White</td>\n",
       "      <td>...</td>\n",
       "      <td>B</td>\n",
       "      <td>Lingeries/Tights</td>\n",
       "      <td>1</td>\n",
       "      <td>Ladieswear</td>\n",
       "      <td>61</td>\n",
       "      <td>Womens Lingerie</td>\n",
       "      <td>1017</td>\n",
       "      <td>Under-, Nightwear</td>\n",
       "      <td>Microfibre T-shirt bra with underwired, moulde...</td>\n",
       "      <td>1</td>\n",
       "    </tr>\n",
       "  </tbody>\n",
       "</table>\n",
       "<p>5 rows × 26 columns</p>\n",
       "</div>"
      ],
      "text/plain": [
       "   article_id  product_code          prod_name  product_type_no  \\\n",
       "0   108775015        108775          Strap top              253   \n",
       "1   108775044        108775          Strap top              253   \n",
       "2   108775051        108775      Strap top (1)              253   \n",
       "3   110065001        110065  OP T-shirt (Idro)              306   \n",
       "4   110065002        110065  OP T-shirt (Idro)              306   \n",
       "\n",
       "  product_type_name  product_group_name  graphical_appearance_no  \\\n",
       "0          Vest top  Garment Upper body                  1010016   \n",
       "1          Vest top  Garment Upper body                  1010016   \n",
       "2          Vest top  Garment Upper body                  1010017   \n",
       "3               Bra           Underwear                  1010016   \n",
       "4               Bra           Underwear                  1010016   \n",
       "\n",
       "  graphical_appearance_name  colour_group_code colour_group_name  ...  \\\n",
       "0                     Solid                  9             Black  ...   \n",
       "1                     Solid                 10             White  ...   \n",
       "2                    Stripe                 11         Off White  ...   \n",
       "3                     Solid                  9             Black  ...   \n",
       "4                     Solid                 10             White  ...   \n",
       "\n",
       "   index_code        index_name  index_group_no index_group_name  section_no  \\\n",
       "0           A        Ladieswear               1       Ladieswear          16   \n",
       "1           A        Ladieswear               1       Ladieswear          16   \n",
       "2           A        Ladieswear               1       Ladieswear          16   \n",
       "3           B  Lingeries/Tights               1       Ladieswear          61   \n",
       "4           B  Lingeries/Tights               1       Ladieswear          61   \n",
       "\n",
       "             section_name garment_group_no garment_group_name  \\\n",
       "0  Womens Everyday Basics             1002       Jersey Basic   \n",
       "1  Womens Everyday Basics             1002       Jersey Basic   \n",
       "2  Womens Everyday Basics             1002       Jersey Basic   \n",
       "3         Womens Lingerie             1017  Under-, Nightwear   \n",
       "4         Womens Lingerie             1017  Under-, Nightwear   \n",
       "\n",
       "                                         detail_desc image_exists  \n",
       "0            Jersey top with narrow shoulder straps.            1  \n",
       "1            Jersey top with narrow shoulder straps.            1  \n",
       "2            Jersey top with narrow shoulder straps.            1  \n",
       "3  Microfibre T-shirt bra with underwired, moulde...            1  \n",
       "4  Microfibre T-shirt bra with underwired, moulde...            1  \n",
       "\n",
       "[5 rows x 26 columns]"
      ]
     },
     "execution_count": 48,
     "metadata": {},
     "output_type": "execute_result"
    }
   ],
   "source": [
    "for iRow in range(len(articles['article_id'])): \n",
    "    article_id = str(articles.iloc[iRow, 0])\n",
    "    path = \"D:/New folder/FYP/images_128_128/0\" + str(article_id[:2]) + \"/0\" +article_id + \".jpg\"\n",
    "    if os.path.isfile(path) == True: \n",
    "        articles.iloc[iRow, 25] = 1\n",
    "articles.head()"
   ]
  },
  {
   "cell_type": "code",
   "execution_count": 52,
   "id": "b7c38e2c",
   "metadata": {},
   "outputs": [
    {
     "ename": "KeyError",
     "evalue": "'image_exists'",
     "output_type": "error",
     "traceback": [
      "\u001b[1;31m---------------------------------------------------------------------------\u001b[0m",
      "\u001b[1;31mKeyError\u001b[0m                                  Traceback (most recent call last)",
      "File \u001b[1;32m~\\anaconda3\\lib\\site-packages\\pandas\\core\\indexes\\base.py:3802\u001b[0m, in \u001b[0;36mIndex.get_loc\u001b[1;34m(self, key, method, tolerance)\u001b[0m\n\u001b[0;32m   3801\u001b[0m \u001b[38;5;28;01mtry\u001b[39;00m:\n\u001b[1;32m-> 3802\u001b[0m     \u001b[38;5;28;01mreturn\u001b[39;00m \u001b[38;5;28;43mself\u001b[39;49m\u001b[38;5;241;43m.\u001b[39;49m\u001b[43m_engine\u001b[49m\u001b[38;5;241;43m.\u001b[39;49m\u001b[43mget_loc\u001b[49m\u001b[43m(\u001b[49m\u001b[43mcasted_key\u001b[49m\u001b[43m)\u001b[49m\n\u001b[0;32m   3803\u001b[0m \u001b[38;5;28;01mexcept\u001b[39;00m \u001b[38;5;167;01mKeyError\u001b[39;00m \u001b[38;5;28;01mas\u001b[39;00m err:\n",
      "File \u001b[1;32m~\\anaconda3\\lib\\site-packages\\pandas\\_libs\\index.pyx:138\u001b[0m, in \u001b[0;36mpandas._libs.index.IndexEngine.get_loc\u001b[1;34m()\u001b[0m\n",
      "File \u001b[1;32m~\\anaconda3\\lib\\site-packages\\pandas\\_libs\\index.pyx:165\u001b[0m, in \u001b[0;36mpandas._libs.index.IndexEngine.get_loc\u001b[1;34m()\u001b[0m\n",
      "File \u001b[1;32mpandas\\_libs\\hashtable_class_helper.pxi:5745\u001b[0m, in \u001b[0;36mpandas._libs.hashtable.PyObjectHashTable.get_item\u001b[1;34m()\u001b[0m\n",
      "File \u001b[1;32mpandas\\_libs\\hashtable_class_helper.pxi:5753\u001b[0m, in \u001b[0;36mpandas._libs.hashtable.PyObjectHashTable.get_item\u001b[1;34m()\u001b[0m\n",
      "\u001b[1;31mKeyError\u001b[0m: 'image_exists'",
      "\nThe above exception was the direct cause of the following exception:\n",
      "\u001b[1;31mKeyError\u001b[0m                                  Traceback (most recent call last)",
      "Cell \u001b[1;32mIn[52], line 1\u001b[0m\n\u001b[1;32m----> 1\u001b[0m articles \u001b[38;5;241m=\u001b[39m articles\u001b[38;5;241m.\u001b[39mloc[\u001b[43marticles\u001b[49m\u001b[43m[\u001b[49m\u001b[38;5;124;43m'\u001b[39;49m\u001b[38;5;124;43mimage_exists\u001b[39;49m\u001b[38;5;124;43m'\u001b[39;49m\u001b[43m]\u001b[49m \u001b[38;5;241m==\u001b[39m \u001b[38;5;241m1\u001b[39m] \n\u001b[0;32m      2\u001b[0m articles \u001b[38;5;241m=\u001b[39m articles\u001b[38;5;241m.\u001b[39mdrop(\u001b[38;5;124m'\u001b[39m\u001b[38;5;124mimage_exists\u001b[39m\u001b[38;5;124m'\u001b[39m, \u001b[38;5;241m1\u001b[39m)\n",
      "File \u001b[1;32m~\\anaconda3\\lib\\site-packages\\pandas\\core\\frame.py:3807\u001b[0m, in \u001b[0;36mDataFrame.__getitem__\u001b[1;34m(self, key)\u001b[0m\n\u001b[0;32m   3805\u001b[0m \u001b[38;5;28;01mif\u001b[39;00m \u001b[38;5;28mself\u001b[39m\u001b[38;5;241m.\u001b[39mcolumns\u001b[38;5;241m.\u001b[39mnlevels \u001b[38;5;241m>\u001b[39m \u001b[38;5;241m1\u001b[39m:\n\u001b[0;32m   3806\u001b[0m     \u001b[38;5;28;01mreturn\u001b[39;00m \u001b[38;5;28mself\u001b[39m\u001b[38;5;241m.\u001b[39m_getitem_multilevel(key)\n\u001b[1;32m-> 3807\u001b[0m indexer \u001b[38;5;241m=\u001b[39m \u001b[38;5;28;43mself\u001b[39;49m\u001b[38;5;241;43m.\u001b[39;49m\u001b[43mcolumns\u001b[49m\u001b[38;5;241;43m.\u001b[39;49m\u001b[43mget_loc\u001b[49m\u001b[43m(\u001b[49m\u001b[43mkey\u001b[49m\u001b[43m)\u001b[49m\n\u001b[0;32m   3808\u001b[0m \u001b[38;5;28;01mif\u001b[39;00m is_integer(indexer):\n\u001b[0;32m   3809\u001b[0m     indexer \u001b[38;5;241m=\u001b[39m [indexer]\n",
      "File \u001b[1;32m~\\anaconda3\\lib\\site-packages\\pandas\\core\\indexes\\base.py:3804\u001b[0m, in \u001b[0;36mIndex.get_loc\u001b[1;34m(self, key, method, tolerance)\u001b[0m\n\u001b[0;32m   3802\u001b[0m     \u001b[38;5;28;01mreturn\u001b[39;00m \u001b[38;5;28mself\u001b[39m\u001b[38;5;241m.\u001b[39m_engine\u001b[38;5;241m.\u001b[39mget_loc(casted_key)\n\u001b[0;32m   3803\u001b[0m \u001b[38;5;28;01mexcept\u001b[39;00m \u001b[38;5;167;01mKeyError\u001b[39;00m \u001b[38;5;28;01mas\u001b[39;00m err:\n\u001b[1;32m-> 3804\u001b[0m     \u001b[38;5;28;01mraise\u001b[39;00m \u001b[38;5;167;01mKeyError\u001b[39;00m(key) \u001b[38;5;28;01mfrom\u001b[39;00m \u001b[38;5;21;01merr\u001b[39;00m\n\u001b[0;32m   3805\u001b[0m \u001b[38;5;28;01mexcept\u001b[39;00m \u001b[38;5;167;01mTypeError\u001b[39;00m:\n\u001b[0;32m   3806\u001b[0m     \u001b[38;5;66;03m# If we have a listlike key, _check_indexing_error will raise\u001b[39;00m\n\u001b[0;32m   3807\u001b[0m     \u001b[38;5;66;03m#  InvalidIndexError. Otherwise we fall through and re-raise\u001b[39;00m\n\u001b[0;32m   3808\u001b[0m     \u001b[38;5;66;03m#  the TypeError.\u001b[39;00m\n\u001b[0;32m   3809\u001b[0m     \u001b[38;5;28mself\u001b[39m\u001b[38;5;241m.\u001b[39m_check_indexing_error(key)\n",
      "\u001b[1;31mKeyError\u001b[0m: 'image_exists'"
     ]
    }
   ],
   "source": [
    "#RECOMMENDER SYSTEM USING PRODUCT DESCRIPTION\n",
    "articles = articles.loc[articles['image_exists'] == 1] \n",
    "articles = articles.drop('image_exists', 1)"
   ]
  },
  {
   "cell_type": "code",
   "execution_count": 54,
   "id": "7dcc3810",
   "metadata": {},
   "outputs": [
    {
     "data": {
      "text/plain": [
       "(1000, 25)"
      ]
     },
     "execution_count": 54,
     "metadata": {},
     "output_type": "execute_result"
    }
   ],
   "source": [
    "articles = articles.head(1000)\n",
    "articles.shape "
   ]
  },
  {
   "cell_type": "code",
   "execution_count": 55,
   "id": "16d62d30",
   "metadata": {},
   "outputs": [
    {
     "data": {
      "text/plain": [
       "0    Jersey top with narrow shoulder straps.\n",
       "1    Jersey top with narrow shoulder straps.\n",
       "2    Jersey top with narrow shoulder straps.\n",
       "Name: detail_desc, dtype: object"
      ]
     },
     "execution_count": 55,
     "metadata": {},
     "output_type": "execute_result"
    }
   ],
   "source": [
    "articles['detail_desc'].head(3)"
   ]
  },
  {
   "cell_type": "code",
   "execution_count": 62,
   "id": "a20a2ed8",
   "metadata": {},
   "outputs": [
    {
     "name": "stdout",
     "output_type": "stream",
     "text": [
      "(1000, 513)\n"
     ]
    }
   ],
   "source": [
    "import pandas as pd\n",
    "from sklearn.feature_extraction.text import TfidfVectorizer\n",
    "\n",
    "\n",
    "\n",
    "# Create the TfidfVectorizer object with stop words\n",
    "tfidf = TfidfVectorizer(stop_words='english')\n",
    "\n",
    "# Replace NaN values with an empty string in the 'detail_desc' column\n",
    "articles['detail_desc'] = articles['detail_desc'].fillna('')\n",
    "\n",
    "# Compute the TF-IDF matrix by fitting and transforming the 'detail_desc' column\n",
    "tfidf_matrix = tfidf.fit_transform(articles['detail_desc'])\n",
    "\n",
    "# Output the shape of the tfidf_matrix\n",
    "print(tfidf_matrix.shape)"
   ]
  },
  {
   "cell_type": "code",
   "execution_count": 102,
   "id": "3884dd31",
   "metadata": {},
   "outputs": [
    {
     "name": "stdout",
     "output_type": "stream",
     "text": [
      "['cotton' 'cover' 'creases' 'create' 'creates' 'crop']\n"
     ]
    }
   ],
   "source": [
    "import sklearn\n",
    "\n",
    "# Check the version of scikit-learn\n",
    "sklearn_version = sklearn.__version__\n",
    "\n",
    "if sklearn_version < \"1.0\":\n",
    "    # Use get_feature_names()\n",
    "    print(tfidf.get_feature_names()[100:106])\n",
    "else:\n",
    "    # Use get_feature_names_out()\n",
    "    print(tfidf.get_feature_names_out()[100:106])"
   ]
  },
  {
   "cell_type": "code",
   "execution_count": 64,
   "id": "d3ac15ec",
   "metadata": {},
   "outputs": [],
   "source": [
    "subset_tfidf_matrix = tfidf_matrix[:1487, :1487]  \n",
    "cosine_sim = linear_kernel(subset_tfidf_matrix, subset_tfidf_matrix)"
   ]
  },
  {
   "cell_type": "code",
   "execution_count": 65,
   "id": "2e15e4da",
   "metadata": {},
   "outputs": [
    {
     "data": {
      "text/plain": [
       "(1000, 1000)"
      ]
     },
     "execution_count": 65,
     "metadata": {},
     "output_type": "execute_result"
    }
   ],
   "source": [
    "cosine_sim.shape"
   ]
  },
  {
   "cell_type": "code",
   "execution_count": null,
   "id": "1636f2b1",
   "metadata": {},
   "outputs": [],
   "source": []
  },
  {
   "cell_type": "code",
   "execution_count": 66,
   "id": "0dd84dca",
   "metadata": {},
   "outputs": [],
   "source": [
    "indices = pd.Series(articles.index, index=articles['article_id']).drop_duplicates()"
   ]
  },
  {
   "cell_type": "code",
   "execution_count": 67,
   "id": "f2a84aa8",
   "metadata": {},
   "outputs": [
    {
     "data": {
      "text/plain": [
       "article_id\n",
       "108775015    0\n",
       "108775044    1\n",
       "108775051    2\n",
       "110065001    3\n",
       "110065002    4\n",
       "110065011    5\n",
       "111565001    6\n",
       "111565003    7\n",
       "111586001    8\n",
       "111593001    9\n",
       "dtype: int64"
      ]
     },
     "execution_count": 67,
     "metadata": {},
     "output_type": "execute_result"
    }
   ],
   "source": [
    "indices[:10]"
   ]
  },
  {
   "cell_type": "code",
   "execution_count": 68,
   "id": "37c67df0",
   "metadata": {},
   "outputs": [],
   "source": [
    "def get_recommendations(article_id, cosine_sim=cosine_sim):\n",
    "    # Get the index of the article that matches the ID\n",
    "    idx = indices[article_id]\n",
    "\n",
    "    # Get the pairwsie similarity scores of all articles with that article\n",
    "    sim_scores = list(enumerate(cosine_sim[idx]))\n",
    "\n",
    "    # Sort the articles based on the similarity scores\n",
    "    sim_scores = sorted(sim_scores, key=lambda x: x[1], reverse=True)\n",
    "\n",
    "    # Get the scores of the 10 most similar articles\n",
    "    sim_scores = sim_scores[11:21]\n",
    "\n",
    "    # Get the articles indices\n",
    "    article_indices = [i[0] for i in sim_scores]\n",
    "\n",
    "    # Return the top 10 most similar articles\n",
    "    return articles['article_id'].iloc[article_indices]"
   ]
  },
  {
   "cell_type": "code",
   "execution_count": 69,
   "id": "a983706c",
   "metadata": {},
   "outputs": [
    {
     "data": {
      "text/plain": [
       "505    253448002\n",
       "506    253448003\n",
       "507    253448056\n",
       "508    253448059\n",
       "509    253448062\n",
       "694    286536007\n",
       "663    280256001\n",
       "664    280256006\n",
       "0      108775015\n",
       "1      108775044\n",
       "Name: article_id, dtype: int64"
      ]
     },
     "execution_count": 69,
     "metadata": {},
     "output_type": "execute_result"
    }
   ],
   "source": [
    "get_recommendations(110065001)\n"
   ]
  },
  {
   "cell_type": "code",
   "execution_count": 70,
   "id": "c63594ab",
   "metadata": {},
   "outputs": [
    {
     "data": {
      "text/plain": [
       "article_id\n",
       "108775015    0\n",
       "108775044    1\n",
       "108775051    2\n",
       "110065001    3\n",
       "110065002    4\n",
       "110065011    5\n",
       "111565001    6\n",
       "111565003    7\n",
       "111586001    8\n",
       "111593001    9\n",
       "dtype: int64"
      ]
     },
     "execution_count": 70,
     "metadata": {},
     "output_type": "execute_result"
    }
   ],
   "source": [
    "indices[:10]"
   ]
  },
  {
   "cell_type": "code",
   "execution_count": 76,
   "id": "b3fe909f",
   "metadata": {},
   "outputs": [
    {
     "data": {
      "text/plain": [
       "<matplotlib.image.AxesImage at 0x1b0d67afa60>"
      ]
     },
     "execution_count": 76,
     "metadata": {},
     "output_type": "execute_result"
    },
    {
     "data": {
      "image/png": "[encoded data removed]",
      "text/plain": [
       "<Figure size 2000x500 with 1 Axes>"
      ]
     },
     "metadata": {},
     "output_type": "display_data"
    }
   ],
   "source": [
    "import cv2\n",
    "BASE = \"D:/New folder/FYP/images_128_128/\"\n",
    "item = 116379047 # Test a random item\n",
    "name1 = BASE+'0'+str(item)[:2]+'/0'+str(item)+'.jpg'\n",
    "plt.figure(figsize=(20,5))\n",
    "img1 = cv2.imread(name1)[:,:,::-1]\n",
    "plt.title('So, the customer bought this item:',size=18)\n",
    "plt.axis('off')\n",
    "plt.imshow(img1)"
   ]
  },
  {
   "cell_type": "code",
   "execution_count": 77,
   "id": "1b5aed38",
   "metadata": {},
   "outputs": [
    {
     "name": "stdout",
     "output_type": "stream",
     "text": [
      "425     238197034\n",
      "396     237222001\n",
      "397     237222012\n",
      "398     237222016\n",
      "204     192460006\n",
      "1007    310091014\n",
      "1008    310091017\n",
      "1009    310091018\n",
      "1010    310091019\n",
      "187     189634001\n",
      "Name: article_id, dtype: int64\n"
     ]
    }
   ],
   "source": [
    "recommendations = get_recommendations(item)\n",
    "print(recommendations)"
   ]
  },
  {
   "cell_type": "code",
   "execution_count": 78,
   "id": "55c20506",
   "metadata": {},
   "outputs": [
    {
     "data": {
      "image/png": "[encoded data removed]",
      "text/plain": [
       "<Figure size 2000x500 with 3 Axes>"
      ]
     },
     "metadata": {},
     "output_type": "display_data"
    }
   ],
   "source": [
    "name2 = BASE+'0'+str(recommendations.iloc[0])[:2]+'/0'+str(recommendations.iloc[0])+'.jpg'\n",
    "name3 = BASE+'0'+str(recommendations.iloc[1])[:2]+'/0'+str(recommendations.iloc[1])+'.jpg'\n",
    "name4 = BASE+'0'+str(recommendations.iloc[2])[:2]+'/0'+str(recommendations.iloc[2])+'.jpg'\n",
    "\n",
    "plt.figure(figsize=(20,5))\n",
    "img2 = cv2.imread(name2)[:,:,::-1]\n",
    "img3 = cv2.imread(name3)[:,:,::-1]\n",
    "img4 = cv2.imread(name4)[:,:,::-1]\n",
    "\n",
    "plt.subplot(1,4,2)\n",
    "plt.title('Recommendation 1',size=18)\n",
    "plt.axis('off')\n",
    "plt.imshow(img2)\n",
    "plt.subplot(1,4,3)\n",
    "plt.title('Recommendation 2',size=18)\n",
    "plt.axis('off')\n",
    "plt.imshow(img3)\n",
    "plt.subplot(1,4,4)\n",
    "plt.title('Recommendation 3',size=18)\n",
    "plt.axis('off')\n",
    "plt.imshow(img4)\n",
    "plt.show() "
   ]
  },
  {
   "cell_type": "code",
   "execution_count": 80,
   "id": "fd8b3259",
   "metadata": {},
   "outputs": [
    {
     "data": {
      "text/html": [
       "<div>\n",
       "<style scoped>\n",
       "    .dataframe tbody tr th:only-of-type {\n",
       "        vertical-align: middle;\n",
       "    }\n",
       "\n",
       "    .dataframe tbody tr th {\n",
       "        vertical-align: top;\n",
       "    }\n",
       "\n",
       "    .dataframe thead th {\n",
       "        text-align: right;\n",
       "    }\n",
       "</style>\n",
       "<table border=\"1\" class=\"dataframe\">\n",
       "  <thead>\n",
       "    <tr style=\"text-align: right;\">\n",
       "      <th></th>\n",
       "      <th>Data</th>\n",
       "      <th>customer_id</th>\n",
       "      <th>article_id</th>\n",
       "      <th>price</th>\n",
       "      <th>sales_channel_id</th>\n",
       "    </tr>\n",
       "  </thead>\n",
       "  <tbody>\n",
       "    <tr>\n",
       "      <th>0</th>\n",
       "      <td>9/20/2020</td>\n",
       "      <td>000058a12d5b43e67d225668fa1f8d618c13dc232df0ca...</td>\n",
       "      <td>663713001</td>\n",
       "      <td>0.050831</td>\n",
       "      <td>2</td>\n",
       "    </tr>\n",
       "    <tr>\n",
       "      <th>1</th>\n",
       "      <td>9/20/2020</td>\n",
       "      <td>000058a12d5b43e67d225668fa1f8d618c13dc232df0ca...</td>\n",
       "      <td>541518023</td>\n",
       "      <td>0.030492</td>\n",
       "      <td>2</td>\n",
       "    </tr>\n",
       "    <tr>\n",
       "      <th>2</th>\n",
       "      <td>9/20/2020</td>\n",
       "      <td>00007d2de826758b65a93dd24ce629ed66842531df6699...</td>\n",
       "      <td>505221004</td>\n",
       "      <td>0.015237</td>\n",
       "      <td>2</td>\n",
       "    </tr>\n",
       "    <tr>\n",
       "      <th>3</th>\n",
       "      <td>9/20/2020</td>\n",
       "      <td>00007d2de826758b65a93dd24ce629ed66842531df6699...</td>\n",
       "      <td>685687003</td>\n",
       "      <td>0.016932</td>\n",
       "      <td>2</td>\n",
       "    </tr>\n",
       "    <tr>\n",
       "      <th>4</th>\n",
       "      <td>9/20/2020</td>\n",
       "      <td>00007d2de826758b65a93dd24ce629ed66842531df6699...</td>\n",
       "      <td>685687004</td>\n",
       "      <td>0.016932</td>\n",
       "      <td>2</td>\n",
       "    </tr>\n",
       "  </tbody>\n",
       "</table>\n",
       "</div>"
      ],
      "text/plain": [
       "        Data                                        customer_id article_id  \\\n",
       "0  9/20/2020  000058a12d5b43e67d225668fa1f8d618c13dc232df0ca...  663713001   \n",
       "1  9/20/2020  000058a12d5b43e67d225668fa1f8d618c13dc232df0ca...  541518023   \n",
       "2  9/20/2020  00007d2de826758b65a93dd24ce629ed66842531df6699...  505221004   \n",
       "3  9/20/2020  00007d2de826758b65a93dd24ce629ed66842531df6699...  685687003   \n",
       "4  9/20/2020  00007d2de826758b65a93dd24ce629ed66842531df6699...  685687004   \n",
       "\n",
       "      price sales_channel_id  \n",
       "0  0.050831                2  \n",
       "1  0.030492                2  \n",
       "2  0.015237                2  \n",
       "3  0.016932                2  \n",
       "4  0.016932                2  "
      ]
     },
     "execution_count": 80,
     "metadata": {},
     "output_type": "execute_result"
    }
   ],
   "source": [
    "# Using deep learning to recommend items\n",
    "transactions = pd.read_csv(\"D:/New folder/FYP/Retailers_Dataset.csv\")\n",
    "transactions = transactions.head(2000)\n",
    "transactions.head()"
   ]
  },
  {
   "cell_type": "code",
   "execution_count": 82,
   "id": "de3a6fcc",
   "metadata": {},
   "outputs": [
    {
     "data": {
      "text/html": [
       "<div>\n",
       "<style scoped>\n",
       "    .dataframe tbody tr th:only-of-type {\n",
       "        vertical-align: middle;\n",
       "    }\n",
       "\n",
       "    .dataframe tbody tr th {\n",
       "        vertical-align: top;\n",
       "    }\n",
       "\n",
       "    .dataframe thead th {\n",
       "        text-align: right;\n",
       "    }\n",
       "</style>\n",
       "<table border=\"1\" class=\"dataframe\">\n",
       "  <thead>\n",
       "    <tr style=\"text-align: right;\">\n",
       "      <th></th>\n",
       "      <th>customer_id</th>\n",
       "      <th>article_id</th>\n",
       "      <th>bought</th>\n",
       "    </tr>\n",
       "  </thead>\n",
       "  <tbody>\n",
       "    <tr>\n",
       "      <th>0</th>\n",
       "      <td>000058a12d5b43e67d225668fa1f8d618c13dc232df0ca...</td>\n",
       "      <td>663713001</td>\n",
       "      <td>1</td>\n",
       "    </tr>\n",
       "    <tr>\n",
       "      <th>1</th>\n",
       "      <td>000058a12d5b43e67d225668fa1f8d618c13dc232df0ca...</td>\n",
       "      <td>541518023</td>\n",
       "      <td>1</td>\n",
       "    </tr>\n",
       "    <tr>\n",
       "      <th>2</th>\n",
       "      <td>00007d2de826758b65a93dd24ce629ed66842531df6699...</td>\n",
       "      <td>505221004</td>\n",
       "      <td>1</td>\n",
       "    </tr>\n",
       "    <tr>\n",
       "      <th>3</th>\n",
       "      <td>00007d2de826758b65a93dd24ce629ed66842531df6699...</td>\n",
       "      <td>685687003</td>\n",
       "      <td>1</td>\n",
       "    </tr>\n",
       "    <tr>\n",
       "      <th>4</th>\n",
       "      <td>00007d2de826758b65a93dd24ce629ed66842531df6699...</td>\n",
       "      <td>685687004</td>\n",
       "      <td>1</td>\n",
       "    </tr>\n",
       "  </tbody>\n",
       "</table>\n",
       "</div>"
      ],
      "text/plain": [
       "                                         customer_id article_id  bought\n",
       "0  000058a12d5b43e67d225668fa1f8d618c13dc232df0ca...  663713001       1\n",
       "1  000058a12d5b43e67d225668fa1f8d618c13dc232df0ca...  541518023       1\n",
       "2  00007d2de826758b65a93dd24ce629ed66842531df6699...  505221004       1\n",
       "3  00007d2de826758b65a93dd24ce629ed66842531df6699...  685687003       1\n",
       "4  00007d2de826758b65a93dd24ce629ed66842531df6699...  685687004       1"
      ]
     },
     "execution_count": 82,
     "metadata": {},
     "output_type": "execute_result"
    }
   ],
   "source": [
    "transactions['bought'] = 1 #the interaction matrix will be binary\n",
    "df=transactions[['customer_id', 'article_id', 'bought']]\n",
    "df.head()"
   ]
  },
  {
   "cell_type": "code",
   "execution_count": 83,
   "id": "db77109b",
   "metadata": {},
   "outputs": [],
   "source": [
    "df = df.drop_duplicates()"
   ]
  },
  {
   "cell_type": "code",
   "execution_count": 84,
   "id": "db6da1a6",
   "metadata": {},
   "outputs": [
    {
     "data": {
      "text/html": [
       "<div>\n",
       "<style scoped>\n",
       "    .dataframe tbody tr th:only-of-type {\n",
       "        vertical-align: middle;\n",
       "    }\n",
       "\n",
       "    .dataframe tbody tr th {\n",
       "        vertical-align: top;\n",
       "    }\n",
       "\n",
       "    .dataframe thead th {\n",
       "        text-align: right;\n",
       "    }\n",
       "</style>\n",
       "<table border=\"1\" class=\"dataframe\">\n",
       "  <thead>\n",
       "    <tr style=\"text-align: right;\">\n",
       "      <th>article_id</th>\n",
       "      <th>108775015</th>\n",
       "      <th>110065001</th>\n",
       "      <th>111593001</th>\n",
       "      <th>153115039</th>\n",
       "      <th>156231001</th>\n",
       "      <th>156231002</th>\n",
       "      <th>160442007</th>\n",
       "      <th>176550020</th>\n",
       "      <th>179208001</th>\n",
       "      <th>179950001</th>\n",
       "      <th>...</th>\n",
       "      <th>713997001</th>\n",
       "      <th>714373001</th>\n",
       "      <th>714417001</th>\n",
       "      <th>714425001</th>\n",
       "      <th>716519001</th>\n",
       "      <th>719017002</th>\n",
       "      <th>720384002</th>\n",
       "      <th>725253001</th>\n",
       "      <th>728162001</th>\n",
       "      <th>728162002</th>\n",
       "    </tr>\n",
       "    <tr>\n",
       "      <th>customer_id</th>\n",
       "      <th></th>\n",
       "      <th></th>\n",
       "      <th></th>\n",
       "      <th></th>\n",
       "      <th></th>\n",
       "      <th></th>\n",
       "      <th></th>\n",
       "      <th></th>\n",
       "      <th></th>\n",
       "      <th></th>\n",
       "      <th></th>\n",
       "      <th></th>\n",
       "      <th></th>\n",
       "      <th></th>\n",
       "      <th></th>\n",
       "      <th></th>\n",
       "      <th></th>\n",
       "      <th></th>\n",
       "      <th></th>\n",
       "      <th></th>\n",
       "      <th></th>\n",
       "    </tr>\n",
       "  </thead>\n",
       "  <tbody>\n",
       "    <tr>\n",
       "      <th>000058a12d5b43e67d225668fa1f8d618c13dc232df0cad8ffe7ad4a1091e318</th>\n",
       "      <td>0.0</td>\n",
       "      <td>0.0</td>\n",
       "      <td>0.0</td>\n",
       "      <td>0.0</td>\n",
       "      <td>0.0</td>\n",
       "      <td>0.0</td>\n",
       "      <td>0.0</td>\n",
       "      <td>0.0</td>\n",
       "      <td>0.0</td>\n",
       "      <td>0.0</td>\n",
       "      <td>...</td>\n",
       "      <td>0.0</td>\n",
       "      <td>0.0</td>\n",
       "      <td>0.0</td>\n",
       "      <td>0.0</td>\n",
       "      <td>0.0</td>\n",
       "      <td>0.0</td>\n",
       "      <td>0.0</td>\n",
       "      <td>0.0</td>\n",
       "      <td>0.0</td>\n",
       "      <td>0.0</td>\n",
       "    </tr>\n",
       "    <tr>\n",
       "      <th>00007d2de826758b65a93dd24ce629ed66842531df6699338c5570910a014cc2</th>\n",
       "      <td>0.0</td>\n",
       "      <td>0.0</td>\n",
       "      <td>0.0</td>\n",
       "      <td>0.0</td>\n",
       "      <td>0.0</td>\n",
       "      <td>0.0</td>\n",
       "      <td>0.0</td>\n",
       "      <td>0.0</td>\n",
       "      <td>0.0</td>\n",
       "      <td>0.0</td>\n",
       "      <td>...</td>\n",
       "      <td>0.0</td>\n",
       "      <td>0.0</td>\n",
       "      <td>0.0</td>\n",
       "      <td>0.0</td>\n",
       "      <td>0.0</td>\n",
       "      <td>0.0</td>\n",
       "      <td>0.0</td>\n",
       "      <td>0.0</td>\n",
       "      <td>0.0</td>\n",
       "      <td>0.0</td>\n",
       "    </tr>\n",
       "    <tr>\n",
       "      <th>00083cda041544b2fbb0e0d2905ad17da7cf1007526fb4c73235dccbbc132280</th>\n",
       "      <td>0.0</td>\n",
       "      <td>0.0</td>\n",
       "      <td>0.0</td>\n",
       "      <td>0.0</td>\n",
       "      <td>0.0</td>\n",
       "      <td>0.0</td>\n",
       "      <td>0.0</td>\n",
       "      <td>0.0</td>\n",
       "      <td>0.0</td>\n",
       "      <td>0.0</td>\n",
       "      <td>...</td>\n",
       "      <td>0.0</td>\n",
       "      <td>0.0</td>\n",
       "      <td>0.0</td>\n",
       "      <td>0.0</td>\n",
       "      <td>0.0</td>\n",
       "      <td>0.0</td>\n",
       "      <td>0.0</td>\n",
       "      <td>0.0</td>\n",
       "      <td>0.0</td>\n",
       "      <td>0.0</td>\n",
       "    </tr>\n",
       "    <tr>\n",
       "      <th>0008968c0d451dbc5a9968da03196fe20051965edde7413775c4eb3be9abe9c2</th>\n",
       "      <td>0.0</td>\n",
       "      <td>0.0</td>\n",
       "      <td>0.0</td>\n",
       "      <td>0.0</td>\n",
       "      <td>0.0</td>\n",
       "      <td>0.0</td>\n",
       "      <td>0.0</td>\n",
       "      <td>0.0</td>\n",
       "      <td>0.0</td>\n",
       "      <td>0.0</td>\n",
       "      <td>...</td>\n",
       "      <td>0.0</td>\n",
       "      <td>0.0</td>\n",
       "      <td>0.0</td>\n",
       "      <td>0.0</td>\n",
       "      <td>0.0</td>\n",
       "      <td>0.0</td>\n",
       "      <td>0.0</td>\n",
       "      <td>0.0</td>\n",
       "      <td>0.0</td>\n",
       "      <td>0.0</td>\n",
       "    </tr>\n",
       "    <tr>\n",
       "      <th>000aa7f0dc06cd7174389e76c9e132a67860c5f65f970699daccc14425ac31a8</th>\n",
       "      <td>0.0</td>\n",
       "      <td>0.0</td>\n",
       "      <td>0.0</td>\n",
       "      <td>0.0</td>\n",
       "      <td>0.0</td>\n",
       "      <td>0.0</td>\n",
       "      <td>0.0</td>\n",
       "      <td>0.0</td>\n",
       "      <td>0.0</td>\n",
       "      <td>0.0</td>\n",
       "      <td>...</td>\n",
       "      <td>0.0</td>\n",
       "      <td>0.0</td>\n",
       "      <td>0.0</td>\n",
       "      <td>0.0</td>\n",
       "      <td>0.0</td>\n",
       "      <td>0.0</td>\n",
       "      <td>0.0</td>\n",
       "      <td>0.0</td>\n",
       "      <td>0.0</td>\n",
       "      <td>0.0</td>\n",
       "    </tr>\n",
       "    <tr>\n",
       "      <th>001127bffdda108579e6cb16080440e89bf1250a776c6e55f56e35e9ee029a8d</th>\n",
       "      <td>0.0</td>\n",
       "      <td>0.0</td>\n",
       "      <td>0.0</td>\n",
       "      <td>0.0</td>\n",
       "      <td>0.0</td>\n",
       "      <td>0.0</td>\n",
       "      <td>0.0</td>\n",
       "      <td>0.0</td>\n",
       "      <td>0.0</td>\n",
       "      <td>0.0</td>\n",
       "      <td>...</td>\n",
       "      <td>0.0</td>\n",
       "      <td>0.0</td>\n",
       "      <td>0.0</td>\n",
       "      <td>0.0</td>\n",
       "      <td>0.0</td>\n",
       "      <td>0.0</td>\n",
       "      <td>0.0</td>\n",
       "      <td>0.0</td>\n",
       "      <td>0.0</td>\n",
       "      <td>0.0</td>\n",
       "    </tr>\n",
       "    <tr>\n",
       "      <th>001ea4e9c54f7e9c88811260d954edc059d596147e1cf8adc73323aebf571fd8</th>\n",
       "      <td>0.0</td>\n",
       "      <td>0.0</td>\n",
       "      <td>0.0</td>\n",
       "      <td>0.0</td>\n",
       "      <td>0.0</td>\n",
       "      <td>0.0</td>\n",
       "      <td>0.0</td>\n",
       "      <td>0.0</td>\n",
       "      <td>0.0</td>\n",
       "      <td>0.0</td>\n",
       "      <td>...</td>\n",
       "      <td>0.0</td>\n",
       "      <td>0.0</td>\n",
       "      <td>0.0</td>\n",
       "      <td>0.0</td>\n",
       "      <td>0.0</td>\n",
       "      <td>0.0</td>\n",
       "      <td>0.0</td>\n",
       "      <td>0.0</td>\n",
       "      <td>0.0</td>\n",
       "      <td>0.0</td>\n",
       "    </tr>\n",
       "    <tr>\n",
       "      <th>001fd23db1109a94bba1319bb73df0b479059027c182da490e1161b34cd3af61</th>\n",
       "      <td>0.0</td>\n",
       "      <td>0.0</td>\n",
       "      <td>0.0</td>\n",
       "      <td>0.0</td>\n",
       "      <td>0.0</td>\n",
       "      <td>0.0</td>\n",
       "      <td>0.0</td>\n",
       "      <td>0.0</td>\n",
       "      <td>0.0</td>\n",
       "      <td>0.0</td>\n",
       "      <td>...</td>\n",
       "      <td>0.0</td>\n",
       "      <td>0.0</td>\n",
       "      <td>0.0</td>\n",
       "      <td>0.0</td>\n",
       "      <td>0.0</td>\n",
       "      <td>0.0</td>\n",
       "      <td>0.0</td>\n",
       "      <td>0.0</td>\n",
       "      <td>0.0</td>\n",
       "      <td>0.0</td>\n",
       "    </tr>\n",
       "    <tr>\n",
       "      <th>0021da829b898f82269fc51feded4eac2129058ee95bd75bb1591e2eb14ecc79</th>\n",
       "      <td>0.0</td>\n",
       "      <td>0.0</td>\n",
       "      <td>0.0</td>\n",
       "      <td>0.0</td>\n",
       "      <td>0.0</td>\n",
       "      <td>0.0</td>\n",
       "      <td>0.0</td>\n",
       "      <td>0.0</td>\n",
       "      <td>0.0</td>\n",
       "      <td>0.0</td>\n",
       "      <td>...</td>\n",
       "      <td>0.0</td>\n",
       "      <td>0.0</td>\n",
       "      <td>0.0</td>\n",
       "      <td>0.0</td>\n",
       "      <td>0.0</td>\n",
       "      <td>0.0</td>\n",
       "      <td>0.0</td>\n",
       "      <td>0.0</td>\n",
       "      <td>0.0</td>\n",
       "      <td>0.0</td>\n",
       "    </tr>\n",
       "    <tr>\n",
       "      <th>00228762ecff5b8d1ea6a2e52b96dafa198febddbc3bf350eb611f28e61ea6ce</th>\n",
       "      <td>0.0</td>\n",
       "      <td>0.0</td>\n",
       "      <td>0.0</td>\n",
       "      <td>0.0</td>\n",
       "      <td>0.0</td>\n",
       "      <td>0.0</td>\n",
       "      <td>0.0</td>\n",
       "      <td>0.0</td>\n",
       "      <td>0.0</td>\n",
       "      <td>0.0</td>\n",
       "      <td>...</td>\n",
       "      <td>0.0</td>\n",
       "      <td>0.0</td>\n",
       "      <td>0.0</td>\n",
       "      <td>0.0</td>\n",
       "      <td>0.0</td>\n",
       "      <td>0.0</td>\n",
       "      <td>0.0</td>\n",
       "      <td>0.0</td>\n",
       "      <td>0.0</td>\n",
       "      <td>0.0</td>\n",
       "    </tr>\n",
       "  </tbody>\n",
       "</table>\n",
       "<p>10 rows × 1496 columns</p>\n",
       "</div>"
      ],
      "text/plain": [
       "article_id                                          108775015  110065001  \\\n",
       "customer_id                                                                \n",
       "000058a12d5b43e67d225668fa1f8d618c13dc232df0cad...        0.0        0.0   \n",
       "00007d2de826758b65a93dd24ce629ed66842531df66993...        0.0        0.0   \n",
       "00083cda041544b2fbb0e0d2905ad17da7cf1007526fb4c...        0.0        0.0   \n",
       "0008968c0d451dbc5a9968da03196fe20051965edde7413...        0.0        0.0   \n",
       "000aa7f0dc06cd7174389e76c9e132a67860c5f65f97069...        0.0        0.0   \n",
       "001127bffdda108579e6cb16080440e89bf1250a776c6e5...        0.0        0.0   \n",
       "001ea4e9c54f7e9c88811260d954edc059d596147e1cf8a...        0.0        0.0   \n",
       "001fd23db1109a94bba1319bb73df0b479059027c182da4...        0.0        0.0   \n",
       "0021da829b898f82269fc51feded4eac2129058ee95bd75...        0.0        0.0   \n",
       "00228762ecff5b8d1ea6a2e52b96dafa198febddbc3bf35...        0.0        0.0   \n",
       "\n",
       "article_id                                          111593001  153115039  \\\n",
       "customer_id                                                                \n",
       "000058a12d5b43e67d225668fa1f8d618c13dc232df0cad...        0.0        0.0   \n",
       "00007d2de826758b65a93dd24ce629ed66842531df66993...        0.0        0.0   \n",
       "00083cda041544b2fbb0e0d2905ad17da7cf1007526fb4c...        0.0        0.0   \n",
       "0008968c0d451dbc5a9968da03196fe20051965edde7413...        0.0        0.0   \n",
       "000aa7f0dc06cd7174389e76c9e132a67860c5f65f97069...        0.0        0.0   \n",
       "001127bffdda108579e6cb16080440e89bf1250a776c6e5...        0.0        0.0   \n",
       "001ea4e9c54f7e9c88811260d954edc059d596147e1cf8a...        0.0        0.0   \n",
       "001fd23db1109a94bba1319bb73df0b479059027c182da4...        0.0        0.0   \n",
       "0021da829b898f82269fc51feded4eac2129058ee95bd75...        0.0        0.0   \n",
       "00228762ecff5b8d1ea6a2e52b96dafa198febddbc3bf35...        0.0        0.0   \n",
       "\n",
       "article_id                                          156231001  156231002  \\\n",
       "customer_id                                                                \n",
       "000058a12d5b43e67d225668fa1f8d618c13dc232df0cad...        0.0        0.0   \n",
       "00007d2de826758b65a93dd24ce629ed66842531df66993...        0.0        0.0   \n",
       "00083cda041544b2fbb0e0d2905ad17da7cf1007526fb4c...        0.0        0.0   \n",
       "0008968c0d451dbc5a9968da03196fe20051965edde7413...        0.0        0.0   \n",
       "000aa7f0dc06cd7174389e76c9e132a67860c5f65f97069...        0.0        0.0   \n",
       "001127bffdda108579e6cb16080440e89bf1250a776c6e5...        0.0        0.0   \n",
       "001ea4e9c54f7e9c88811260d954edc059d596147e1cf8a...        0.0        0.0   \n",
       "001fd23db1109a94bba1319bb73df0b479059027c182da4...        0.0        0.0   \n",
       "0021da829b898f82269fc51feded4eac2129058ee95bd75...        0.0        0.0   \n",
       "00228762ecff5b8d1ea6a2e52b96dafa198febddbc3bf35...        0.0        0.0   \n",
       "\n",
       "article_id                                          160442007  176550020  \\\n",
       "customer_id                                                                \n",
       "000058a12d5b43e67d225668fa1f8d618c13dc232df0cad...        0.0        0.0   \n",
       "00007d2de826758b65a93dd24ce629ed66842531df66993...        0.0        0.0   \n",
       "00083cda041544b2fbb0e0d2905ad17da7cf1007526fb4c...        0.0        0.0   \n",
       "0008968c0d451dbc5a9968da03196fe20051965edde7413...        0.0        0.0   \n",
       "000aa7f0dc06cd7174389e76c9e132a67860c5f65f97069...        0.0        0.0   \n",
       "001127bffdda108579e6cb16080440e89bf1250a776c6e5...        0.0        0.0   \n",
       "001ea4e9c54f7e9c88811260d954edc059d596147e1cf8a...        0.0        0.0   \n",
       "001fd23db1109a94bba1319bb73df0b479059027c182da4...        0.0        0.0   \n",
       "0021da829b898f82269fc51feded4eac2129058ee95bd75...        0.0        0.0   \n",
       "00228762ecff5b8d1ea6a2e52b96dafa198febddbc3bf35...        0.0        0.0   \n",
       "\n",
       "article_id                                          179208001  179950001  ...  \\\n",
       "customer_id                                                               ...   \n",
       "000058a12d5b43e67d225668fa1f8d618c13dc232df0cad...        0.0        0.0  ...   \n",
       "00007d2de826758b65a93dd24ce629ed66842531df66993...        0.0        0.0  ...   \n",
       "00083cda041544b2fbb0e0d2905ad17da7cf1007526fb4c...        0.0        0.0  ...   \n",
       "0008968c0d451dbc5a9968da03196fe20051965edde7413...        0.0        0.0  ...   \n",
       "000aa7f0dc06cd7174389e76c9e132a67860c5f65f97069...        0.0        0.0  ...   \n",
       "001127bffdda108579e6cb16080440e89bf1250a776c6e5...        0.0        0.0  ...   \n",
       "001ea4e9c54f7e9c88811260d954edc059d596147e1cf8a...        0.0        0.0  ...   \n",
       "001fd23db1109a94bba1319bb73df0b479059027c182da4...        0.0        0.0  ...   \n",
       "0021da829b898f82269fc51feded4eac2129058ee95bd75...        0.0        0.0  ...   \n",
       "00228762ecff5b8d1ea6a2e52b96dafa198febddbc3bf35...        0.0        0.0  ...   \n",
       "\n",
       "article_id                                          713997001  714373001  \\\n",
       "customer_id                                                                \n",
       "000058a12d5b43e67d225668fa1f8d618c13dc232df0cad...        0.0        0.0   \n",
       "00007d2de826758b65a93dd24ce629ed66842531df66993...        0.0        0.0   \n",
       "00083cda041544b2fbb0e0d2905ad17da7cf1007526fb4c...        0.0        0.0   \n",
       "0008968c0d451dbc5a9968da03196fe20051965edde7413...        0.0        0.0   \n",
       "000aa7f0dc06cd7174389e76c9e132a67860c5f65f97069...        0.0        0.0   \n",
       "001127bffdda108579e6cb16080440e89bf1250a776c6e5...        0.0        0.0   \n",
       "001ea4e9c54f7e9c88811260d954edc059d596147e1cf8a...        0.0        0.0   \n",
       "001fd23db1109a94bba1319bb73df0b479059027c182da4...        0.0        0.0   \n",
       "0021da829b898f82269fc51feded4eac2129058ee95bd75...        0.0        0.0   \n",
       "00228762ecff5b8d1ea6a2e52b96dafa198febddbc3bf35...        0.0        0.0   \n",
       "\n",
       "article_id                                          714417001  714425001  \\\n",
       "customer_id                                                                \n",
       "000058a12d5b43e67d225668fa1f8d618c13dc232df0cad...        0.0        0.0   \n",
       "00007d2de826758b65a93dd24ce629ed66842531df66993...        0.0        0.0   \n",
       "00083cda041544b2fbb0e0d2905ad17da7cf1007526fb4c...        0.0        0.0   \n",
       "0008968c0d451dbc5a9968da03196fe20051965edde7413...        0.0        0.0   \n",
       "000aa7f0dc06cd7174389e76c9e132a67860c5f65f97069...        0.0        0.0   \n",
       "001127bffdda108579e6cb16080440e89bf1250a776c6e5...        0.0        0.0   \n",
       "001ea4e9c54f7e9c88811260d954edc059d596147e1cf8a...        0.0        0.0   \n",
       "001fd23db1109a94bba1319bb73df0b479059027c182da4...        0.0        0.0   \n",
       "0021da829b898f82269fc51feded4eac2129058ee95bd75...        0.0        0.0   \n",
       "00228762ecff5b8d1ea6a2e52b96dafa198febddbc3bf35...        0.0        0.0   \n",
       "\n",
       "article_id                                          716519001  719017002  \\\n",
       "customer_id                                                                \n",
       "000058a12d5b43e67d225668fa1f8d618c13dc232df0cad...        0.0        0.0   \n",
       "00007d2de826758b65a93dd24ce629ed66842531df66993...        0.0        0.0   \n",
       "00083cda041544b2fbb0e0d2905ad17da7cf1007526fb4c...        0.0        0.0   \n",
       "0008968c0d451dbc5a9968da03196fe20051965edde7413...        0.0        0.0   \n",
       "000aa7f0dc06cd7174389e76c9e132a67860c5f65f97069...        0.0        0.0   \n",
       "001127bffdda108579e6cb16080440e89bf1250a776c6e5...        0.0        0.0   \n",
       "001ea4e9c54f7e9c88811260d954edc059d596147e1cf8a...        0.0        0.0   \n",
       "001fd23db1109a94bba1319bb73df0b479059027c182da4...        0.0        0.0   \n",
       "0021da829b898f82269fc51feded4eac2129058ee95bd75...        0.0        0.0   \n",
       "00228762ecff5b8d1ea6a2e52b96dafa198febddbc3bf35...        0.0        0.0   \n",
       "\n",
       "article_id                                          720384002  725253001  \\\n",
       "customer_id                                                                \n",
       "000058a12d5b43e67d225668fa1f8d618c13dc232df0cad...        0.0        0.0   \n",
       "00007d2de826758b65a93dd24ce629ed66842531df66993...        0.0        0.0   \n",
       "00083cda041544b2fbb0e0d2905ad17da7cf1007526fb4c...        0.0        0.0   \n",
       "0008968c0d451dbc5a9968da03196fe20051965edde7413...        0.0        0.0   \n",
       "000aa7f0dc06cd7174389e76c9e132a67860c5f65f97069...        0.0        0.0   \n",
       "001127bffdda108579e6cb16080440e89bf1250a776c6e5...        0.0        0.0   \n",
       "001ea4e9c54f7e9c88811260d954edc059d596147e1cf8a...        0.0        0.0   \n",
       "001fd23db1109a94bba1319bb73df0b479059027c182da4...        0.0        0.0   \n",
       "0021da829b898f82269fc51feded4eac2129058ee95bd75...        0.0        0.0   \n",
       "00228762ecff5b8d1ea6a2e52b96dafa198febddbc3bf35...        0.0        0.0   \n",
       "\n",
       "article_id                                          728162001  728162002  \n",
       "customer_id                                                               \n",
       "000058a12d5b43e67d225668fa1f8d618c13dc232df0cad...        0.0        0.0  \n",
       "00007d2de826758b65a93dd24ce629ed66842531df66993...        0.0        0.0  \n",
       "00083cda041544b2fbb0e0d2905ad17da7cf1007526fb4c...        0.0        0.0  \n",
       "0008968c0d451dbc5a9968da03196fe20051965edde7413...        0.0        0.0  \n",
       "000aa7f0dc06cd7174389e76c9e132a67860c5f65f97069...        0.0        0.0  \n",
       "001127bffdda108579e6cb16080440e89bf1250a776c6e5...        0.0        0.0  \n",
       "001ea4e9c54f7e9c88811260d954edc059d596147e1cf8a...        0.0        0.0  \n",
       "001fd23db1109a94bba1319bb73df0b479059027c182da4...        0.0        0.0  \n",
       "0021da829b898f82269fc51feded4eac2129058ee95bd75...        0.0        0.0  \n",
       "00228762ecff5b8d1ea6a2e52b96dafa198febddbc3bf35...        0.0        0.0  \n",
       "\n",
       "[10 rows x 1496 columns]"
      ]
     },
     "execution_count": 84,
     "metadata": {},
     "output_type": "execute_result"
    }
   ],
   "source": [
    "# Creating a sparse pivot table with customers in rows and items in columns\n",
    "customer_items_matrix_df = df.pivot(index   = 'customer_id', \n",
    "                                    columns = 'article_id', \n",
    "                                    values  = 'bought').fillna(0)\n",
    "customer_items_matrix_df.head(10)"
   ]
  },
  {
   "cell_type": "code",
   "execution_count": 85,
   "id": "c5a40941",
   "metadata": {},
   "outputs": [
    {
     "data": {
      "text/plain": [
       "(599, 1496)"
      ]
     },
     "execution_count": 85,
     "metadata": {},
     "output_type": "execute_result"
    }
   ],
   "source": [
    "customer_items_matrix_df.shape"
   ]
  },
  {
   "cell_type": "code",
   "execution_count": 86,
   "id": "2dad2ccb",
   "metadata": {},
   "outputs": [
    {
     "name": "stdout",
     "output_type": "stream",
     "text": [
      "(401, 1496) (198, 1496)\n"
     ]
    }
   ],
   "source": [
    "customer_items_matrix_df_train, customer_items_matrix_df_test = train_test_split(customer_items_matrix_df,test_size=0.33, random_state=42)\n",
    "print(customer_items_matrix_df_train.shape, customer_items_matrix_df_test.shape)"
   ]
  },
  {
   "cell_type": "code",
   "execution_count": 87,
   "id": "335c3239",
   "metadata": {},
   "outputs": [
    {
     "data": {
      "text/plain": [
       "0.20520223505407606"
      ]
     },
     "execution_count": 87,
     "metadata": {},
     "output_type": "execute_result"
    }
   ],
   "source": [
    "customer_items_matrix_df_train.values.mean()*100"
   ]
  },
  {
   "cell_type": "code",
   "execution_count": 88,
   "id": "310aec79",
   "metadata": {},
   "outputs": [],
   "source": [
    "def autoEncoder(X):\n",
    "   \n",
    "\n",
    "    # Input\n",
    "    input_layer = Input(shape=(X.shape[1],), name='UserScore')\n",
    "    \n",
    "    # Encoder\n",
    "    # -----------------------------\n",
    "    enc = Dense(512, activation='selu', name='EncLayer1')(input_layer)\n",
    "\n",
    "    # Latent Space\n",
    "    # -----------------------------\n",
    "    lat_space = Dense(256, activation='selu', name='LatentSpace')(enc)\n",
    "    lat_space = Dropout(0.8, name='Dropout')(lat_space) # Dropout\n",
    "\n",
    "    # Decoder\n",
    "    # -----------------------------\n",
    "    dec = Dense(512, activation='selu', name='DecLayer1')(lat_space)\n",
    "    \n",
    "    # Output\n",
    "    output_layer = Dense(X.shape[1], activation='linear', name='UserScorePred')(dec)\n",
    "\n",
    "    # this model maps an input to its reconstruction\n",
    "    model = Model(input_layer, output_layer)    \n",
    "    \n",
    "    return model"
   ]
  },
  {
   "cell_type": "code",
   "execution_count": 89,
   "id": "4708b06e",
   "metadata": {},
   "outputs": [
    {
     "name": "stderr",
     "output_type": "stream",
     "text": [
      "WARNING:absl:`lr` is deprecated in Keras optimizer, please use `learning_rate` or use the legacy optimizer, e.g.,tf.keras.optimizers.legacy.Adam.\n"
     ]
    },
    {
     "name": "stdout",
     "output_type": "stream",
     "text": [
      "Model: \"model\"\n",
      "_________________________________________________________________\n",
      " Layer (type)                Output Shape              Param #   \n",
      "=================================================================\n",
      " UserScore (InputLayer)      [(None, 1496)]            0         \n",
      "                                                                 \n",
      " EncLayer1 (Dense)           (None, 512)               766464    \n",
      "                                                                 \n",
      " LatentSpace (Dense)         (None, 256)               131328    \n",
      "                                                                 \n",
      " Dropout (Dropout)           (None, 256)               0         \n",
      "                                                                 \n",
      " DecLayer1 (Dense)           (None, 512)               131584    \n",
      "                                                                 \n",
      " UserScorePred (Dense)       (None, 1496)              767448    \n",
      "                                                                 \n",
      "=================================================================\n",
      "Total params: 1,796,824\n",
      "Trainable params: 1,796,824\n",
      "Non-trainable params: 0\n",
      "_________________________________________________________________\n"
     ]
    }
   ],
   "source": [
    "X = customer_items_matrix_df_train.values\n",
    "X.shape[1]\n",
    "model = autoEncoder(X)\n",
    "\n",
    "model.compile(optimizer = Adam(lr=0.0001), loss='mse')\n",
    "    \n",
    "model.summary()"
   ]
  },
  {
   "cell_type": "code",
   "execution_count": 90,
   "id": "6bbde522",
   "metadata": {},
   "outputs": [
    {
     "name": "stdout",
     "output_type": "stream",
     "text": [
      "Epoch 1/50\n",
      "6/6 [==============================] - 3s 191ms/step - loss: 0.0353 - val_loss: 0.0085\n",
      "Epoch 2/50\n",
      "6/6 [==============================] - 0s 61ms/step - loss: 0.0221 - val_loss: 0.0066\n",
      "Epoch 3/50\n",
      "6/6 [==============================] - 0s 42ms/step - loss: 0.0146 - val_loss: 0.0054\n",
      "Epoch 4/50\n",
      "6/6 [==============================] - 0s 43ms/step - loss: 0.0104 - val_loss: 0.0046\n",
      "Epoch 5/50\n",
      "6/6 [==============================] - 0s 43ms/step - loss: 0.0075 - val_loss: 0.0041\n",
      "Epoch 6/50\n",
      "6/6 [==============================] - 0s 37ms/step - loss: 0.0058 - val_loss: 0.0037\n",
      "Epoch 7/50\n",
      "6/6 [==============================] - 0s 37ms/step - loss: 0.0049 - val_loss: 0.0035\n",
      "Epoch 8/50\n",
      "6/6 [==============================] - 0s 40ms/step - loss: 0.0041 - val_loss: 0.0033\n",
      "Epoch 9/50\n",
      "6/6 [==============================] - 0s 50ms/step - loss: 0.0035 - val_loss: 0.0031\n",
      "Epoch 10/50\n",
      "6/6 [==============================] - 0s 49ms/step - loss: 0.0033 - val_loss: 0.0030\n",
      "Epoch 11/50\n",
      "6/6 [==============================] - 0s 52ms/step - loss: 0.0030 - val_loss: 0.0030\n",
      "Epoch 12/50\n",
      "6/6 [==============================] - 0s 44ms/step - loss: 0.0028 - val_loss: 0.0029\n",
      "Epoch 13/50\n",
      "6/6 [==============================] - 0s 46ms/step - loss: 0.0026 - val_loss: 0.0028\n",
      "Epoch 14/50\n",
      "6/6 [==============================] - 0s 44ms/step - loss: 0.0025 - val_loss: 0.0028\n",
      "Epoch 15/50\n",
      "6/6 [==============================] - 0s 42ms/step - loss: 0.0024 - val_loss: 0.0028\n",
      "Epoch 16/50\n",
      "6/6 [==============================] - 0s 45ms/step - loss: 0.0023 - val_loss: 0.0027\n",
      "Epoch 17/50\n",
      "6/6 [==============================] - 0s 45ms/step - loss: 0.0023 - val_loss: 0.0027\n",
      "Epoch 18/50\n",
      "6/6 [==============================] - 0s 42ms/step - loss: 0.0022 - val_loss: 0.0027\n",
      "Epoch 19/50\n",
      "6/6 [==============================] - 0s 44ms/step - loss: 0.0022 - val_loss: 0.0027\n",
      "Epoch 20/50\n",
      "6/6 [==============================] - 0s 44ms/step - loss: 0.0021 - val_loss: 0.0027\n",
      "Epoch 21/50\n",
      "6/6 [==============================] - 0s 49ms/step - loss: 0.0021 - val_loss: 0.0027\n",
      "Epoch 22/50\n",
      "6/6 [==============================] - 0s 45ms/step - loss: 0.0021 - val_loss: 0.0027\n",
      "Epoch 23/50\n",
      "6/6 [==============================] - 0s 50ms/step - loss: 0.0021 - val_loss: 0.0027\n",
      "Epoch 24/50\n",
      "6/6 [==============================] - 0s 47ms/step - loss: 0.0020 - val_loss: 0.0026\n",
      "Epoch 25/50\n",
      "6/6 [==============================] - 0s 43ms/step - loss: 0.0020 - val_loss: 0.0026\n",
      "Epoch 26/50\n",
      "6/6 [==============================] - 0s 46ms/step - loss: 0.0020 - val_loss: 0.0026\n",
      "Epoch 27/50\n",
      "6/6 [==============================] - 0s 45ms/step - loss: 0.0020 - val_loss: 0.0026\n",
      "Epoch 28/50\n",
      "6/6 [==============================] - 0s 44ms/step - loss: 0.0020 - val_loss: 0.0026\n",
      "Epoch 29/50\n",
      "6/6 [==============================] - 0s 45ms/step - loss: 0.0019 - val_loss: 0.0026\n",
      "Epoch 30/50\n",
      "6/6 [==============================] - 0s 44ms/step - loss: 0.0019 - val_loss: 0.0026\n",
      "Epoch 31/50\n",
      "6/6 [==============================] - 0s 46ms/step - loss: 0.0019 - val_loss: 0.0026\n",
      "Epoch 32/50\n",
      "6/6 [==============================] - 0s 54ms/step - loss: 0.0019 - val_loss: 0.0026\n",
      "Epoch 33/50\n",
      "6/6 [==============================] - 0s 45ms/step - loss: 0.0019 - val_loss: 0.0026\n",
      "Epoch 34/50\n",
      "6/6 [==============================] - 0s 48ms/step - loss: 0.0019 - val_loss: 0.0026\n",
      "Epoch 35/50\n",
      "6/6 [==============================] - 0s 47ms/step - loss: 0.0019 - val_loss: 0.0026\n",
      "Epoch 36/50\n",
      "6/6 [==============================] - 0s 45ms/step - loss: 0.0018 - val_loss: 0.0026\n",
      "Epoch 37/50\n",
      "6/6 [==============================] - 0s 47ms/step - loss: 0.0018 - val_loss: 0.0026\n",
      "Epoch 38/50\n",
      "6/6 [==============================] - 0s 41ms/step - loss: 0.0018 - val_loss: 0.0026\n",
      "Epoch 39/50\n",
      "6/6 [==============================] - 0s 42ms/step - loss: 0.0018 - val_loss: 0.0026\n",
      "Epoch 40/50\n",
      "6/6 [==============================] - 0s 42ms/step - loss: 0.0018 - val_loss: 0.0026\n",
      "Epoch 41/50\n",
      "6/6 [==============================] - 0s 43ms/step - loss: 0.0018 - val_loss: 0.0026\n",
      "Epoch 42/50\n",
      "6/6 [==============================] - 0s 42ms/step - loss: 0.0018 - val_loss: 0.0026\n",
      "Epoch 43/50\n",
      "6/6 [==============================] - 0s 42ms/step - loss: 0.0018 - val_loss: 0.0026\n",
      "Epoch 44/50\n",
      "6/6 [==============================] - 0s 40ms/step - loss: 0.0018 - val_loss: 0.0026\n",
      "Epoch 45/50\n",
      "6/6 [==============================] - 0s 40ms/step - loss: 0.0018 - val_loss: 0.0026\n",
      "Epoch 46/50\n",
      "6/6 [==============================] - 0s 48ms/step - loss: 0.0017 - val_loss: 0.0026\n",
      "Epoch 47/50\n",
      "6/6 [==============================] - 0s 45ms/step - loss: 0.0018 - val_loss: 0.0026\n",
      "Epoch 48/50\n",
      "6/6 [==============================] - 0s 49ms/step - loss: 0.0017 - val_loss: 0.0026\n",
      "Epoch 49/50\n",
      "6/6 [==============================] - 0s 47ms/step - loss: 0.0017 - val_loss: 0.0027\n",
      "Epoch 50/50\n",
      "6/6 [==============================] - 0s 46ms/step - loss: 0.0017 - val_loss: 0.0027\n"
     ]
    }
   ],
   "source": [
    "hist = model.fit(x=X, y=X,\n",
    "                  epochs=50,# Using 50 here instead of 10 or 20 improved the performance very much!\n",
    "                  batch_size=64,\n",
    "                  shuffle=True,\n",
    "                  validation_split=0.1)\n"
   ]
  },
  {
   "cell_type": "code",
   "execution_count": 91,
   "id": "49d56c2e",
   "metadata": {},
   "outputs": [
    {
     "data": {
      "image/png": "[encoded data removed]",
      "text/plain": [
       "<Figure size 640x480 with 1 Axes>"
      ]
     },
     "metadata": {},
     "output_type": "display_data"
    }
   ],
   "source": [
    "def plot_hist(hist):\n",
    "    # summarize history for loss\n",
    "    fig, ax = plt.subplots()  # create figure & 1 axis\n",
    "\n",
    "    plt.title('model loss')\n",
    "    plt.ylabel('loss')\n",
    "    plt.xlabel('epoch')\n",
    "    plt.legend(['train', 'test'], loc='upper left')\n",
    "\n",
    "    plt.plot(hist.history['loss'])\n",
    "    plt.plot(hist.history['val_loss'])\n",
    "\n",
    "plot_hist(hist)"
   ]
  },
  {
   "cell_type": "code",
   "execution_count": 92,
   "id": "02c3109f",
   "metadata": {},
   "outputs": [
    {
     "name": "stdout",
     "output_type": "stream",
     "text": [
      "13/13 [==============================] - 0s 10ms/step\n"
     ]
    },
    {
     "data": {
      "text/html": [
       "<div>\n",
       "<style scoped>\n",
       "    .dataframe tbody tr th:only-of-type {\n",
       "        vertical-align: middle;\n",
       "    }\n",
       "\n",
       "    .dataframe tbody tr th {\n",
       "        vertical-align: top;\n",
       "    }\n",
       "\n",
       "    .dataframe thead th {\n",
       "        text-align: right;\n",
       "    }\n",
       "</style>\n",
       "<table border=\"1\" class=\"dataframe\">\n",
       "  <thead>\n",
       "    <tr style=\"text-align: right;\">\n",
       "      <th>article_id</th>\n",
       "      <th>108775015</th>\n",
       "      <th>110065001</th>\n",
       "      <th>111593001</th>\n",
       "      <th>153115039</th>\n",
       "      <th>156231001</th>\n",
       "      <th>156231002</th>\n",
       "      <th>160442007</th>\n",
       "      <th>176550020</th>\n",
       "      <th>179208001</th>\n",
       "      <th>179950001</th>\n",
       "      <th>...</th>\n",
       "      <th>713997001</th>\n",
       "      <th>714373001</th>\n",
       "      <th>714417001</th>\n",
       "      <th>714425001</th>\n",
       "      <th>716519001</th>\n",
       "      <th>719017002</th>\n",
       "      <th>720384002</th>\n",
       "      <th>725253001</th>\n",
       "      <th>728162001</th>\n",
       "      <th>728162002</th>\n",
       "    </tr>\n",
       "    <tr>\n",
       "      <th>customer_id</th>\n",
       "      <th></th>\n",
       "      <th></th>\n",
       "      <th></th>\n",
       "      <th></th>\n",
       "      <th></th>\n",
       "      <th></th>\n",
       "      <th></th>\n",
       "      <th></th>\n",
       "      <th></th>\n",
       "      <th></th>\n",
       "      <th></th>\n",
       "      <th></th>\n",
       "      <th></th>\n",
       "      <th></th>\n",
       "      <th></th>\n",
       "      <th></th>\n",
       "      <th></th>\n",
       "      <th></th>\n",
       "      <th></th>\n",
       "      <th></th>\n",
       "      <th></th>\n",
       "    </tr>\n",
       "  </thead>\n",
       "  <tbody>\n",
       "    <tr>\n",
       "      <th>08ef984221fd7b8d9d903c991eec3cda5a3af7a82882c82dc9030c4d536a137c</th>\n",
       "      <td>0.000298</td>\n",
       "      <td>0.003112</td>\n",
       "      <td>-0.001544</td>\n",
       "      <td>0.001538</td>\n",
       "      <td>0.006518</td>\n",
       "      <td>0.006448</td>\n",
       "      <td>-0.007718</td>\n",
       "      <td>-0.006202</td>\n",
       "      <td>0.000127</td>\n",
       "      <td>-0.001362</td>\n",
       "      <td>...</td>\n",
       "      <td>-0.001191</td>\n",
       "      <td>0.001068</td>\n",
       "      <td>-0.004786</td>\n",
       "      <td>0.003137</td>\n",
       "      <td>-0.004427</td>\n",
       "      <td>0.002363</td>\n",
       "      <td>0.001539</td>\n",
       "      <td>0.002398</td>\n",
       "      <td>0.000932</td>\n",
       "      <td>0.001185</td>\n",
       "    </tr>\n",
       "    <tr>\n",
       "      <th>029ceb992cb63df03c109790046e3fdebfce0b63c968823dd461b7f18ecc6b30</th>\n",
       "      <td>0.043831</td>\n",
       "      <td>-0.009754</td>\n",
       "      <td>-0.007302</td>\n",
       "      <td>0.012591</td>\n",
       "      <td>0.017394</td>\n",
       "      <td>-0.000012</td>\n",
       "      <td>-0.025342</td>\n",
       "      <td>-0.011419</td>\n",
       "      <td>-0.012674</td>\n",
       "      <td>-0.006760</td>\n",
       "      <td>...</td>\n",
       "      <td>-0.025264</td>\n",
       "      <td>-0.016751</td>\n",
       "      <td>0.005873</td>\n",
       "      <td>0.002133</td>\n",
       "      <td>0.006370</td>\n",
       "      <td>0.000297</td>\n",
       "      <td>-0.012574</td>\n",
       "      <td>-0.007529</td>\n",
       "      <td>-0.012758</td>\n",
       "      <td>0.000884</td>\n",
       "    </tr>\n",
       "    <tr>\n",
       "      <th>02334389c86031bc841c43b000006162d3bdadd0a88acd650eaebdb3f1beb9c5</th>\n",
       "      <td>0.003727</td>\n",
       "      <td>-0.000985</td>\n",
       "      <td>0.003842</td>\n",
       "      <td>0.006006</td>\n",
       "      <td>0.007664</td>\n",
       "      <td>0.007467</td>\n",
       "      <td>-0.003040</td>\n",
       "      <td>-0.000008</td>\n",
       "      <td>0.007223</td>\n",
       "      <td>-0.003025</td>\n",
       "      <td>...</td>\n",
       "      <td>0.005129</td>\n",
       "      <td>0.007504</td>\n",
       "      <td>0.000173</td>\n",
       "      <td>0.005157</td>\n",
       "      <td>-0.000776</td>\n",
       "      <td>0.001929</td>\n",
       "      <td>0.003642</td>\n",
       "      <td>0.003335</td>\n",
       "      <td>-0.000477</td>\n",
       "      <td>0.005382</td>\n",
       "    </tr>\n",
       "    <tr>\n",
       "      <th>07a420b50098f077205a5d56780dd0d946034362b00198f7e5b5114876c29151</th>\n",
       "      <td>-0.003097</td>\n",
       "      <td>0.002481</td>\n",
       "      <td>0.003733</td>\n",
       "      <td>-0.001179</td>\n",
       "      <td>0.009342</td>\n",
       "      <td>0.009168</td>\n",
       "      <td>0.002179</td>\n",
       "      <td>-0.000462</td>\n",
       "      <td>0.003753</td>\n",
       "      <td>-0.000541</td>\n",
       "      <td>...</td>\n",
       "      <td>0.003626</td>\n",
       "      <td>0.005501</td>\n",
       "      <td>-0.004789</td>\n",
       "      <td>0.004535</td>\n",
       "      <td>0.010747</td>\n",
       "      <td>-0.002226</td>\n",
       "      <td>-0.001638</td>\n",
       "      <td>0.000469</td>\n",
       "      <td>-0.002302</td>\n",
       "      <td>0.002546</td>\n",
       "    </tr>\n",
       "    <tr>\n",
       "      <th>082fa45b5ed4935d58b92bc9044e5a249772a740d9d2ccae83e9895b5dcbe453</th>\n",
       "      <td>-0.005783</td>\n",
       "      <td>0.004256</td>\n",
       "      <td>0.001681</td>\n",
       "      <td>0.000529</td>\n",
       "      <td>0.002557</td>\n",
       "      <td>0.004101</td>\n",
       "      <td>-0.002324</td>\n",
       "      <td>0.002294</td>\n",
       "      <td>0.001397</td>\n",
       "      <td>-0.000723</td>\n",
       "      <td>...</td>\n",
       "      <td>0.004641</td>\n",
       "      <td>0.001649</td>\n",
       "      <td>-0.004121</td>\n",
       "      <td>0.007850</td>\n",
       "      <td>0.006248</td>\n",
       "      <td>0.000595</td>\n",
       "      <td>0.001176</td>\n",
       "      <td>0.001896</td>\n",
       "      <td>-0.001291</td>\n",
       "      <td>0.002815</td>\n",
       "    </tr>\n",
       "  </tbody>\n",
       "</table>\n",
       "<p>5 rows × 1496 columns</p>\n",
       "</div>"
      ],
      "text/plain": [
       "article_id                                          108775015  110065001  \\\n",
       "customer_id                                                                \n",
       "08ef984221fd7b8d9d903c991eec3cda5a3af7a82882c82...   0.000298   0.003112   \n",
       "029ceb992cb63df03c109790046e3fdebfce0b63c968823...   0.043831  -0.009754   \n",
       "02334389c86031bc841c43b000006162d3bdadd0a88acd6...   0.003727  -0.000985   \n",
       "07a420b50098f077205a5d56780dd0d946034362b00198f...  -0.003097   0.002481   \n",
       "082fa45b5ed4935d58b92bc9044e5a249772a740d9d2cca...  -0.005783   0.004256   \n",
       "\n",
       "article_id                                          111593001  153115039  \\\n",
       "customer_id                                                                \n",
       "08ef984221fd7b8d9d903c991eec3cda5a3af7a82882c82...  -0.001544   0.001538   \n",
       "029ceb992cb63df03c109790046e3fdebfce0b63c968823...  -0.007302   0.012591   \n",
       "02334389c86031bc841c43b000006162d3bdadd0a88acd6...   0.003842   0.006006   \n",
       "07a420b50098f077205a5d56780dd0d946034362b00198f...   0.003733  -0.001179   \n",
       "082fa45b5ed4935d58b92bc9044e5a249772a740d9d2cca...   0.001681   0.000529   \n",
       "\n",
       "article_id                                          156231001  156231002  \\\n",
       "customer_id                                                                \n",
       "08ef984221fd7b8d9d903c991eec3cda5a3af7a82882c82...   0.006518   0.006448   \n",
       "029ceb992cb63df03c109790046e3fdebfce0b63c968823...   0.017394  -0.000012   \n",
       "02334389c86031bc841c43b000006162d3bdadd0a88acd6...   0.007664   0.007467   \n",
       "07a420b50098f077205a5d56780dd0d946034362b00198f...   0.009342   0.009168   \n",
       "082fa45b5ed4935d58b92bc9044e5a249772a740d9d2cca...   0.002557   0.004101   \n",
       "\n",
       "article_id                                          160442007  176550020  \\\n",
       "customer_id                                                                \n",
       "08ef984221fd7b8d9d903c991eec3cda5a3af7a82882c82...  -0.007718  -0.006202   \n",
       "029ceb992cb63df03c109790046e3fdebfce0b63c968823...  -0.025342  -0.011419   \n",
       "02334389c86031bc841c43b000006162d3bdadd0a88acd6...  -0.003040  -0.000008   \n",
       "07a420b50098f077205a5d56780dd0d946034362b00198f...   0.002179  -0.000462   \n",
       "082fa45b5ed4935d58b92bc9044e5a249772a740d9d2cca...  -0.002324   0.002294   \n",
       "\n",
       "article_id                                          179208001  179950001  ...  \\\n",
       "customer_id                                                               ...   \n",
       "08ef984221fd7b8d9d903c991eec3cda5a3af7a82882c82...   0.000127  -0.001362  ...   \n",
       "029ceb992cb63df03c109790046e3fdebfce0b63c968823...  -0.012674  -0.006760  ...   \n",
       "02334389c86031bc841c43b000006162d3bdadd0a88acd6...   0.007223  -0.003025  ...   \n",
       "07a420b50098f077205a5d56780dd0d946034362b00198f...   0.003753  -0.000541  ...   \n",
       "082fa45b5ed4935d58b92bc9044e5a249772a740d9d2cca...   0.001397  -0.000723  ...   \n",
       "\n",
       "article_id                                          713997001  714373001  \\\n",
       "customer_id                                                                \n",
       "08ef984221fd7b8d9d903c991eec3cda5a3af7a82882c82...  -0.001191   0.001068   \n",
       "029ceb992cb63df03c109790046e3fdebfce0b63c968823...  -0.025264  -0.016751   \n",
       "02334389c86031bc841c43b000006162d3bdadd0a88acd6...   0.005129   0.007504   \n",
       "07a420b50098f077205a5d56780dd0d946034362b00198f...   0.003626   0.005501   \n",
       "082fa45b5ed4935d58b92bc9044e5a249772a740d9d2cca...   0.004641   0.001649   \n",
       "\n",
       "article_id                                          714417001  714425001  \\\n",
       "customer_id                                                                \n",
       "08ef984221fd7b8d9d903c991eec3cda5a3af7a82882c82...  -0.004786   0.003137   \n",
       "029ceb992cb63df03c109790046e3fdebfce0b63c968823...   0.005873   0.002133   \n",
       "02334389c86031bc841c43b000006162d3bdadd0a88acd6...   0.000173   0.005157   \n",
       "07a420b50098f077205a5d56780dd0d946034362b00198f...  -0.004789   0.004535   \n",
       "082fa45b5ed4935d58b92bc9044e5a249772a740d9d2cca...  -0.004121   0.007850   \n",
       "\n",
       "article_id                                          716519001  719017002  \\\n",
       "customer_id                                                                \n",
       "08ef984221fd7b8d9d903c991eec3cda5a3af7a82882c82...  -0.004427   0.002363   \n",
       "029ceb992cb63df03c109790046e3fdebfce0b63c968823...   0.006370   0.000297   \n",
       "02334389c86031bc841c43b000006162d3bdadd0a88acd6...  -0.000776   0.001929   \n",
       "07a420b50098f077205a5d56780dd0d946034362b00198f...   0.010747  -0.002226   \n",
       "082fa45b5ed4935d58b92bc9044e5a249772a740d9d2cca...   0.006248   0.000595   \n",
       "\n",
       "article_id                                          720384002  725253001  \\\n",
       "customer_id                                                                \n",
       "08ef984221fd7b8d9d903c991eec3cda5a3af7a82882c82...   0.001539   0.002398   \n",
       "029ceb992cb63df03c109790046e3fdebfce0b63c968823...  -0.012574  -0.007529   \n",
       "02334389c86031bc841c43b000006162d3bdadd0a88acd6...   0.003642   0.003335   \n",
       "07a420b50098f077205a5d56780dd0d946034362b00198f...  -0.001638   0.000469   \n",
       "082fa45b5ed4935d58b92bc9044e5a249772a740d9d2cca...   0.001176   0.001896   \n",
       "\n",
       "article_id                                          728162001  728162002  \n",
       "customer_id                                                               \n",
       "08ef984221fd7b8d9d903c991eec3cda5a3af7a82882c82...   0.000932   0.001185  \n",
       "029ceb992cb63df03c109790046e3fdebfce0b63c968823...  -0.012758   0.000884  \n",
       "02334389c86031bc841c43b000006162d3bdadd0a88acd6...  -0.000477   0.005382  \n",
       "07a420b50098f077205a5d56780dd0d946034362b00198f...  -0.002302   0.002546  \n",
       "082fa45b5ed4935d58b92bc9044e5a249772a740d9d2cca...  -0.001291   0.002815  \n",
       "\n",
       "[5 rows x 1496 columns]"
      ]
     },
     "execution_count": 92,
     "metadata": {},
     "output_type": "execute_result"
    }
   ],
   "source": [
    "new_matrix = model.predict(X) * (X[0] == 0)\n",
    "# converting the reconstructed matrix back to a Pandas dataframe\n",
    "new_customer_items_matrix_df  = pd.DataFrame(new_matrix, \n",
    "                                            columns = customer_items_matrix_df_train.columns, \n",
    "                                            index   = customer_items_matrix_df_train.index)\n",
    "new_customer_items_matrix_df.head()"
   ]
  },
  {
   "cell_type": "code",
   "execution_count": 93,
   "id": "62e847e1",
   "metadata": {},
   "outputs": [
    {
     "name": "stdout",
     "output_type": "stream",
     "text": [
      "-0.17245352 0.7353144\n"
     ]
    }
   ],
   "source": [
    "print(new_customer_items_matrix_df.values.min(), new_customer_items_matrix_df.values.max())"
   ]
  },
  {
   "cell_type": "code",
   "execution_count": 94,
   "id": "ebd4f3d0",
   "metadata": {},
   "outputs": [],
   "source": [
    "def recommender_for_customer(customer_id, interact_matrix, df_content, topn = 10):\n",
    "    '''\n",
    "    Recommender Articles for Customers\n",
    "    '''\n",
    "    pred_scores = interact_matrix.loc[customer_id].values\n",
    "\n",
    "    df_scores   = pd.DataFrame({'article_id': list(customer_items_matrix_df.columns), \n",
    "                               'score': pred_scores})\n",
    "\n",
    "    df_rec      = df_scores.set_index('article_id')\\\n",
    "                    .join(df_content.set_index('article_id'))\\\n",
    "                    .sort_values('score', ascending=False)\\\n",
    "                    .head(topn)[['score', 'prod_name']]\n",
    "    \n",
    "    return df_rec[df_rec.score > 0]"
   ]
  },
  {
   "cell_type": "code",
   "execution_count": 95,
   "id": "f22ce648",
   "metadata": {},
   "outputs": [
    {
     "data": {
      "text/html": [
       "<div>\n",
       "<style scoped>\n",
       "    .dataframe tbody tr th:only-of-type {\n",
       "        vertical-align: middle;\n",
       "    }\n",
       "\n",
       "    .dataframe tbody tr th {\n",
       "        vertical-align: top;\n",
       "    }\n",
       "\n",
       "    .dataframe thead th {\n",
       "        text-align: right;\n",
       "    }\n",
       "</style>\n",
       "<table border=\"1\" class=\"dataframe\">\n",
       "  <thead>\n",
       "    <tr style=\"text-align: right;\">\n",
       "      <th></th>\n",
       "      <th>score</th>\n",
       "      <th>prod_name</th>\n",
       "    </tr>\n",
       "    <tr>\n",
       "      <th>article_id</th>\n",
       "      <th></th>\n",
       "      <th></th>\n",
       "    </tr>\n",
       "  </thead>\n",
       "  <tbody>\n",
       "    <tr>\n",
       "      <th>684588001</th>\n",
       "      <td>1.0</td>\n",
       "      <td>Yen.</td>\n",
       "    </tr>\n",
       "    <tr>\n",
       "      <th>660618001</th>\n",
       "      <td>1.0</td>\n",
       "      <td>Chicago Twill TRS</td>\n",
       "    </tr>\n",
       "    <tr>\n",
       "      <th>692454002</th>\n",
       "      <td>1.0</td>\n",
       "      <td>EDC LAURA LACE TOP</td>\n",
       "    </tr>\n",
       "    <tr>\n",
       "      <th>543729003</th>\n",
       "      <td>1.0</td>\n",
       "      <td>Lagos</td>\n",
       "    </tr>\n",
       "    <tr>\n",
       "      <th>637255001</th>\n",
       "      <td>1.0</td>\n",
       "      <td>Gloss</td>\n",
       "    </tr>\n",
       "    <tr>\n",
       "      <th>657128001</th>\n",
       "      <td>1.0</td>\n",
       "      <td>Paleo</td>\n",
       "    </tr>\n",
       "    <tr>\n",
       "      <th>656719005</th>\n",
       "      <td>1.0</td>\n",
       "      <td>Serpente HW slim trouser</td>\n",
       "    </tr>\n",
       "    <tr>\n",
       "      <th>696447003</th>\n",
       "      <td>1.0</td>\n",
       "      <td>Flip dress</td>\n",
       "    </tr>\n",
       "    <tr>\n",
       "      <th>506110001</th>\n",
       "      <td>1.0</td>\n",
       "      <td>Coated Leggings</td>\n",
       "    </tr>\n",
       "    <tr>\n",
       "      <th>578311001</th>\n",
       "      <td>1.0</td>\n",
       "      <td>OL KATE PQ ballerina</td>\n",
       "    </tr>\n",
       "  </tbody>\n",
       "</table>\n",
       "</div>"
      ],
      "text/plain": [
       "            score                 prod_name\n",
       "article_id                                 \n",
       "684588001     1.0                      Yen.\n",
       "660618001     1.0         Chicago Twill TRS\n",
       "692454002     1.0        EDC LAURA LACE TOP\n",
       "543729003     1.0                     Lagos\n",
       "637255001     1.0                     Gloss\n",
       "657128001     1.0                     Paleo\n",
       "656719005     1.0  Serpente HW slim trouser\n",
       "696447003     1.0                Flip dress\n",
       "506110001     1.0           Coated Leggings\n",
       "578311001     1.0      OL KATE PQ ballerina"
      ]
     },
     "execution_count": 95,
     "metadata": {},
     "output_type": "execute_result"
    }
   ],
   "source": [
    "articles = pd.read_csv(\"D:/New folder/FYP/articles.csv\") \n",
    "\n",
    "# EXAMPLE: ARTICLE previously purchased by the customer\n",
    "recommender_for_customer(customer_id     = '029ceb992cb63df03c109790046e3fdebfce0b63c968823dd461b7f18ecc6b30', \n",
    "                         interact_matrix = customer_items_matrix_df, \n",
    "                         df_content      = articles)"
   ]
  },
  {
   "cell_type": "code",
   "execution_count": 96,
   "id": "e192e9ff",
   "metadata": {},
   "outputs": [
    {
     "data": {
      "text/html": [
       "<div>\n",
       "<style scoped>\n",
       "    .dataframe tbody tr th:only-of-type {\n",
       "        vertical-align: middle;\n",
       "    }\n",
       "\n",
       "    .dataframe tbody tr th {\n",
       "        vertical-align: top;\n",
       "    }\n",
       "\n",
       "    .dataframe thead th {\n",
       "        text-align: right;\n",
       "    }\n",
       "</style>\n",
       "<table border=\"1\" class=\"dataframe\">\n",
       "  <thead>\n",
       "    <tr style=\"text-align: right;\">\n",
       "      <th></th>\n",
       "      <th>score</th>\n",
       "      <th>prod_name</th>\n",
       "    </tr>\n",
       "    <tr>\n",
       "      <th>article_id</th>\n",
       "      <th></th>\n",
       "      <th></th>\n",
       "    </tr>\n",
       "  </thead>\n",
       "  <tbody>\n",
       "    <tr>\n",
       "      <th>531310002</th>\n",
       "      <td>0.042074</td>\n",
       "      <td>Drew Cardigan</td>\n",
       "    </tr>\n",
       "    <tr>\n",
       "      <th>529841001</th>\n",
       "      <td>0.040431</td>\n",
       "      <td>Lauper Sweater</td>\n",
       "    </tr>\n",
       "    <tr>\n",
       "      <th>685687004</th>\n",
       "      <td>0.038653</td>\n",
       "      <td>W YODA KNIT OL OFFER</td>\n",
       "    </tr>\n",
       "    <tr>\n",
       "      <th>685687003</th>\n",
       "      <td>0.021311</td>\n",
       "      <td>W YODA KNIT OL OFFER</td>\n",
       "    </tr>\n",
       "    <tr>\n",
       "      <th>591334003</th>\n",
       "      <td>0.021034</td>\n",
       "      <td>Flock (1)</td>\n",
       "    </tr>\n",
       "    <tr>\n",
       "      <th>608952004</th>\n",
       "      <td>0.020369</td>\n",
       "      <td>Fire</td>\n",
       "    </tr>\n",
       "    <tr>\n",
       "      <th>522561002</th>\n",
       "      <td>0.019076</td>\n",
       "      <td>Seine coat</td>\n",
       "    </tr>\n",
       "    <tr>\n",
       "      <th>662888001</th>\n",
       "      <td>0.018457</td>\n",
       "      <td>Miranda</td>\n",
       "    </tr>\n",
       "    <tr>\n",
       "      <th>654434002</th>\n",
       "      <td>0.017846</td>\n",
       "      <td>Whirlwind Thong Maple Mid</td>\n",
       "    </tr>\n",
       "    <tr>\n",
       "      <th>399201005</th>\n",
       "      <td>0.016719</td>\n",
       "      <td>Shaping Skinny H.W</td>\n",
       "    </tr>\n",
       "  </tbody>\n",
       "</table>\n",
       "</div>"
      ],
      "text/plain": [
       "               score                  prod_name\n",
       "article_id                                     \n",
       "531310002   0.042074              Drew Cardigan\n",
       "529841001   0.040431             Lauper Sweater\n",
       "685687004   0.038653       W YODA KNIT OL OFFER\n",
       "685687003   0.021311       W YODA KNIT OL OFFER\n",
       "591334003   0.021034                  Flock (1)\n",
       "608952004   0.020369                       Fire\n",
       "522561002   0.019076                 Seine coat\n",
       "662888001   0.018457                    Miranda\n",
       "654434002   0.017846  Whirlwind Thong Maple Mid\n",
       "399201005   0.016719         Shaping Skinny H.W"
      ]
     },
     "execution_count": 96,
     "metadata": {},
     "output_type": "execute_result"
    }
   ],
   "source": [
    "recommender_for_customer(customer_id     = '0008968c0d451dbc5a9968da03196fe20051965edde7413775c4eb3be9abe9c2', \n",
    "                         interact_matrix = new_customer_items_matrix_df, \n",
    "                         df_content      = articles)"
   ]
  },
  {
   "cell_type": "code",
   "execution_count": 97,
   "id": "e7069f5d",
   "metadata": {},
   "outputs": [
    {
     "data": {
      "text/plain": [
       "(198, 1496)"
      ]
     },
     "execution_count": 97,
     "metadata": {},
     "output_type": "execute_result"
    }
   ],
   "source": [
    "X_test = customer_items_matrix_df_test.values\n",
    "X_test.shape"
   ]
  },
  {
   "cell_type": "code",
   "execution_count": 98,
   "id": "d7b09658",
   "metadata": {},
   "outputs": [
    {
     "name": "stdout",
     "output_type": "stream",
     "text": [
      "7/7 [==============================] - 0s 6ms/step\n"
     ]
    },
    {
     "data": {
      "text/html": [
       "<div>\n",
       "<style scoped>\n",
       "    .dataframe tbody tr th:only-of-type {\n",
       "        vertical-align: middle;\n",
       "    }\n",
       "\n",
       "    .dataframe tbody tr th {\n",
       "        vertical-align: top;\n",
       "    }\n",
       "\n",
       "    .dataframe thead th {\n",
       "        text-align: right;\n",
       "    }\n",
       "</style>\n",
       "<table border=\"1\" class=\"dataframe\">\n",
       "  <thead>\n",
       "    <tr style=\"text-align: right;\">\n",
       "      <th>article_id</th>\n",
       "      <th>108775015</th>\n",
       "      <th>110065001</th>\n",
       "      <th>111593001</th>\n",
       "      <th>153115039</th>\n",
       "      <th>156231001</th>\n",
       "      <th>156231002</th>\n",
       "      <th>160442007</th>\n",
       "      <th>176550020</th>\n",
       "      <th>179208001</th>\n",
       "      <th>179950001</th>\n",
       "      <th>...</th>\n",
       "      <th>713997001</th>\n",
       "      <th>714373001</th>\n",
       "      <th>714417001</th>\n",
       "      <th>714425001</th>\n",
       "      <th>716519001</th>\n",
       "      <th>719017002</th>\n",
       "      <th>720384002</th>\n",
       "      <th>725253001</th>\n",
       "      <th>728162001</th>\n",
       "      <th>728162002</th>\n",
       "    </tr>\n",
       "    <tr>\n",
       "      <th>customer_id</th>\n",
       "      <th></th>\n",
       "      <th></th>\n",
       "      <th></th>\n",
       "      <th></th>\n",
       "      <th></th>\n",
       "      <th></th>\n",
       "      <th></th>\n",
       "      <th></th>\n",
       "      <th></th>\n",
       "      <th></th>\n",
       "      <th></th>\n",
       "      <th></th>\n",
       "      <th></th>\n",
       "      <th></th>\n",
       "      <th></th>\n",
       "      <th></th>\n",
       "      <th></th>\n",
       "      <th></th>\n",
       "      <th></th>\n",
       "      <th></th>\n",
       "      <th></th>\n",
       "    </tr>\n",
       "  </thead>\n",
       "  <tbody>\n",
       "    <tr>\n",
       "      <th>01f597f5eba83f9709eceb5a70a99f3a4009a6e827bf7293afa4211030a29fa4</th>\n",
       "      <td>-0.044540</td>\n",
       "      <td>-0.002213</td>\n",
       "      <td>0.000313</td>\n",
       "      <td>-0.008965</td>\n",
       "      <td>-0.027033</td>\n",
       "      <td>-0.022273</td>\n",
       "      <td>0.071222</td>\n",
       "      <td>0.003366</td>\n",
       "      <td>-0.030426</td>\n",
       "      <td>-0.015892</td>\n",
       "      <td>...</td>\n",
       "      <td>-0.009151</td>\n",
       "      <td>-0.012003</td>\n",
       "      <td>-0.009997</td>\n",
       "      <td>0.006907</td>\n",
       "      <td>0.003905</td>\n",
       "      <td>0.003341</td>\n",
       "      <td>0.002414</td>\n",
       "      <td>-0.018000</td>\n",
       "      <td>0.022243</td>\n",
       "      <td>-0.020637</td>\n",
       "    </tr>\n",
       "    <tr>\n",
       "      <th>077641946a092614f6da9c0ab14ce034907c4e168bd73ae680f423a11c20bf71</th>\n",
       "      <td>-0.281676</td>\n",
       "      <td>-0.016779</td>\n",
       "      <td>-0.001704</td>\n",
       "      <td>-0.023388</td>\n",
       "      <td>-0.014772</td>\n",
       "      <td>0.041779</td>\n",
       "      <td>0.045309</td>\n",
       "      <td>-0.107884</td>\n",
       "      <td>-0.016122</td>\n",
       "      <td>-0.012533</td>\n",
       "      <td>...</td>\n",
       "      <td>-0.004508</td>\n",
       "      <td>0.019363</td>\n",
       "      <td>-0.033573</td>\n",
       "      <td>-0.039519</td>\n",
       "      <td>0.037909</td>\n",
       "      <td>0.048203</td>\n",
       "      <td>-0.072269</td>\n",
       "      <td>-0.033875</td>\n",
       "      <td>-0.002561</td>\n",
       "      <td>-0.015713</td>\n",
       "    </tr>\n",
       "    <tr>\n",
       "      <th>0a3d969f9d990f20c038ad8a1b3e4a172e862717f3c992b4d6a8a7cc9f43ad0f</th>\n",
       "      <td>0.088079</td>\n",
       "      <td>0.009448</td>\n",
       "      <td>0.001524</td>\n",
       "      <td>0.008473</td>\n",
       "      <td>-0.023603</td>\n",
       "      <td>-0.007589</td>\n",
       "      <td>0.000128</td>\n",
       "      <td>0.053920</td>\n",
       "      <td>-0.009085</td>\n",
       "      <td>0.011347</td>\n",
       "      <td>...</td>\n",
       "      <td>-0.002315</td>\n",
       "      <td>0.002377</td>\n",
       "      <td>0.002934</td>\n",
       "      <td>0.001927</td>\n",
       "      <td>-0.001540</td>\n",
       "      <td>-0.010482</td>\n",
       "      <td>-0.024574</td>\n",
       "      <td>-0.011821</td>\n",
       "      <td>-0.005827</td>\n",
       "      <td>0.005774</td>\n",
       "    </tr>\n",
       "    <tr>\n",
       "      <th>015e83393e4fc3b071ba6fc5f174bf3bf9813c88dcaf3e61e34c6525984d0ed1</th>\n",
       "      <td>-0.029896</td>\n",
       "      <td>0.009667</td>\n",
       "      <td>-0.006059</td>\n",
       "      <td>-0.003088</td>\n",
       "      <td>0.007328</td>\n",
       "      <td>-0.000607</td>\n",
       "      <td>0.002728</td>\n",
       "      <td>-0.016510</td>\n",
       "      <td>-0.016274</td>\n",
       "      <td>-0.022685</td>\n",
       "      <td>...</td>\n",
       "      <td>-0.013019</td>\n",
       "      <td>0.010672</td>\n",
       "      <td>-0.012046</td>\n",
       "      <td>-0.021699</td>\n",
       "      <td>0.020438</td>\n",
       "      <td>-0.012682</td>\n",
       "      <td>0.008036</td>\n",
       "      <td>0.016907</td>\n",
       "      <td>0.011062</td>\n",
       "      <td>0.006184</td>\n",
       "    </tr>\n",
       "    <tr>\n",
       "      <th>03176a1445de4730c2ca5d514c3ce2182972ad42dfae65f4549778a2e918a7bd</th>\n",
       "      <td>-0.087620</td>\n",
       "      <td>0.034297</td>\n",
       "      <td>0.027642</td>\n",
       "      <td>-0.008068</td>\n",
       "      <td>0.009669</td>\n",
       "      <td>0.030981</td>\n",
       "      <td>0.047299</td>\n",
       "      <td>0.042225</td>\n",
       "      <td>-0.010810</td>\n",
       "      <td>-0.002393</td>\n",
       "      <td>...</td>\n",
       "      <td>-0.016710</td>\n",
       "      <td>-0.049324</td>\n",
       "      <td>0.001109</td>\n",
       "      <td>0.004447</td>\n",
       "      <td>0.033351</td>\n",
       "      <td>0.017154</td>\n",
       "      <td>-0.000474</td>\n",
       "      <td>0.043010</td>\n",
       "      <td>0.029002</td>\n",
       "      <td>-0.014331</td>\n",
       "    </tr>\n",
       "  </tbody>\n",
       "</table>\n",
       "<p>5 rows × 1496 columns</p>\n",
       "</div>"
      ],
      "text/plain": [
       "article_id                                          108775015  110065001  \\\n",
       "customer_id                                                                \n",
       "01f597f5eba83f9709eceb5a70a99f3a4009a6e827bf729...  -0.044540  -0.002213   \n",
       "077641946a092614f6da9c0ab14ce034907c4e168bd73ae...  -0.281676  -0.016779   \n",
       "0a3d969f9d990f20c038ad8a1b3e4a172e862717f3c992b...   0.088079   0.009448   \n",
       "015e83393e4fc3b071ba6fc5f174bf3bf9813c88dcaf3e6...  -0.029896   0.009667   \n",
       "03176a1445de4730c2ca5d514c3ce2182972ad42dfae65f...  -0.087620   0.034297   \n",
       "\n",
       "article_id                                          111593001  153115039  \\\n",
       "customer_id                                                                \n",
       "01f597f5eba83f9709eceb5a70a99f3a4009a6e827bf729...   0.000313  -0.008965   \n",
       "077641946a092614f6da9c0ab14ce034907c4e168bd73ae...  -0.001704  -0.023388   \n",
       "0a3d969f9d990f20c038ad8a1b3e4a172e862717f3c992b...   0.001524   0.008473   \n",
       "015e83393e4fc3b071ba6fc5f174bf3bf9813c88dcaf3e6...  -0.006059  -0.003088   \n",
       "03176a1445de4730c2ca5d514c3ce2182972ad42dfae65f...   0.027642  -0.008068   \n",
       "\n",
       "article_id                                          156231001  156231002  \\\n",
       "customer_id                                                                \n",
       "01f597f5eba83f9709eceb5a70a99f3a4009a6e827bf729...  -0.027033  -0.022273   \n",
       "077641946a092614f6da9c0ab14ce034907c4e168bd73ae...  -0.014772   0.041779   \n",
       "0a3d969f9d990f20c038ad8a1b3e4a172e862717f3c992b...  -0.023603  -0.007589   \n",
       "015e83393e4fc3b071ba6fc5f174bf3bf9813c88dcaf3e6...   0.007328  -0.000607   \n",
       "03176a1445de4730c2ca5d514c3ce2182972ad42dfae65f...   0.009669   0.030981   \n",
       "\n",
       "article_id                                          160442007  176550020  \\\n",
       "customer_id                                                                \n",
       "01f597f5eba83f9709eceb5a70a99f3a4009a6e827bf729...   0.071222   0.003366   \n",
       "077641946a092614f6da9c0ab14ce034907c4e168bd73ae...   0.045309  -0.107884   \n",
       "0a3d969f9d990f20c038ad8a1b3e4a172e862717f3c992b...   0.000128   0.053920   \n",
       "015e83393e4fc3b071ba6fc5f174bf3bf9813c88dcaf3e6...   0.002728  -0.016510   \n",
       "03176a1445de4730c2ca5d514c3ce2182972ad42dfae65f...   0.047299   0.042225   \n",
       "\n",
       "article_id                                          179208001  179950001  ...  \\\n",
       "customer_id                                                               ...   \n",
       "01f597f5eba83f9709eceb5a70a99f3a4009a6e827bf729...  -0.030426  -0.015892  ...   \n",
       "077641946a092614f6da9c0ab14ce034907c4e168bd73ae...  -0.016122  -0.012533  ...   \n",
       "0a3d969f9d990f20c038ad8a1b3e4a172e862717f3c992b...  -0.009085   0.011347  ...   \n",
       "015e83393e4fc3b071ba6fc5f174bf3bf9813c88dcaf3e6...  -0.016274  -0.022685  ...   \n",
       "03176a1445de4730c2ca5d514c3ce2182972ad42dfae65f...  -0.010810  -0.002393  ...   \n",
       "\n",
       "article_id                                          713997001  714373001  \\\n",
       "customer_id                                                                \n",
       "01f597f5eba83f9709eceb5a70a99f3a4009a6e827bf729...  -0.009151  -0.012003   \n",
       "077641946a092614f6da9c0ab14ce034907c4e168bd73ae...  -0.004508   0.019363   \n",
       "0a3d969f9d990f20c038ad8a1b3e4a172e862717f3c992b...  -0.002315   0.002377   \n",
       "015e83393e4fc3b071ba6fc5f174bf3bf9813c88dcaf3e6...  -0.013019   0.010672   \n",
       "03176a1445de4730c2ca5d514c3ce2182972ad42dfae65f...  -0.016710  -0.049324   \n",
       "\n",
       "article_id                                          714417001  714425001  \\\n",
       "customer_id                                                                \n",
       "01f597f5eba83f9709eceb5a70a99f3a4009a6e827bf729...  -0.009997   0.006907   \n",
       "077641946a092614f6da9c0ab14ce034907c4e168bd73ae...  -0.033573  -0.039519   \n",
       "0a3d969f9d990f20c038ad8a1b3e4a172e862717f3c992b...   0.002934   0.001927   \n",
       "015e83393e4fc3b071ba6fc5f174bf3bf9813c88dcaf3e6...  -0.012046  -0.021699   \n",
       "03176a1445de4730c2ca5d514c3ce2182972ad42dfae65f...   0.001109   0.004447   \n",
       "\n",
       "article_id                                          716519001  719017002  \\\n",
       "customer_id                                                                \n",
       "01f597f5eba83f9709eceb5a70a99f3a4009a6e827bf729...   0.003905   0.003341   \n",
       "077641946a092614f6da9c0ab14ce034907c4e168bd73ae...   0.037909   0.048203   \n",
       "0a3d969f9d990f20c038ad8a1b3e4a172e862717f3c992b...  -0.001540  -0.010482   \n",
       "015e83393e4fc3b071ba6fc5f174bf3bf9813c88dcaf3e6...   0.020438  -0.012682   \n",
       "03176a1445de4730c2ca5d514c3ce2182972ad42dfae65f...   0.033351   0.017154   \n",
       "\n",
       "article_id                                          720384002  725253001  \\\n",
       "customer_id                                                                \n",
       "01f597f5eba83f9709eceb5a70a99f3a4009a6e827bf729...   0.002414  -0.018000   \n",
       "077641946a092614f6da9c0ab14ce034907c4e168bd73ae...  -0.072269  -0.033875   \n",
       "0a3d969f9d990f20c038ad8a1b3e4a172e862717f3c992b...  -0.024574  -0.011821   \n",
       "015e83393e4fc3b071ba6fc5f174bf3bf9813c88dcaf3e6...   0.008036   0.016907   \n",
       "03176a1445de4730c2ca5d514c3ce2182972ad42dfae65f...  -0.000474   0.043010   \n",
       "\n",
       "article_id                                          728162001  728162002  \n",
       "customer_id                                                               \n",
       "01f597f5eba83f9709eceb5a70a99f3a4009a6e827bf729...   0.022243  -0.020637  \n",
       "077641946a092614f6da9c0ab14ce034907c4e168bd73ae...  -0.002561  -0.015713  \n",
       "0a3d969f9d990f20c038ad8a1b3e4a172e862717f3c992b...  -0.005827   0.005774  \n",
       "015e83393e4fc3b071ba6fc5f174bf3bf9813c88dcaf3e6...   0.011062   0.006184  \n",
       "03176a1445de4730c2ca5d514c3ce2182972ad42dfae65f...   0.029002  -0.014331  \n",
       "\n",
       "[5 rows x 1496 columns]"
      ]
     },
     "execution_count": 98,
     "metadata": {},
     "output_type": "execute_result"
    }
   ],
   "source": [
    "new_matrix_test = model.predict(X_test) * (X_test[0] == 0)\n",
    "new_customer_items_matrix_df_test  = pd.DataFrame(new_matrix_test, \n",
    "                                            columns = customer_items_matrix_df_test.columns, \n",
    "                                            index   = customer_items_matrix_df_test.index)\n",
    "new_customer_items_matrix_df_test.head()"
   ]
  },
  {
   "cell_type": "code",
   "execution_count": 99,
   "id": "00d704dd",
   "metadata": {},
   "outputs": [
    {
     "name": "stdout",
     "output_type": "stream",
     "text": [
      "            score         prod_name\n",
      "article_id                         \n",
      "657497007     1.0  Bellini price CF\n",
      "625773001     1.0           Portman\n",
      "456163026     1.0         Woody (1)\n",
      "674336001     1.0       Kamikaze CF\n",
      "676954001     1.0     Memphis Dress\n"
     ]
    }
   ],
   "source": [
    "recommendations = recommender_for_customer(customer_id     = '01f597f5eba83f9709eceb5a70a99f3a4009a6e827bf7293afa4211030a29fa4', \n",
    "                                           interact_matrix = customer_items_matrix_df_test, \n",
    "                                           df_content      = articles)\n",
    "print(recommendations)"
   ]
  },
  {
   "cell_type": "code",
   "execution_count": 100,
   "id": "11e88051",
   "metadata": {},
   "outputs": [
    {
     "name": "stdout",
     "output_type": "stream",
     "text": [
      "[657497007, 625773001, 456163026, 674336001, 676954001]\n"
     ]
    }
   ],
   "source": [
    "recommendation_indices = recommendations.index.tolist()\n",
    "print(recommendation_indices)"
   ]
  },
  {
   "cell_type": "code",
   "execution_count": 101,
   "id": "beb99f01",
   "metadata": {},
   "outputs": [
    {
     "data": {
      "image/png": "[encoded data removed]",
      "text/plain": [
       "<Figure size 2000x500 with 1 Axes>"
      ]
     },
     "metadata": {},
     "output_type": "display_data"
    },
    {
     "data": {
      "image/png": "[encoded data removed]",
      "text/plain": [
       "<Figure size 2000x500 with 1 Axes>"
      ]
     },
     "metadata": {},
     "output_type": "display_data"
    },
    {
     "data": {
      "image/png": "[encoded data removed]",
      "text/plain": [
       "<Figure size 2000x500 with 1 Axes>"
      ]
     },
     "metadata": {},
     "output_type": "display_data"
    },
    {
     "data": {
      "image/png": "[encoded data removed]",
      "text/plain": [
       "<Figure size 2000x500 with 1 Axes>"
      ]
     },
     "metadata": {},
     "output_type": "display_data"
    },
    {
     "data": {
      "image/png": "[encoded data removed]",
      "text/plain": [
       "<Figure size 2000x500 with 1 Axes>"
      ]
     },
     "metadata": {},
     "output_type": "display_data"
    }
   ],
   "source": [
    "counter = 1\n",
    "\n",
    "for iRec in recommendation_indices:\n",
    "    name = BASE+'0'+str(iRec)[:2]+'/0'+str(iRec)+'.jpg'\n",
    "    plt.figure(figsize=(20,5))\n",
    "    img = cv2.imread(name)[:,:,::-1]\n",
    "    plt.subplot(1,5,counter)\n",
    "    plt.title('Recommendation ' + str(counter),size=18)\n",
    "    plt.axis('off')\n",
    "    plt.imshow(img)\n",
    "    counter = counter + 1"
   ]
  },
  {
   "cell_type": "code",
   "execution_count": null,
   "id": "fc1c5a67",
   "metadata": {},
   "outputs": [],
   "source": []
  }
 ],
 "metadata": {
  "kernelspec": {
   "display_name": "Python 3 (ipykernel)",
   "language": "python",
   "name": "python3"
  },
  "language_info": {
   "codemirror_mode": {
    "name": "ipython",
    "version": 3
   },
   "file_extension": ".py",
   "mimetype": "text/x-python",
   "name": "python",
   "nbconvert_exporter": "python",
   "pygments_lexer": "ipython3",
   "version": "3.10.9"
  }
 },
 "nbformat": 4,
 "nbformat_minor": 5
}
